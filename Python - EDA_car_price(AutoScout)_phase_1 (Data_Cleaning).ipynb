{
 "cells": [
  {
   "cell_type": "markdown",
   "id": "3e5a27f3",
   "metadata": {},
   "source": [
    "# Data Cleaning - Part 1"
   ]
  },
  {
   "cell_type": "code",
   "execution_count": 1,
   "id": "b11bd995",
   "metadata": {},
   "outputs": [
    {
     "name": "stdout",
     "output_type": "stream",
     "text": [
      "Requirement already satisfied: numpy in c:\\users\\mustermann\\anaconda3\\lib\\site-packages (1.24.2)\n"
     ]
    },
    {
     "name": "stderr",
     "output_type": "stream",
     "text": [
      "C:\\Users\\Mustermann\\anaconda3\\lib\\site-packages\\scipy\\__init__.py:146: UserWarning: A NumPy version >=1.16.5 and <1.23.0 is required for this version of SciPy (detected version 1.24.2\n",
      "  warnings.warn(f\"A NumPy version >={np_minversion} and <{np_maxversion}\"\n"
     ]
    }
   ],
   "source": [
    "!pip install numpy\n",
    "import numpy as np\n",
    "import pandas as pd\n",
    "import seaborn as sns\n",
    "import matplotlib.pyplot as plt\n",
    "import re"
   ]
  },
  {
   "cell_type": "code",
   "execution_count": 2,
   "id": "bea26f62",
   "metadata": {},
   "outputs": [],
   "source": [
    "from skimpy import clean_columns"
   ]
  },
  {
   "cell_type": "code",
   "execution_count": 3,
   "id": "cad13707",
   "metadata": {},
   "outputs": [],
   "source": [
    "pd.set_option(\"display.float_format\", lambda x : '%.2f' %x)  # 2 decimal place"
   ]
  },
  {
   "cell_type": "code",
   "execution_count": 4,
   "id": "fe463632",
   "metadata": {},
   "outputs": [],
   "source": [
    "df0 = pd.read_json(\"as24_cars.json\")\n",
    "df = df0.copy()"
   ]
  },
  {
   "cell_type": "code",
   "execution_count": 5,
   "id": "16693db6",
   "metadata": {},
   "outputs": [
    {
     "data": {
      "text/html": [
       "<div>\n",
       "<style scoped>\n",
       "    .dataframe tbody tr th:only-of-type {\n",
       "        vertical-align: middle;\n",
       "    }\n",
       "\n",
       "    .dataframe tbody tr th {\n",
       "        vertical-align: top;\n",
       "    }\n",
       "\n",
       "    .dataframe thead th {\n",
       "        text-align: right;\n",
       "    }\n",
       "</style>\n",
       "<table border=\"1\" class=\"dataframe\">\n",
       "  <thead>\n",
       "    <tr style=\"text-align: right;\">\n",
       "      <th></th>\n",
       "      <th>0</th>\n",
       "      <th>1</th>\n",
       "      <th>2</th>\n",
       "    </tr>\n",
       "  </thead>\n",
       "  <tbody>\n",
       "    <tr>\n",
       "      <th>make_model</th>\n",
       "      <td>Mercedes-Benz A 160</td>\n",
       "      <td>Mercedes-Benz EQE 350</td>\n",
       "      <td>Mercedes-Benz A 45 AMG</td>\n",
       "    </tr>\n",
       "    <tr>\n",
       "      <th>short_description</th>\n",
       "      <td>CDi</td>\n",
       "      <td>350+</td>\n",
       "      <td>S 4Matic+ 8G-DCT</td>\n",
       "    </tr>\n",
       "    <tr>\n",
       "      <th>make</th>\n",
       "      <td>\\nMercedes-Benz\\n</td>\n",
       "      <td>\\nMercedes-Benz\\n</td>\n",
       "      <td>\\nMercedes-Benz\\n</td>\n",
       "    </tr>\n",
       "    <tr>\n",
       "      <th>model</th>\n",
       "      <td>[\\n, A 160 ,\\n]</td>\n",
       "      <td>[\\n, EQE 350 ,\\n]</td>\n",
       "      <td>[\\n, A 45 AMG ,\\n]</td>\n",
       "    </tr>\n",
       "    <tr>\n",
       "      <th>location</th>\n",
       "      <td>P.I. EL PALMAR C/FORJA 6,  11500 PUERTO DE SAN...</td>\n",
       "      <td>APARTADO DE CORREOS 1032,  26140 LOGROÑO, ES</td>\n",
       "      <td>PORT. TARRACO, MOLL DE LLEVANT, Nº 5, LOC. 6-8...</td>\n",
       "    </tr>\n",
       "    <tr>\n",
       "      <th>price</th>\n",
       "      <td>€ 16,950.-</td>\n",
       "      <td>€ 80,900.-</td>\n",
       "      <td>€ 69,900.-</td>\n",
       "    </tr>\n",
       "    <tr>\n",
       "      <th>Body type</th>\n",
       "      <td>[\\n, Compact, \\n]</td>\n",
       "      <td>[\\n, Compact, \\n]</td>\n",
       "      <td>[\\n, Compact, \\n]</td>\n",
       "    </tr>\n",
       "    <tr>\n",
       "      <th>Type</th>\n",
       "      <td>[\\n, Used, \\n]</td>\n",
       "      <td>[\\n, Pre-registered, \\n]</td>\n",
       "      <td>[\\n, Used, \\n]</td>\n",
       "    </tr>\n",
       "    <tr>\n",
       "      <th>Doors</th>\n",
       "      <td>[\\n, 5, \\n]</td>\n",
       "      <td>[\\n, 4, \\n]</td>\n",
       "      <td>[\\n, 5, \\n]</td>\n",
       "    </tr>\n",
       "    <tr>\n",
       "      <th>Country version</th>\n",
       "      <td>[\\n, Spain, \\n]</td>\n",
       "      <td>[\\n, Spain, \\n]</td>\n",
       "      <td>[\\n, Spain, \\n]</td>\n",
       "    </tr>\n",
       "    <tr>\n",
       "      <th>Offer number</th>\n",
       "      <td>[\\n, 7468157, \\n]</td>\n",
       "      <td>[\\n, 7054863, \\n]</td>\n",
       "      <td>[\\n, 7410454, \\n]</td>\n",
       "    </tr>\n",
       "    <tr>\n",
       "      <th>Warranty</th>\n",
       "      <td>[\\n, 24 months, \\n]</td>\n",
       "      <td>[\\n, 24 months, \\n]</td>\n",
       "      <td>[\\n, 12 months, \\n]</td>\n",
       "    </tr>\n",
       "    <tr>\n",
       "      <th>Mileage</th>\n",
       "      <td>120,200 km</td>\n",
       "      <td>5,000 km</td>\n",
       "      <td>18,900 km</td>\n",
       "    </tr>\n",
       "    <tr>\n",
       "      <th>First registration</th>\n",
       "      <td>06/2016</td>\n",
       "      <td>06/2022</td>\n",
       "      <td>07/2020</td>\n",
       "    </tr>\n",
       "    <tr>\n",
       "      <th>Gearbox</th>\n",
       "      <td>[\\nManual\\n]</td>\n",
       "      <td>[\\nAutomatic\\n]</td>\n",
       "      <td>[\\nAutomatic\\n]</td>\n",
       "    </tr>\n",
       "    <tr>\n",
       "      <th>Fuel type</th>\n",
       "      <td>Diesel</td>\n",
       "      <td>Electric</td>\n",
       "      <td>Gasoline</td>\n",
       "    </tr>\n",
       "    <tr>\n",
       "      <th>Colour</th>\n",
       "      <td>Black</td>\n",
       "      <td>NaN</td>\n",
       "      <td>Grey</td>\n",
       "    </tr>\n",
       "    <tr>\n",
       "      <th>Paint</th>\n",
       "      <td>Metallic</td>\n",
       "      <td>NaN</td>\n",
       "      <td>NaN</td>\n",
       "    </tr>\n",
       "    <tr>\n",
       "      <th>desc</th>\n",
       "      <td>[ , Precio al contado: 16950 euros,  ,  , Vehí...</td>\n",
       "      <td>[ , Precio al contado: 88900 euros,  , AUTO OJ...</td>\n",
       "      <td>[Gris MANUFAKTUR mountaingrau magno,  , Linea/...</td>\n",
       "    </tr>\n",
       "    <tr>\n",
       "      <th>seller</th>\n",
       "      <td>Dealer</td>\n",
       "      <td>Dealer</td>\n",
       "      <td>Dealer</td>\n",
       "    </tr>\n",
       "    <tr>\n",
       "      <th>Seats</th>\n",
       "      <td>NaN</td>\n",
       "      <td>[\\n, 5, \\n]</td>\n",
       "      <td>[\\n, 5, \\n]</td>\n",
       "    </tr>\n",
       "    <tr>\n",
       "      <th>Power</th>\n",
       "      <td>NaN</td>\n",
       "      <td>[\\n215 kW (292 hp)\\n]</td>\n",
       "      <td>[\\n310 kW (421 hp)\\n]</td>\n",
       "    </tr>\n",
       "    <tr>\n",
       "      <th>Engine size</th>\n",
       "      <td>NaN</td>\n",
       "      <td>[\\n1 cc\\n]</td>\n",
       "      <td>[\\n1,991 cc\\n]</td>\n",
       "    </tr>\n",
       "    <tr>\n",
       "      <th>Gears</th>\n",
       "      <td>NaN</td>\n",
       "      <td>[\\n9\\n]</td>\n",
       "      <td>[\\n8\\n]</td>\n",
       "    </tr>\n",
       "    <tr>\n",
       "      <th>CO₂-emissions</th>\n",
       "      <td>NaN</td>\n",
       "      <td>0 g/km (comb.)</td>\n",
       "      <td>NaN</td>\n",
       "    </tr>\n",
       "    <tr>\n",
       "      <th>Manufacturer colour</th>\n",
       "      <td>NaN</td>\n",
       "      <td>Negro Obsidiana</td>\n",
       "      <td>Mountaingrau magno</td>\n",
       "    </tr>\n",
       "    <tr>\n",
       "      <th>Drivetrain</th>\n",
       "      <td>NaN</td>\n",
       "      <td>NaN</td>\n",
       "      <td>[\\n, 4WD, \\n]</td>\n",
       "    </tr>\n",
       "    <tr>\n",
       "      <th>Cylinders</th>\n",
       "      <td>NaN</td>\n",
       "      <td>NaN</td>\n",
       "      <td>[\\n4\\n]</td>\n",
       "    </tr>\n",
       "    <tr>\n",
       "      <th>Fuel consumption</th>\n",
       "      <td>NaN</td>\n",
       "      <td>NaN</td>\n",
       "      <td>[[8.4 l/100 km (comb.)], [10.9 l/100 km (city)...</td>\n",
       "    </tr>\n",
       "    <tr>\n",
       "      <th>\\nComfort &amp; Convenience\\n</th>\n",
       "      <td>NaN</td>\n",
       "      <td>NaN</td>\n",
       "      <td>NaN</td>\n",
       "    </tr>\n",
       "    <tr>\n",
       "      <th>\\nEntertainment &amp; Media\\n</th>\n",
       "      <td>NaN</td>\n",
       "      <td>NaN</td>\n",
       "      <td>NaN</td>\n",
       "    </tr>\n",
       "    <tr>\n",
       "      <th>\\nSafety &amp; Security\\n</th>\n",
       "      <td>NaN</td>\n",
       "      <td>NaN</td>\n",
       "      <td>NaN</td>\n",
       "    </tr>\n",
       "    <tr>\n",
       "      <th>\\nExtras\\n</th>\n",
       "      <td>NaN</td>\n",
       "      <td>NaN</td>\n",
       "      <td>NaN</td>\n",
       "    </tr>\n",
       "    <tr>\n",
       "      <th>Empty weight</th>\n",
       "      <td>NaN</td>\n",
       "      <td>NaN</td>\n",
       "      <td>NaN</td>\n",
       "    </tr>\n",
       "    <tr>\n",
       "      <th>Model code</th>\n",
       "      <td>NaN</td>\n",
       "      <td>NaN</td>\n",
       "      <td>NaN</td>\n",
       "    </tr>\n",
       "    <tr>\n",
       "      <th>General inspection</th>\n",
       "      <td>NaN</td>\n",
       "      <td>NaN</td>\n",
       "      <td>NaN</td>\n",
       "    </tr>\n",
       "    <tr>\n",
       "      <th>Last service</th>\n",
       "      <td>NaN</td>\n",
       "      <td>NaN</td>\n",
       "      <td>NaN</td>\n",
       "    </tr>\n",
       "    <tr>\n",
       "      <th>Full service history</th>\n",
       "      <td>NaN</td>\n",
       "      <td>NaN</td>\n",
       "      <td>NaN</td>\n",
       "    </tr>\n",
       "    <tr>\n",
       "      <th>Non-smoker vehicle</th>\n",
       "      <td>NaN</td>\n",
       "      <td>NaN</td>\n",
       "      <td>NaN</td>\n",
       "    </tr>\n",
       "    <tr>\n",
       "      <th>Emission class</th>\n",
       "      <td>NaN</td>\n",
       "      <td>NaN</td>\n",
       "      <td>NaN</td>\n",
       "    </tr>\n",
       "    <tr>\n",
       "      <th>Emissions sticker</th>\n",
       "      <td>NaN</td>\n",
       "      <td>NaN</td>\n",
       "      <td>NaN</td>\n",
       "    </tr>\n",
       "    <tr>\n",
       "      <th>Upholstery colour</th>\n",
       "      <td>NaN</td>\n",
       "      <td>NaN</td>\n",
       "      <td>NaN</td>\n",
       "    </tr>\n",
       "    <tr>\n",
       "      <th>Upholstery</th>\n",
       "      <td>NaN</td>\n",
       "      <td>NaN</td>\n",
       "      <td>NaN</td>\n",
       "    </tr>\n",
       "    <tr>\n",
       "      <th>Production date</th>\n",
       "      <td>NaN</td>\n",
       "      <td>NaN</td>\n",
       "      <td>NaN</td>\n",
       "    </tr>\n",
       "    <tr>\n",
       "      <th>Previous owner</th>\n",
       "      <td>NaN</td>\n",
       "      <td>NaN</td>\n",
       "      <td>NaN</td>\n",
       "    </tr>\n",
       "    <tr>\n",
       "      <th>Other fuel types</th>\n",
       "      <td>NaN</td>\n",
       "      <td>NaN</td>\n",
       "      <td>NaN</td>\n",
       "    </tr>\n",
       "    <tr>\n",
       "      <th>Power consumption</th>\n",
       "      <td>NaN</td>\n",
       "      <td>NaN</td>\n",
       "      <td>NaN</td>\n",
       "    </tr>\n",
       "    <tr>\n",
       "      <th>Energy efficiency class</th>\n",
       "      <td>NaN</td>\n",
       "      <td>NaN</td>\n",
       "      <td>NaN</td>\n",
       "    </tr>\n",
       "    <tr>\n",
       "      <th>CO₂-efficiency</th>\n",
       "      <td>NaN</td>\n",
       "      <td>NaN</td>\n",
       "      <td>NaN</td>\n",
       "    </tr>\n",
       "    <tr>\n",
       "      <th>Fuel consumption (WLTP)</th>\n",
       "      <td>NaN</td>\n",
       "      <td>NaN</td>\n",
       "      <td>NaN</td>\n",
       "    </tr>\n",
       "    <tr>\n",
       "      <th>CO₂-emissions (WLTP)</th>\n",
       "      <td>NaN</td>\n",
       "      <td>NaN</td>\n",
       "      <td>NaN</td>\n",
       "    </tr>\n",
       "    <tr>\n",
       "      <th>Available from</th>\n",
       "      <td>NaN</td>\n",
       "      <td>NaN</td>\n",
       "      <td>NaN</td>\n",
       "    </tr>\n",
       "    <tr>\n",
       "      <th>Taxi or rental car</th>\n",
       "      <td>NaN</td>\n",
       "      <td>NaN</td>\n",
       "      <td>NaN</td>\n",
       "    </tr>\n",
       "    <tr>\n",
       "      <th>Availability</th>\n",
       "      <td>NaN</td>\n",
       "      <td>NaN</td>\n",
       "      <td>NaN</td>\n",
       "    </tr>\n",
       "    <tr>\n",
       "      <th>Last timing belt change</th>\n",
       "      <td>NaN</td>\n",
       "      <td>NaN</td>\n",
       "      <td>NaN</td>\n",
       "    </tr>\n",
       "    <tr>\n",
       "      <th>Electric Range (WLTP)</th>\n",
       "      <td>NaN</td>\n",
       "      <td>NaN</td>\n",
       "      <td>NaN</td>\n",
       "    </tr>\n",
       "    <tr>\n",
       "      <th>Power consumption (WLTP)</th>\n",
       "      <td>NaN</td>\n",
       "      <td>NaN</td>\n",
       "      <td>NaN</td>\n",
       "    </tr>\n",
       "    <tr>\n",
       "      <th>Battery Ownership</th>\n",
       "      <td>NaN</td>\n",
       "      <td>NaN</td>\n",
       "      <td>NaN</td>\n",
       "    </tr>\n",
       "  </tbody>\n",
       "</table>\n",
       "</div>"
      ],
      "text/plain": [
       "                                                                           0  \\\n",
       "make_model                                               Mercedes-Benz A 160   \n",
       "short_description                                                        CDi   \n",
       "make                                                       \\nMercedes-Benz\\n   \n",
       "model                                                        [\\n, A 160 ,\\n]   \n",
       "location                   P.I. EL PALMAR C/FORJA 6,  11500 PUERTO DE SAN...   \n",
       "price                                                             € 16,950.-   \n",
       "Body type                                                  [\\n, Compact, \\n]   \n",
       "Type                                                          [\\n, Used, \\n]   \n",
       "Doors                                                            [\\n, 5, \\n]   \n",
       "Country version                                              [\\n, Spain, \\n]   \n",
       "Offer number                                               [\\n, 7468157, \\n]   \n",
       "Warranty                                                 [\\n, 24 months, \\n]   \n",
       "Mileage                                                           120,200 km   \n",
       "First registration                                                   06/2016   \n",
       "Gearbox                                                         [\\nManual\\n]   \n",
       "Fuel type                                                             Diesel   \n",
       "Colour                                                                 Black   \n",
       "Paint                                                               Metallic   \n",
       "desc                       [ , Precio al contado: 16950 euros,  ,  , Vehí...   \n",
       "seller                                                                Dealer   \n",
       "Seats                                                                    NaN   \n",
       "Power                                                                    NaN   \n",
       "Engine size                                                              NaN   \n",
       "Gears                                                                    NaN   \n",
       "CO₂-emissions                                                            NaN   \n",
       "Manufacturer colour                                                      NaN   \n",
       "Drivetrain                                                               NaN   \n",
       "Cylinders                                                                NaN   \n",
       "Fuel consumption                                                         NaN   \n",
       "\\nComfort & Convenience\\n                                                NaN   \n",
       "\\nEntertainment & Media\\n                                                NaN   \n",
       "\\nSafety & Security\\n                                                    NaN   \n",
       "\\nExtras\\n                                                               NaN   \n",
       "Empty weight                                                             NaN   \n",
       "Model code                                                               NaN   \n",
       "General inspection                                                       NaN   \n",
       "Last service                                                             NaN   \n",
       "Full service history                                                     NaN   \n",
       "Non-smoker vehicle                                                       NaN   \n",
       "Emission class                                                           NaN   \n",
       "Emissions sticker                                                        NaN   \n",
       "Upholstery colour                                                        NaN   \n",
       "Upholstery                                                               NaN   \n",
       "Production date                                                          NaN   \n",
       "Previous owner                                                           NaN   \n",
       "Other fuel types                                                         NaN   \n",
       "Power consumption                                                        NaN   \n",
       "Energy efficiency class                                                  NaN   \n",
       "CO₂-efficiency                                                           NaN   \n",
       "Fuel consumption (WLTP)                                                  NaN   \n",
       "CO₂-emissions (WLTP)                                                     NaN   \n",
       "Available from                                                           NaN   \n",
       "Taxi or rental car                                                       NaN   \n",
       "Availability                                                             NaN   \n",
       "Last timing belt change                                                  NaN   \n",
       "Electric Range (WLTP)                                                    NaN   \n",
       "Power consumption (WLTP)                                                 NaN   \n",
       "Battery Ownership                                                        NaN   \n",
       "\n",
       "                                                                           1  \\\n",
       "make_model                                             Mercedes-Benz EQE 350   \n",
       "short_description                                                       350+   \n",
       "make                                                       \\nMercedes-Benz\\n   \n",
       "model                                                      [\\n, EQE 350 ,\\n]   \n",
       "location                        APARTADO DE CORREOS 1032,  26140 LOGROÑO, ES   \n",
       "price                                                             € 80,900.-   \n",
       "Body type                                                  [\\n, Compact, \\n]   \n",
       "Type                                                [\\n, Pre-registered, \\n]   \n",
       "Doors                                                            [\\n, 4, \\n]   \n",
       "Country version                                              [\\n, Spain, \\n]   \n",
       "Offer number                                               [\\n, 7054863, \\n]   \n",
       "Warranty                                                 [\\n, 24 months, \\n]   \n",
       "Mileage                                                             5,000 km   \n",
       "First registration                                                   06/2022   \n",
       "Gearbox                                                      [\\nAutomatic\\n]   \n",
       "Fuel type                                                           Electric   \n",
       "Colour                                                                   NaN   \n",
       "Paint                                                                    NaN   \n",
       "desc                       [ , Precio al contado: 88900 euros,  , AUTO OJ...   \n",
       "seller                                                                Dealer   \n",
       "Seats                                                            [\\n, 5, \\n]   \n",
       "Power                                                  [\\n215 kW (292 hp)\\n]   \n",
       "Engine size                                                       [\\n1 cc\\n]   \n",
       "Gears                                                                [\\n9\\n]   \n",
       "CO₂-emissions                                                 0 g/km (comb.)   \n",
       "Manufacturer colour                                          Negro Obsidiana   \n",
       "Drivetrain                                                               NaN   \n",
       "Cylinders                                                                NaN   \n",
       "Fuel consumption                                                         NaN   \n",
       "\\nComfort & Convenience\\n                                                NaN   \n",
       "\\nEntertainment & Media\\n                                                NaN   \n",
       "\\nSafety & Security\\n                                                    NaN   \n",
       "\\nExtras\\n                                                               NaN   \n",
       "Empty weight                                                             NaN   \n",
       "Model code                                                               NaN   \n",
       "General inspection                                                       NaN   \n",
       "Last service                                                             NaN   \n",
       "Full service history                                                     NaN   \n",
       "Non-smoker vehicle                                                       NaN   \n",
       "Emission class                                                           NaN   \n",
       "Emissions sticker                                                        NaN   \n",
       "Upholstery colour                                                        NaN   \n",
       "Upholstery                                                               NaN   \n",
       "Production date                                                          NaN   \n",
       "Previous owner                                                           NaN   \n",
       "Other fuel types                                                         NaN   \n",
       "Power consumption                                                        NaN   \n",
       "Energy efficiency class                                                  NaN   \n",
       "CO₂-efficiency                                                           NaN   \n",
       "Fuel consumption (WLTP)                                                  NaN   \n",
       "CO₂-emissions (WLTP)                                                     NaN   \n",
       "Available from                                                           NaN   \n",
       "Taxi or rental car                                                       NaN   \n",
       "Availability                                                             NaN   \n",
       "Last timing belt change                                                  NaN   \n",
       "Electric Range (WLTP)                                                    NaN   \n",
       "Power consumption (WLTP)                                                 NaN   \n",
       "Battery Ownership                                                        NaN   \n",
       "\n",
       "                                                                           2  \n",
       "make_model                                            Mercedes-Benz A 45 AMG  \n",
       "short_description                                           S 4Matic+ 8G-DCT  \n",
       "make                                                       \\nMercedes-Benz\\n  \n",
       "model                                                     [\\n, A 45 AMG ,\\n]  \n",
       "location                   PORT. TARRACO, MOLL DE LLEVANT, Nº 5, LOC. 6-8...  \n",
       "price                                                             € 69,900.-  \n",
       "Body type                                                  [\\n, Compact, \\n]  \n",
       "Type                                                          [\\n, Used, \\n]  \n",
       "Doors                                                            [\\n, 5, \\n]  \n",
       "Country version                                              [\\n, Spain, \\n]  \n",
       "Offer number                                               [\\n, 7410454, \\n]  \n",
       "Warranty                                                 [\\n, 12 months, \\n]  \n",
       "Mileage                                                            18,900 km  \n",
       "First registration                                                   07/2020  \n",
       "Gearbox                                                      [\\nAutomatic\\n]  \n",
       "Fuel type                                                           Gasoline  \n",
       "Colour                                                                  Grey  \n",
       "Paint                                                                    NaN  \n",
       "desc                       [Gris MANUFAKTUR mountaingrau magno,  , Linea/...  \n",
       "seller                                                                Dealer  \n",
       "Seats                                                            [\\n, 5, \\n]  \n",
       "Power                                                  [\\n310 kW (421 hp)\\n]  \n",
       "Engine size                                                   [\\n1,991 cc\\n]  \n",
       "Gears                                                                [\\n8\\n]  \n",
       "CO₂-emissions                                                            NaN  \n",
       "Manufacturer colour                                       Mountaingrau magno  \n",
       "Drivetrain                                                     [\\n, 4WD, \\n]  \n",
       "Cylinders                                                            [\\n4\\n]  \n",
       "Fuel consumption           [[8.4 l/100 km (comb.)], [10.9 l/100 km (city)...  \n",
       "\\nComfort & Convenience\\n                                                NaN  \n",
       "\\nEntertainment & Media\\n                                                NaN  \n",
       "\\nSafety & Security\\n                                                    NaN  \n",
       "\\nExtras\\n                                                               NaN  \n",
       "Empty weight                                                             NaN  \n",
       "Model code                                                               NaN  \n",
       "General inspection                                                       NaN  \n",
       "Last service                                                             NaN  \n",
       "Full service history                                                     NaN  \n",
       "Non-smoker vehicle                                                       NaN  \n",
       "Emission class                                                           NaN  \n",
       "Emissions sticker                                                        NaN  \n",
       "Upholstery colour                                                        NaN  \n",
       "Upholstery                                                               NaN  \n",
       "Production date                                                          NaN  \n",
       "Previous owner                                                           NaN  \n",
       "Other fuel types                                                         NaN  \n",
       "Power consumption                                                        NaN  \n",
       "Energy efficiency class                                                  NaN  \n",
       "CO₂-efficiency                                                           NaN  \n",
       "Fuel consumption (WLTP)                                                  NaN  \n",
       "CO₂-emissions (WLTP)                                                     NaN  \n",
       "Available from                                                           NaN  \n",
       "Taxi or rental car                                                       NaN  \n",
       "Availability                                                             NaN  \n",
       "Last timing belt change                                                  NaN  \n",
       "Electric Range (WLTP)                                                    NaN  \n",
       "Power consumption (WLTP)                                                 NaN  \n",
       "Battery Ownership                                                        NaN  "
      ]
     },
     "execution_count": 5,
     "metadata": {},
     "output_type": "execute_result"
    }
   ],
   "source": [
    "df.head(3).T"
   ]
  },
  {
   "cell_type": "code",
   "execution_count": 6,
   "id": "66a4d0a5",
   "metadata": {},
   "outputs": [
    {
     "data": {
      "text/plain": [
       "(29480, 58)"
      ]
     },
     "execution_count": 6,
     "metadata": {},
     "output_type": "execute_result"
    }
   ],
   "source": [
    "df.shape"
   ]
  },
  {
   "cell_type": "code",
   "execution_count": 7,
   "id": "dae5fb1f",
   "metadata": {},
   "outputs": [
    {
     "name": "stdout",
     "output_type": "stream",
     "text": [
      "<class 'pandas.core.frame.DataFrame'>\n",
      "RangeIndex: 29480 entries, 0 to 29479\n",
      "Data columns (total 58 columns):\n",
      " #   Column                    Non-Null Count  Dtype  \n",
      "---  ------                    --------------  -----  \n",
      " 0   make_model                28630 non-null  object \n",
      " 1   short_description         28630 non-null  object \n",
      " 2   make                      28630 non-null  object \n",
      " 3   model                     28630 non-null  object \n",
      " 4   location                  28630 non-null  object \n",
      " 5   price                     28630 non-null  object \n",
      " 6   Body type                 28630 non-null  object \n",
      " 7   Type                      28630 non-null  object \n",
      " 8   Doors                     28271 non-null  object \n",
      " 9   Country version           16889 non-null  object \n",
      " 10  Offer number              23100 non-null  object \n",
      " 11  Warranty                  15784 non-null  object \n",
      " 12  Mileage                   28629 non-null  object \n",
      " 13  First registration        28628 non-null  object \n",
      " 14  Gearbox                   28382 non-null  object \n",
      " 15  Fuel type                 26843 non-null  object \n",
      " 16  Colour                    26906 non-null  object \n",
      " 17  Paint                     14495 non-null  object \n",
      " 18  desc                      28047 non-null  object \n",
      " 19  seller                    28630 non-null  object \n",
      " 20  Seats                     25505 non-null  object \n",
      " 21  Power                     28058 non-null  object \n",
      " 22  Engine size               27227 non-null  object \n",
      " 23  Gears                     18954 non-null  object \n",
      " 24  CO₂-emissions             18594 non-null  object \n",
      " 25  Manufacturer colour       21787 non-null  object \n",
      " 26  Drivetrain                16893 non-null  object \n",
      " 27  Cylinders                 18852 non-null  object \n",
      " 28  Fuel consumption          23385 non-null  object \n",
      " 29  \n",
      "Comfort & Convenience\n",
      "   25433 non-null  object \n",
      " 30  \n",
      "Entertainment & Media\n",
      "   23644 non-null  object \n",
      " 31  \n",
      "Safety & Security\n",
      "       25415 non-null  object \n",
      " 32  \n",
      "Extras\n",
      "                  23480 non-null  object \n",
      " 33  Empty weight              17758 non-null  object \n",
      " 34  Model code                8367 non-null   object \n",
      " 35  General inspection        12254 non-null  object \n",
      " 36  Last service              2003 non-null   object \n",
      " 37  Full service history      12565 non-null  object \n",
      " 38  Non-smoker vehicle        11594 non-null  object \n",
      " 39  Emission class            17859 non-null  object \n",
      " 40  Emissions sticker         9414 non-null   object \n",
      " 41  Upholstery colour         14569 non-null  object \n",
      " 42  Upholstery                18610 non-null  object \n",
      " 43  Production date           5908 non-null   float64\n",
      " 44  Previous owner            14015 non-null  object \n",
      " 45  Other fuel types          2313 non-null   object \n",
      " 46  Power consumption         515 non-null    object \n",
      " 47  Energy efficiency class   7804 non-null   object \n",
      " 48  CO₂-efficiency            7804 non-null   object \n",
      " 49  Fuel consumption (WLTP)   100 non-null    object \n",
      " 50  CO₂-emissions (WLTP)      116 non-null    object \n",
      " 51  Available from            393 non-null    object \n",
      " 52  Taxi or rental car        422 non-null    object \n",
      " 53  Availability              301 non-null    object \n",
      " 54  Last timing belt change   572 non-null    object \n",
      " 55  Electric Range (WLTP)     16 non-null     object \n",
      " 56  Power consumption (WLTP)  16 non-null     object \n",
      " 57  Battery Ownership         7 non-null      object \n",
      "dtypes: float64(1), object(57)\n",
      "memory usage: 13.0+ MB\n"
     ]
    }
   ],
   "source": [
    "df.info()"
   ]
  },
  {
   "cell_type": "markdown",
   "id": "7f501bc2",
   "metadata": {},
   "source": [
    "# Rename the incorrect headers (column names)"
   ]
  },
  {
   "cell_type": "code",
   "execution_count": 8,
   "id": "2c500b9e",
   "metadata": {},
   "outputs": [
    {
     "data": {
      "text/html": [
       "<pre style=\"white-space:pre;overflow-x:auto;line-height:normal;font-family:Menlo,'DejaVu Sans Mono',consolas,'Courier New',monospace\"><span style=\"color: #008080; text-decoration-color: #008080; font-weight: bold\">50</span> column names have been cleaned\n",
       "</pre>\n"
      ],
      "text/plain": [
       "\u001b[1;36m50\u001b[0m column names have been cleaned\n"
      ]
     },
     "metadata": {},
     "output_type": "display_data"
    },
    {
     "data": {
      "text/html": [
       "<div>\n",
       "<style scoped>\n",
       "    .dataframe tbody tr th:only-of-type {\n",
       "        vertical-align: middle;\n",
       "    }\n",
       "\n",
       "    .dataframe tbody tr th {\n",
       "        vertical-align: top;\n",
       "    }\n",
       "\n",
       "    .dataframe thead th {\n",
       "        text-align: right;\n",
       "    }\n",
       "</style>\n",
       "<table border=\"1\" class=\"dataframe\">\n",
       "  <thead>\n",
       "    <tr style=\"text-align: right;\">\n",
       "      <th></th>\n",
       "      <th>0</th>\n",
       "      <th>1</th>\n",
       "      <th>2</th>\n",
       "    </tr>\n",
       "  </thead>\n",
       "  <tbody>\n",
       "    <tr>\n",
       "      <th>make_model</th>\n",
       "      <td>Mercedes-Benz A 160</td>\n",
       "      <td>Mercedes-Benz EQE 350</td>\n",
       "      <td>Mercedes-Benz A 45 AMG</td>\n",
       "    </tr>\n",
       "    <tr>\n",
       "      <th>short_description</th>\n",
       "      <td>CDi</td>\n",
       "      <td>350+</td>\n",
       "      <td>S 4Matic+ 8G-DCT</td>\n",
       "    </tr>\n",
       "    <tr>\n",
       "      <th>make</th>\n",
       "      <td>\\nMercedes-Benz\\n</td>\n",
       "      <td>\\nMercedes-Benz\\n</td>\n",
       "      <td>\\nMercedes-Benz\\n</td>\n",
       "    </tr>\n",
       "    <tr>\n",
       "      <th>model</th>\n",
       "      <td>[\\n, A 160 ,\\n]</td>\n",
       "      <td>[\\n, EQE 350 ,\\n]</td>\n",
       "      <td>[\\n, A 45 AMG ,\\n]</td>\n",
       "    </tr>\n",
       "    <tr>\n",
       "      <th>location</th>\n",
       "      <td>P.I. EL PALMAR C/FORJA 6,  11500 PUERTO DE SAN...</td>\n",
       "      <td>APARTADO DE CORREOS 1032,  26140 LOGROÑO, ES</td>\n",
       "      <td>PORT. TARRACO, MOLL DE LLEVANT, Nº 5, LOC. 6-8...</td>\n",
       "    </tr>\n",
       "    <tr>\n",
       "      <th>price</th>\n",
       "      <td>€ 16,950.-</td>\n",
       "      <td>€ 80,900.-</td>\n",
       "      <td>€ 69,900.-</td>\n",
       "    </tr>\n",
       "    <tr>\n",
       "      <th>body_type</th>\n",
       "      <td>[\\n, Compact, \\n]</td>\n",
       "      <td>[\\n, Compact, \\n]</td>\n",
       "      <td>[\\n, Compact, \\n]</td>\n",
       "    </tr>\n",
       "    <tr>\n",
       "      <th>type</th>\n",
       "      <td>[\\n, Used, \\n]</td>\n",
       "      <td>[\\n, Pre-registered, \\n]</td>\n",
       "      <td>[\\n, Used, \\n]</td>\n",
       "    </tr>\n",
       "    <tr>\n",
       "      <th>doors</th>\n",
       "      <td>[\\n, 5, \\n]</td>\n",
       "      <td>[\\n, 4, \\n]</td>\n",
       "      <td>[\\n, 5, \\n]</td>\n",
       "    </tr>\n",
       "    <tr>\n",
       "      <th>country_version</th>\n",
       "      <td>[\\n, Spain, \\n]</td>\n",
       "      <td>[\\n, Spain, \\n]</td>\n",
       "      <td>[\\n, Spain, \\n]</td>\n",
       "    </tr>\n",
       "    <tr>\n",
       "      <th>offer_number</th>\n",
       "      <td>[\\n, 7468157, \\n]</td>\n",
       "      <td>[\\n, 7054863, \\n]</td>\n",
       "      <td>[\\n, 7410454, \\n]</td>\n",
       "    </tr>\n",
       "    <tr>\n",
       "      <th>warranty</th>\n",
       "      <td>[\\n, 24 months, \\n]</td>\n",
       "      <td>[\\n, 24 months, \\n]</td>\n",
       "      <td>[\\n, 12 months, \\n]</td>\n",
       "    </tr>\n",
       "    <tr>\n",
       "      <th>mileage</th>\n",
       "      <td>120,200 km</td>\n",
       "      <td>5,000 km</td>\n",
       "      <td>18,900 km</td>\n",
       "    </tr>\n",
       "    <tr>\n",
       "      <th>first_registration</th>\n",
       "      <td>06/2016</td>\n",
       "      <td>06/2022</td>\n",
       "      <td>07/2020</td>\n",
       "    </tr>\n",
       "    <tr>\n",
       "      <th>gearbox</th>\n",
       "      <td>[\\nManual\\n]</td>\n",
       "      <td>[\\nAutomatic\\n]</td>\n",
       "      <td>[\\nAutomatic\\n]</td>\n",
       "    </tr>\n",
       "    <tr>\n",
       "      <th>fuel_type</th>\n",
       "      <td>Diesel</td>\n",
       "      <td>Electric</td>\n",
       "      <td>Gasoline</td>\n",
       "    </tr>\n",
       "    <tr>\n",
       "      <th>colour</th>\n",
       "      <td>Black</td>\n",
       "      <td>NaN</td>\n",
       "      <td>Grey</td>\n",
       "    </tr>\n",
       "    <tr>\n",
       "      <th>paint</th>\n",
       "      <td>Metallic</td>\n",
       "      <td>NaN</td>\n",
       "      <td>NaN</td>\n",
       "    </tr>\n",
       "    <tr>\n",
       "      <th>desc</th>\n",
       "      <td>[ , Precio al contado: 16950 euros,  ,  , Vehí...</td>\n",
       "      <td>[ , Precio al contado: 88900 euros,  , AUTO OJ...</td>\n",
       "      <td>[Gris MANUFAKTUR mountaingrau magno,  , Linea/...</td>\n",
       "    </tr>\n",
       "    <tr>\n",
       "      <th>seller</th>\n",
       "      <td>Dealer</td>\n",
       "      <td>Dealer</td>\n",
       "      <td>Dealer</td>\n",
       "    </tr>\n",
       "    <tr>\n",
       "      <th>seats</th>\n",
       "      <td>NaN</td>\n",
       "      <td>[\\n, 5, \\n]</td>\n",
       "      <td>[\\n, 5, \\n]</td>\n",
       "    </tr>\n",
       "    <tr>\n",
       "      <th>power</th>\n",
       "      <td>NaN</td>\n",
       "      <td>[\\n215 kW (292 hp)\\n]</td>\n",
       "      <td>[\\n310 kW (421 hp)\\n]</td>\n",
       "    </tr>\n",
       "    <tr>\n",
       "      <th>engine_size</th>\n",
       "      <td>NaN</td>\n",
       "      <td>[\\n1 cc\\n]</td>\n",
       "      <td>[\\n1,991 cc\\n]</td>\n",
       "    </tr>\n",
       "    <tr>\n",
       "      <th>gears</th>\n",
       "      <td>NaN</td>\n",
       "      <td>[\\n9\\n]</td>\n",
       "      <td>[\\n8\\n]</td>\n",
       "    </tr>\n",
       "    <tr>\n",
       "      <th>co_emissions</th>\n",
       "      <td>NaN</td>\n",
       "      <td>0 g/km (comb.)</td>\n",
       "      <td>NaN</td>\n",
       "    </tr>\n",
       "    <tr>\n",
       "      <th>manufacturer_colour</th>\n",
       "      <td>NaN</td>\n",
       "      <td>Negro Obsidiana</td>\n",
       "      <td>Mountaingrau magno</td>\n",
       "    </tr>\n",
       "    <tr>\n",
       "      <th>drivetrain</th>\n",
       "      <td>NaN</td>\n",
       "      <td>NaN</td>\n",
       "      <td>[\\n, 4WD, \\n]</td>\n",
       "    </tr>\n",
       "    <tr>\n",
       "      <th>cylinders</th>\n",
       "      <td>NaN</td>\n",
       "      <td>NaN</td>\n",
       "      <td>[\\n4\\n]</td>\n",
       "    </tr>\n",
       "    <tr>\n",
       "      <th>fuel_consumption</th>\n",
       "      <td>NaN</td>\n",
       "      <td>NaN</td>\n",
       "      <td>[[8.4 l/100 km (comb.)], [10.9 l/100 km (city)...</td>\n",
       "    </tr>\n",
       "    <tr>\n",
       "      <th>comfort_&amp;_convenience</th>\n",
       "      <td>NaN</td>\n",
       "      <td>NaN</td>\n",
       "      <td>NaN</td>\n",
       "    </tr>\n",
       "    <tr>\n",
       "      <th>entertainment_&amp;_media</th>\n",
       "      <td>NaN</td>\n",
       "      <td>NaN</td>\n",
       "      <td>NaN</td>\n",
       "    </tr>\n",
       "    <tr>\n",
       "      <th>safety_&amp;_security</th>\n",
       "      <td>NaN</td>\n",
       "      <td>NaN</td>\n",
       "      <td>NaN</td>\n",
       "    </tr>\n",
       "    <tr>\n",
       "      <th>extras</th>\n",
       "      <td>NaN</td>\n",
       "      <td>NaN</td>\n",
       "      <td>NaN</td>\n",
       "    </tr>\n",
       "    <tr>\n",
       "      <th>empty_weight</th>\n",
       "      <td>NaN</td>\n",
       "      <td>NaN</td>\n",
       "      <td>NaN</td>\n",
       "    </tr>\n",
       "    <tr>\n",
       "      <th>model_code</th>\n",
       "      <td>NaN</td>\n",
       "      <td>NaN</td>\n",
       "      <td>NaN</td>\n",
       "    </tr>\n",
       "    <tr>\n",
       "      <th>general_inspection</th>\n",
       "      <td>NaN</td>\n",
       "      <td>NaN</td>\n",
       "      <td>NaN</td>\n",
       "    </tr>\n",
       "    <tr>\n",
       "      <th>last_service</th>\n",
       "      <td>NaN</td>\n",
       "      <td>NaN</td>\n",
       "      <td>NaN</td>\n",
       "    </tr>\n",
       "    <tr>\n",
       "      <th>full_service_history</th>\n",
       "      <td>NaN</td>\n",
       "      <td>NaN</td>\n",
       "      <td>NaN</td>\n",
       "    </tr>\n",
       "    <tr>\n",
       "      <th>non_smoker_vehicle</th>\n",
       "      <td>NaN</td>\n",
       "      <td>NaN</td>\n",
       "      <td>NaN</td>\n",
       "    </tr>\n",
       "    <tr>\n",
       "      <th>emission_class</th>\n",
       "      <td>NaN</td>\n",
       "      <td>NaN</td>\n",
       "      <td>NaN</td>\n",
       "    </tr>\n",
       "    <tr>\n",
       "      <th>emissions_sticker</th>\n",
       "      <td>NaN</td>\n",
       "      <td>NaN</td>\n",
       "      <td>NaN</td>\n",
       "    </tr>\n",
       "    <tr>\n",
       "      <th>upholstery_colour</th>\n",
       "      <td>NaN</td>\n",
       "      <td>NaN</td>\n",
       "      <td>NaN</td>\n",
       "    </tr>\n",
       "    <tr>\n",
       "      <th>upholstery</th>\n",
       "      <td>NaN</td>\n",
       "      <td>NaN</td>\n",
       "      <td>NaN</td>\n",
       "    </tr>\n",
       "    <tr>\n",
       "      <th>production_date</th>\n",
       "      <td>NaN</td>\n",
       "      <td>NaN</td>\n",
       "      <td>NaN</td>\n",
       "    </tr>\n",
       "    <tr>\n",
       "      <th>previous_owner</th>\n",
       "      <td>NaN</td>\n",
       "      <td>NaN</td>\n",
       "      <td>NaN</td>\n",
       "    </tr>\n",
       "    <tr>\n",
       "      <th>other_fuel_types</th>\n",
       "      <td>NaN</td>\n",
       "      <td>NaN</td>\n",
       "      <td>NaN</td>\n",
       "    </tr>\n",
       "    <tr>\n",
       "      <th>power_consumption</th>\n",
       "      <td>NaN</td>\n",
       "      <td>NaN</td>\n",
       "      <td>NaN</td>\n",
       "    </tr>\n",
       "    <tr>\n",
       "      <th>energy_efficiency_class</th>\n",
       "      <td>NaN</td>\n",
       "      <td>NaN</td>\n",
       "      <td>NaN</td>\n",
       "    </tr>\n",
       "    <tr>\n",
       "      <th>co_efficiency</th>\n",
       "      <td>NaN</td>\n",
       "      <td>NaN</td>\n",
       "      <td>NaN</td>\n",
       "    </tr>\n",
       "    <tr>\n",
       "      <th>fuel_consumption_wltp</th>\n",
       "      <td>NaN</td>\n",
       "      <td>NaN</td>\n",
       "      <td>NaN</td>\n",
       "    </tr>\n",
       "    <tr>\n",
       "      <th>co_emissions_wltp</th>\n",
       "      <td>NaN</td>\n",
       "      <td>NaN</td>\n",
       "      <td>NaN</td>\n",
       "    </tr>\n",
       "    <tr>\n",
       "      <th>available_from</th>\n",
       "      <td>NaN</td>\n",
       "      <td>NaN</td>\n",
       "      <td>NaN</td>\n",
       "    </tr>\n",
       "    <tr>\n",
       "      <th>taxi_or_rental_car</th>\n",
       "      <td>NaN</td>\n",
       "      <td>NaN</td>\n",
       "      <td>NaN</td>\n",
       "    </tr>\n",
       "    <tr>\n",
       "      <th>availability</th>\n",
       "      <td>NaN</td>\n",
       "      <td>NaN</td>\n",
       "      <td>NaN</td>\n",
       "    </tr>\n",
       "    <tr>\n",
       "      <th>last_timing_belt_change</th>\n",
       "      <td>NaN</td>\n",
       "      <td>NaN</td>\n",
       "      <td>NaN</td>\n",
       "    </tr>\n",
       "    <tr>\n",
       "      <th>electric_range_wltp</th>\n",
       "      <td>NaN</td>\n",
       "      <td>NaN</td>\n",
       "      <td>NaN</td>\n",
       "    </tr>\n",
       "    <tr>\n",
       "      <th>power_consumption_wltp</th>\n",
       "      <td>NaN</td>\n",
       "      <td>NaN</td>\n",
       "      <td>NaN</td>\n",
       "    </tr>\n",
       "    <tr>\n",
       "      <th>battery_ownership</th>\n",
       "      <td>NaN</td>\n",
       "      <td>NaN</td>\n",
       "      <td>NaN</td>\n",
       "    </tr>\n",
       "  </tbody>\n",
       "</table>\n",
       "</div>"
      ],
      "text/plain": [
       "                                                                         0  \\\n",
       "make_model                                             Mercedes-Benz A 160   \n",
       "short_description                                                      CDi   \n",
       "make                                                     \\nMercedes-Benz\\n   \n",
       "model                                                      [\\n, A 160 ,\\n]   \n",
       "location                 P.I. EL PALMAR C/FORJA 6,  11500 PUERTO DE SAN...   \n",
       "price                                                           € 16,950.-   \n",
       "body_type                                                [\\n, Compact, \\n]   \n",
       "type                                                        [\\n, Used, \\n]   \n",
       "doors                                                          [\\n, 5, \\n]   \n",
       "country_version                                            [\\n, Spain, \\n]   \n",
       "offer_number                                             [\\n, 7468157, \\n]   \n",
       "warranty                                               [\\n, 24 months, \\n]   \n",
       "mileage                                                         120,200 km   \n",
       "first_registration                                                 06/2016   \n",
       "gearbox                                                       [\\nManual\\n]   \n",
       "fuel_type                                                           Diesel   \n",
       "colour                                                               Black   \n",
       "paint                                                             Metallic   \n",
       "desc                     [ , Precio al contado: 16950 euros,  ,  , Vehí...   \n",
       "seller                                                              Dealer   \n",
       "seats                                                                  NaN   \n",
       "power                                                                  NaN   \n",
       "engine_size                                                            NaN   \n",
       "gears                                                                  NaN   \n",
       "co_emissions                                                           NaN   \n",
       "manufacturer_colour                                                    NaN   \n",
       "drivetrain                                                             NaN   \n",
       "cylinders                                                              NaN   \n",
       "fuel_consumption                                                       NaN   \n",
       "comfort_&_convenience                                                  NaN   \n",
       "entertainment_&_media                                                  NaN   \n",
       "safety_&_security                                                      NaN   \n",
       "extras                                                                 NaN   \n",
       "empty_weight                                                           NaN   \n",
       "model_code                                                             NaN   \n",
       "general_inspection                                                     NaN   \n",
       "last_service                                                           NaN   \n",
       "full_service_history                                                   NaN   \n",
       "non_smoker_vehicle                                                     NaN   \n",
       "emission_class                                                         NaN   \n",
       "emissions_sticker                                                      NaN   \n",
       "upholstery_colour                                                      NaN   \n",
       "upholstery                                                             NaN   \n",
       "production_date                                                        NaN   \n",
       "previous_owner                                                         NaN   \n",
       "other_fuel_types                                                       NaN   \n",
       "power_consumption                                                      NaN   \n",
       "energy_efficiency_class                                                NaN   \n",
       "co_efficiency                                                          NaN   \n",
       "fuel_consumption_wltp                                                  NaN   \n",
       "co_emissions_wltp                                                      NaN   \n",
       "available_from                                                         NaN   \n",
       "taxi_or_rental_car                                                     NaN   \n",
       "availability                                                           NaN   \n",
       "last_timing_belt_change                                                NaN   \n",
       "electric_range_wltp                                                    NaN   \n",
       "power_consumption_wltp                                                 NaN   \n",
       "battery_ownership                                                      NaN   \n",
       "\n",
       "                                                                         1  \\\n",
       "make_model                                           Mercedes-Benz EQE 350   \n",
       "short_description                                                     350+   \n",
       "make                                                     \\nMercedes-Benz\\n   \n",
       "model                                                    [\\n, EQE 350 ,\\n]   \n",
       "location                      APARTADO DE CORREOS 1032,  26140 LOGROÑO, ES   \n",
       "price                                                           € 80,900.-   \n",
       "body_type                                                [\\n, Compact, \\n]   \n",
       "type                                              [\\n, Pre-registered, \\n]   \n",
       "doors                                                          [\\n, 4, \\n]   \n",
       "country_version                                            [\\n, Spain, \\n]   \n",
       "offer_number                                             [\\n, 7054863, \\n]   \n",
       "warranty                                               [\\n, 24 months, \\n]   \n",
       "mileage                                                           5,000 km   \n",
       "first_registration                                                 06/2022   \n",
       "gearbox                                                    [\\nAutomatic\\n]   \n",
       "fuel_type                                                         Electric   \n",
       "colour                                                                 NaN   \n",
       "paint                                                                  NaN   \n",
       "desc                     [ , Precio al contado: 88900 euros,  , AUTO OJ...   \n",
       "seller                                                              Dealer   \n",
       "seats                                                          [\\n, 5, \\n]   \n",
       "power                                                [\\n215 kW (292 hp)\\n]   \n",
       "engine_size                                                     [\\n1 cc\\n]   \n",
       "gears                                                              [\\n9\\n]   \n",
       "co_emissions                                                0 g/km (comb.)   \n",
       "manufacturer_colour                                        Negro Obsidiana   \n",
       "drivetrain                                                             NaN   \n",
       "cylinders                                                              NaN   \n",
       "fuel_consumption                                                       NaN   \n",
       "comfort_&_convenience                                                  NaN   \n",
       "entertainment_&_media                                                  NaN   \n",
       "safety_&_security                                                      NaN   \n",
       "extras                                                                 NaN   \n",
       "empty_weight                                                           NaN   \n",
       "model_code                                                             NaN   \n",
       "general_inspection                                                     NaN   \n",
       "last_service                                                           NaN   \n",
       "full_service_history                                                   NaN   \n",
       "non_smoker_vehicle                                                     NaN   \n",
       "emission_class                                                         NaN   \n",
       "emissions_sticker                                                      NaN   \n",
       "upholstery_colour                                                      NaN   \n",
       "upholstery                                                             NaN   \n",
       "production_date                                                        NaN   \n",
       "previous_owner                                                         NaN   \n",
       "other_fuel_types                                                       NaN   \n",
       "power_consumption                                                      NaN   \n",
       "energy_efficiency_class                                                NaN   \n",
       "co_efficiency                                                          NaN   \n",
       "fuel_consumption_wltp                                                  NaN   \n",
       "co_emissions_wltp                                                      NaN   \n",
       "available_from                                                         NaN   \n",
       "taxi_or_rental_car                                                     NaN   \n",
       "availability                                                           NaN   \n",
       "last_timing_belt_change                                                NaN   \n",
       "electric_range_wltp                                                    NaN   \n",
       "power_consumption_wltp                                                 NaN   \n",
       "battery_ownership                                                      NaN   \n",
       "\n",
       "                                                                         2  \n",
       "make_model                                          Mercedes-Benz A 45 AMG  \n",
       "short_description                                         S 4Matic+ 8G-DCT  \n",
       "make                                                     \\nMercedes-Benz\\n  \n",
       "model                                                   [\\n, A 45 AMG ,\\n]  \n",
       "location                 PORT. TARRACO, MOLL DE LLEVANT, Nº 5, LOC. 6-8...  \n",
       "price                                                           € 69,900.-  \n",
       "body_type                                                [\\n, Compact, \\n]  \n",
       "type                                                        [\\n, Used, \\n]  \n",
       "doors                                                          [\\n, 5, \\n]  \n",
       "country_version                                            [\\n, Spain, \\n]  \n",
       "offer_number                                             [\\n, 7410454, \\n]  \n",
       "warranty                                               [\\n, 12 months, \\n]  \n",
       "mileage                                                          18,900 km  \n",
       "first_registration                                                 07/2020  \n",
       "gearbox                                                    [\\nAutomatic\\n]  \n",
       "fuel_type                                                         Gasoline  \n",
       "colour                                                                Grey  \n",
       "paint                                                                  NaN  \n",
       "desc                     [Gris MANUFAKTUR mountaingrau magno,  , Linea/...  \n",
       "seller                                                              Dealer  \n",
       "seats                                                          [\\n, 5, \\n]  \n",
       "power                                                [\\n310 kW (421 hp)\\n]  \n",
       "engine_size                                                 [\\n1,991 cc\\n]  \n",
       "gears                                                              [\\n8\\n]  \n",
       "co_emissions                                                           NaN  \n",
       "manufacturer_colour                                     Mountaingrau magno  \n",
       "drivetrain                                                   [\\n, 4WD, \\n]  \n",
       "cylinders                                                          [\\n4\\n]  \n",
       "fuel_consumption         [[8.4 l/100 km (comb.)], [10.9 l/100 km (city)...  \n",
       "comfort_&_convenience                                                  NaN  \n",
       "entertainment_&_media                                                  NaN  \n",
       "safety_&_security                                                      NaN  \n",
       "extras                                                                 NaN  \n",
       "empty_weight                                                           NaN  \n",
       "model_code                                                             NaN  \n",
       "general_inspection                                                     NaN  \n",
       "last_service                                                           NaN  \n",
       "full_service_history                                                   NaN  \n",
       "non_smoker_vehicle                                                     NaN  \n",
       "emission_class                                                         NaN  \n",
       "emissions_sticker                                                      NaN  \n",
       "upholstery_colour                                                      NaN  \n",
       "upholstery                                                             NaN  \n",
       "production_date                                                        NaN  \n",
       "previous_owner                                                         NaN  \n",
       "other_fuel_types                                                       NaN  \n",
       "power_consumption                                                      NaN  \n",
       "energy_efficiency_class                                                NaN  \n",
       "co_efficiency                                                          NaN  \n",
       "fuel_consumption_wltp                                                  NaN  \n",
       "co_emissions_wltp                                                      NaN  \n",
       "available_from                                                         NaN  \n",
       "taxi_or_rental_car                                                     NaN  \n",
       "availability                                                           NaN  \n",
       "last_timing_belt_change                                                NaN  \n",
       "electric_range_wltp                                                    NaN  \n",
       "power_consumption_wltp                                                 NaN  \n",
       "battery_ownership                                                      NaN  "
      ]
     },
     "execution_count": 8,
     "metadata": {},
     "output_type": "execute_result"
    }
   ],
   "source": [
    "df = clean_columns(df)\n",
    "df.head(3).T"
   ]
  },
  {
   "cell_type": "code",
   "execution_count": 9,
   "id": "4d593fc5",
   "metadata": {},
   "outputs": [
    {
     "data": {
      "text/plain": [
       "make_model                 2.88\n",
       "short_description          2.88\n",
       "make                       2.88\n",
       "model                      2.88\n",
       "location                   2.88\n",
       "price                      2.88\n",
       "body_type                  2.88\n",
       "type                       2.88\n",
       "doors                      4.10\n",
       "country_version           42.71\n",
       "offer_number              21.64\n",
       "warranty                  46.46\n",
       "mileage                    2.89\n",
       "first_registration         2.89\n",
       "gearbox                    3.72\n",
       "fuel_type                  8.95\n",
       "colour                     8.73\n",
       "paint                     50.83\n",
       "desc                       4.86\n",
       "seller                     2.88\n",
       "seats                     13.48\n",
       "power                      4.82\n",
       "engine_size                7.64\n",
       "gears                     35.71\n",
       "co_emissions              36.93\n",
       "manufacturer_colour       26.10\n",
       "drivetrain                42.70\n",
       "cylinders                 36.05\n",
       "fuel_consumption          20.68\n",
       "comfort_&_convenience     13.73\n",
       "entertainment_&_media     19.80\n",
       "safety_&_security         13.79\n",
       "extras                    20.35\n",
       "empty_weight              39.76\n",
       "model_code                71.62\n",
       "general_inspection        58.43\n",
       "last_service              93.21\n",
       "full_service_history      57.38\n",
       "non_smoker_vehicle        60.67\n",
       "emission_class            39.42\n",
       "emissions_sticker         68.07\n",
       "upholstery_colour         50.58\n",
       "upholstery                36.87\n",
       "production_date           79.96\n",
       "previous_owner            52.46\n",
       "other_fuel_types          92.15\n",
       "power_consumption         98.25\n",
       "energy_efficiency_class   73.53\n",
       "co_efficiency             73.53\n",
       "fuel_consumption_wltp     99.66\n",
       "co_emissions_wltp         99.61\n",
       "available_from            98.67\n",
       "taxi_or_rental_car        98.57\n",
       "availability              98.98\n",
       "last_timing_belt_change   98.06\n",
       "electric_range_wltp       99.95\n",
       "power_consumption_wltp    99.95\n",
       "battery_ownership         99.98\n",
       "dtype: float64"
      ]
     },
     "execution_count": 9,
     "metadata": {},
     "output_type": "execute_result"
    }
   ],
   "source": [
    "df.isnull().sum() / len(df) * 100"
   ]
  },
  {
   "cell_type": "markdown",
   "id": "67891c4f",
   "metadata": {},
   "source": [
    "# Drop the columns having missing value more than 80%"
   ]
  },
  {
   "cell_type": "code",
   "execution_count": 10,
   "id": "a71c7366",
   "metadata": {},
   "outputs": [],
   "source": [
    "def df_nans(df, limit):\n",
    "    missing = df.isnull().sum()/len(df)*100\n",
    "    return missing.loc[lambda x : x>=limit]"
   ]
  },
  {
   "cell_type": "code",
   "execution_count": 11,
   "id": "03a5d46c",
   "metadata": {},
   "outputs": [
    {
     "data": {
      "text/plain": [
       "last_service              93.21\n",
       "other_fuel_types          92.15\n",
       "power_consumption         98.25\n",
       "fuel_consumption_wltp     99.66\n",
       "co_emissions_wltp         99.61\n",
       "available_from            98.67\n",
       "taxi_or_rental_car        98.57\n",
       "availability              98.98\n",
       "last_timing_belt_change   98.06\n",
       "electric_range_wltp       99.95\n",
       "power_consumption_wltp    99.95\n",
       "battery_ownership         99.98\n",
       "dtype: float64"
      ]
     },
     "execution_count": 11,
     "metadata": {},
     "output_type": "execute_result"
    }
   ],
   "source": [
    "df_nans(df, 80)"
   ]
  },
  {
   "cell_type": "code",
   "execution_count": 12,
   "id": "c189e19a",
   "metadata": {},
   "outputs": [
    {
     "data": {
      "text/plain": [
       "Index(['last_service', 'other_fuel_types', 'power_consumption',\n",
       "       'fuel_consumption_wltp', 'co_emissions_wltp', 'available_from',\n",
       "       'taxi_or_rental_car', 'availability', 'last_timing_belt_change',\n",
       "       'electric_range_wltp', 'power_consumption_wltp', 'battery_ownership'],\n",
       "      dtype='object')"
      ]
     },
     "execution_count": 12,
     "metadata": {},
     "output_type": "execute_result"
    }
   ],
   "source": [
    "df_nans(df, 80).index"
   ]
  },
  {
   "cell_type": "code",
   "execution_count": 13,
   "id": "51ed5d6a",
   "metadata": {},
   "outputs": [],
   "source": [
    "drop_columns = df_nans(df, 80).index"
   ]
  },
  {
   "cell_type": "code",
   "execution_count": 14,
   "id": "665b634f",
   "metadata": {},
   "outputs": [],
   "source": [
    "df.drop(drop_columns, axis=1, inplace=True)"
   ]
  },
  {
   "cell_type": "code",
   "execution_count": 15,
   "id": "72f17bfc",
   "metadata": {},
   "outputs": [
    {
     "name": "stdout",
     "output_type": "stream",
     "text": [
      "<class 'pandas.core.frame.DataFrame'>\n",
      "RangeIndex: 29480 entries, 0 to 29479\n",
      "Data columns (total 46 columns):\n",
      " #   Column                   Non-Null Count  Dtype  \n",
      "---  ------                   --------------  -----  \n",
      " 0   make_model               28630 non-null  object \n",
      " 1   short_description        28630 non-null  object \n",
      " 2   make                     28630 non-null  object \n",
      " 3   model                    28630 non-null  object \n",
      " 4   location                 28630 non-null  object \n",
      " 5   price                    28630 non-null  object \n",
      " 6   body_type                28630 non-null  object \n",
      " 7   type                     28630 non-null  object \n",
      " 8   doors                    28271 non-null  object \n",
      " 9   country_version          16889 non-null  object \n",
      " 10  offer_number             23100 non-null  object \n",
      " 11  warranty                 15784 non-null  object \n",
      " 12  mileage                  28629 non-null  object \n",
      " 13  first_registration       28628 non-null  object \n",
      " 14  gearbox                  28382 non-null  object \n",
      " 15  fuel_type                26843 non-null  object \n",
      " 16  colour                   26906 non-null  object \n",
      " 17  paint                    14495 non-null  object \n",
      " 18  desc                     28047 non-null  object \n",
      " 19  seller                   28630 non-null  object \n",
      " 20  seats                    25505 non-null  object \n",
      " 21  power                    28058 non-null  object \n",
      " 22  engine_size              27227 non-null  object \n",
      " 23  gears                    18954 non-null  object \n",
      " 24  co_emissions             18594 non-null  object \n",
      " 25  manufacturer_colour      21787 non-null  object \n",
      " 26  drivetrain               16893 non-null  object \n",
      " 27  cylinders                18852 non-null  object \n",
      " 28  fuel_consumption         23385 non-null  object \n",
      " 29  comfort_&_convenience    25433 non-null  object \n",
      " 30  entertainment_&_media    23644 non-null  object \n",
      " 31  safety_&_security        25415 non-null  object \n",
      " 32  extras                   23480 non-null  object \n",
      " 33  empty_weight             17758 non-null  object \n",
      " 34  model_code               8367 non-null   object \n",
      " 35  general_inspection       12254 non-null  object \n",
      " 36  full_service_history     12565 non-null  object \n",
      " 37  non_smoker_vehicle       11594 non-null  object \n",
      " 38  emission_class           17859 non-null  object \n",
      " 39  emissions_sticker        9414 non-null   object \n",
      " 40  upholstery_colour        14569 non-null  object \n",
      " 41  upholstery               18610 non-null  object \n",
      " 42  production_date          5908 non-null   float64\n",
      " 43  previous_owner           14015 non-null  object \n",
      " 44  energy_efficiency_class  7804 non-null   object \n",
      " 45  co_efficiency            7804 non-null   object \n",
      "dtypes: float64(1), object(45)\n",
      "memory usage: 10.3+ MB\n"
     ]
    }
   ],
   "source": [
    "df.info()"
   ]
  },
  {
   "cell_type": "code",
   "execution_count": 16,
   "id": "55b3e733",
   "metadata": {},
   "outputs": [
    {
     "data": {
      "text/plain": [
       "(29480, 46)"
      ]
     },
     "execution_count": 16,
     "metadata": {},
     "output_type": "execute_result"
    }
   ],
   "source": [
    "df.shape"
   ]
  },
  {
   "cell_type": "markdown",
   "id": "b620fc22",
   "metadata": {},
   "source": [
    "# Examination of duplicated values"
   ]
  },
  {
   "cell_type": "code",
   "execution_count": 17,
   "id": "e732738c",
   "metadata": {},
   "outputs": [
    {
     "data": {
      "text/plain": [
       "4384"
      ]
     },
     "execution_count": 17,
     "metadata": {},
     "output_type": "execute_result"
    }
   ],
   "source": [
    "df.astype(str).duplicated(keep=False).sum()"
   ]
  },
  {
   "cell_type": "code",
   "execution_count": 18,
   "id": "2eb2f106",
   "metadata": {},
   "outputs": [
    {
     "data": {
      "text/html": [
       "<div>\n",
       "<style scoped>\n",
       "    .dataframe tbody tr th:only-of-type {\n",
       "        vertical-align: middle;\n",
       "    }\n",
       "\n",
       "    .dataframe tbody tr th {\n",
       "        vertical-align: top;\n",
       "    }\n",
       "\n",
       "    .dataframe thead th {\n",
       "        text-align: right;\n",
       "    }\n",
       "</style>\n",
       "<table border=\"1\" class=\"dataframe\">\n",
       "  <thead>\n",
       "    <tr style=\"text-align: right;\">\n",
       "      <th></th>\n",
       "      <th>make_model</th>\n",
       "      <th>short_description</th>\n",
       "      <th>make</th>\n",
       "      <th>model</th>\n",
       "      <th>location</th>\n",
       "      <th>price</th>\n",
       "      <th>body_type</th>\n",
       "      <th>type</th>\n",
       "      <th>doors</th>\n",
       "      <th>country_version</th>\n",
       "      <th>...</th>\n",
       "      <th>full_service_history</th>\n",
       "      <th>non_smoker_vehicle</th>\n",
       "      <th>emission_class</th>\n",
       "      <th>emissions_sticker</th>\n",
       "      <th>upholstery_colour</th>\n",
       "      <th>upholstery</th>\n",
       "      <th>production_date</th>\n",
       "      <th>previous_owner</th>\n",
       "      <th>energy_efficiency_class</th>\n",
       "      <th>co_efficiency</th>\n",
       "    </tr>\n",
       "  </thead>\n",
       "  <tbody>\n",
       "    <tr>\n",
       "      <th>579</th>\n",
       "      <td>Mercedes-Benz SLK 200</td>\n",
       "      <td>Kompressor Aut. Cabrio Final Edition</td>\n",
       "      <td>\\nMercedes-Benz\\n</td>\n",
       "      <td>[\\n, SLK 200 ,\\n]</td>\n",
       "      <td>Marienborner Str.  49,  55128 Mainz, DE</td>\n",
       "      <td>€ 15,990.-</td>\n",
       "      <td>[\\n, Convertible, \\n]</td>\n",
       "      <td>[\\n, Used, \\n]</td>\n",
       "      <td>[\\n, 2, \\n]</td>\n",
       "      <td>[\\n, Germany, \\n]</td>\n",
       "      <td>...</td>\n",
       "      <td>NaN</td>\n",
       "      <td>Yes</td>\n",
       "      <td>Euro 4</td>\n",
       "      <td>4 (Green)</td>\n",
       "      <td>Black</td>\n",
       "      <td>Full leather</td>\n",
       "      <td>NaN</td>\n",
       "      <td>[[39,000 km, 05/2003], 1]</td>\n",
       "      <td>NaN</td>\n",
       "      <td>NaN</td>\n",
       "    </tr>\n",
       "    <tr>\n",
       "      <th>580</th>\n",
       "      <td>Mercedes-Benz SLK 200</td>\n",
       "      <td>Kompressor Aut. Cabrio Final Edition</td>\n",
       "      <td>\\nMercedes-Benz\\n</td>\n",
       "      <td>[\\n, SLK 200 ,\\n]</td>\n",
       "      <td>Marienborner Str.  49,  55128 Mainz, DE</td>\n",
       "      <td>€ 15,990.-</td>\n",
       "      <td>[\\n, Convertible, \\n]</td>\n",
       "      <td>[\\n, Used, \\n]</td>\n",
       "      <td>[\\n, 2, \\n]</td>\n",
       "      <td>[\\n, Germany, \\n]</td>\n",
       "      <td>...</td>\n",
       "      <td>NaN</td>\n",
       "      <td>Yes</td>\n",
       "      <td>Euro 4</td>\n",
       "      <td>4 (Green)</td>\n",
       "      <td>Black</td>\n",
       "      <td>Full leather</td>\n",
       "      <td>NaN</td>\n",
       "      <td>[[39,000 km, 05/2003], 1]</td>\n",
       "      <td>NaN</td>\n",
       "      <td>NaN</td>\n",
       "    </tr>\n",
       "    <tr>\n",
       "      <th>610</th>\n",
       "      <td>Mercedes-Benz G 500</td>\n",
       "      <td>Cabrio LORINSER UMBAU/AHK/ELEKTR. SITZE</td>\n",
       "      <td>\\nMercedes-Benz\\n</td>\n",
       "      <td>[\\n, G 500 ,\\n]</td>\n",
       "      <td>Alte Bundesstr. 45,  71332 Waiblingen, DE</td>\n",
       "      <td>€ 209,000.-</td>\n",
       "      <td>[\\n, Convertible, \\n]</td>\n",
       "      <td>[\\n, Used, \\n]</td>\n",
       "      <td>[\\n, 3, \\n]</td>\n",
       "      <td>NaN</td>\n",
       "      <td>...</td>\n",
       "      <td>Yes</td>\n",
       "      <td>Yes</td>\n",
       "      <td>Euro 4</td>\n",
       "      <td>4 (Green)</td>\n",
       "      <td>Black</td>\n",
       "      <td>Full leather</td>\n",
       "      <td>1999.00</td>\n",
       "      <td>[[172,000 km, 02/1999], 2]</td>\n",
       "      <td>G</td>\n",
       "      <td>Calculated on basis of measured CO₂-emissions ...</td>\n",
       "    </tr>\n",
       "    <tr>\n",
       "      <th>613</th>\n",
       "      <td>Mercedes-Benz G 500</td>\n",
       "      <td>Cabrio LORINSER UMBAU/AHK/ELEKTR. SITZE</td>\n",
       "      <td>\\nMercedes-Benz\\n</td>\n",
       "      <td>[\\n, G 500 ,\\n]</td>\n",
       "      <td>Alte Bundesstr. 45,  71332 Waiblingen, DE</td>\n",
       "      <td>€ 209,000.-</td>\n",
       "      <td>[\\n, Convertible, \\n]</td>\n",
       "      <td>[\\n, Used, \\n]</td>\n",
       "      <td>[\\n, 3, \\n]</td>\n",
       "      <td>NaN</td>\n",
       "      <td>...</td>\n",
       "      <td>Yes</td>\n",
       "      <td>Yes</td>\n",
       "      <td>Euro 4</td>\n",
       "      <td>4 (Green)</td>\n",
       "      <td>Black</td>\n",
       "      <td>Full leather</td>\n",
       "      <td>1999.00</td>\n",
       "      <td>[[172,000 km, 02/1999], 2]</td>\n",
       "      <td>G</td>\n",
       "      <td>Calculated on basis of measured CO₂-emissions ...</td>\n",
       "    </tr>\n",
       "    <tr>\n",
       "      <th>839</th>\n",
       "      <td>Mercedes-Benz CLA 45 AMG</td>\n",
       "      <td>4Matic*KAMERA*NAVI*LED*DESIGNO*SHZ*</td>\n",
       "      <td>\\nMercedes-Benz\\n</td>\n",
       "      <td>[\\n, CLA 45 AMG ,\\n]</td>\n",
       "      <td>Aidlinger Straße 16 - 18,  71069 Sindelfingen-...</td>\n",
       "      <td>€ 33,890.-</td>\n",
       "      <td>[\\n, Coupe, \\n]</td>\n",
       "      <td>[\\n, Used, \\n]</td>\n",
       "      <td>[\\n, 4, \\n]</td>\n",
       "      <td>[\\n, Germany, \\n]</td>\n",
       "      <td>...</td>\n",
       "      <td>Yes</td>\n",
       "      <td>Yes</td>\n",
       "      <td>Euro 6</td>\n",
       "      <td>4 (Green)</td>\n",
       "      <td>Black</td>\n",
       "      <td>alcantara</td>\n",
       "      <td>NaN</td>\n",
       "      <td>[[76,900 km, 08/2016], 2]</td>\n",
       "      <td>NaN</td>\n",
       "      <td>NaN</td>\n",
       "    </tr>\n",
       "    <tr>\n",
       "      <th>...</th>\n",
       "      <td>...</td>\n",
       "      <td>...</td>\n",
       "      <td>...</td>\n",
       "      <td>...</td>\n",
       "      <td>...</td>\n",
       "      <td>...</td>\n",
       "      <td>...</td>\n",
       "      <td>...</td>\n",
       "      <td>...</td>\n",
       "      <td>...</td>\n",
       "      <td>...</td>\n",
       "      <td>...</td>\n",
       "      <td>...</td>\n",
       "      <td>...</td>\n",
       "      <td>...</td>\n",
       "      <td>...</td>\n",
       "      <td>...</td>\n",
       "      <td>...</td>\n",
       "      <td>...</td>\n",
       "      <td>...</td>\n",
       "      <td>...</td>\n",
       "    </tr>\n",
       "    <tr>\n",
       "      <th>29441</th>\n",
       "      <td>Volvo V40</td>\n",
       "      <td>D3 150ch R-Design Geartronic</td>\n",
       "      <td>\\nVolvo\\n</td>\n",
       "      <td>[\\n, V40 ,\\n]</td>\n",
       "      <td>19 rue des Alliés,  57050 Metz, FR</td>\n",
       "      <td>€ 18,999.-</td>\n",
       "      <td>[\\n, Sedan, \\n]</td>\n",
       "      <td>[\\n, Used, \\n]</td>\n",
       "      <td>[\\n, 5, \\n]</td>\n",
       "      <td>NaN</td>\n",
       "      <td>...</td>\n",
       "      <td>NaN</td>\n",
       "      <td>NaN</td>\n",
       "      <td>NaN</td>\n",
       "      <td>NaN</td>\n",
       "      <td>NaN</td>\n",
       "      <td>NaN</td>\n",
       "      <td>NaN</td>\n",
       "      <td>NaN</td>\n",
       "      <td>NaN</td>\n",
       "      <td>NaN</td>\n",
       "    </tr>\n",
       "    <tr>\n",
       "      <th>29445</th>\n",
       "      <td>NaN</td>\n",
       "      <td>NaN</td>\n",
       "      <td>NaN</td>\n",
       "      <td>NaN</td>\n",
       "      <td>NaN</td>\n",
       "      <td>NaN</td>\n",
       "      <td>NaN</td>\n",
       "      <td>NaN</td>\n",
       "      <td>NaN</td>\n",
       "      <td>NaN</td>\n",
       "      <td>...</td>\n",
       "      <td>NaN</td>\n",
       "      <td>NaN</td>\n",
       "      <td>NaN</td>\n",
       "      <td>NaN</td>\n",
       "      <td>NaN</td>\n",
       "      <td>NaN</td>\n",
       "      <td>NaN</td>\n",
       "      <td>NaN</td>\n",
       "      <td>NaN</td>\n",
       "      <td>NaN</td>\n",
       "    </tr>\n",
       "    <tr>\n",
       "      <th>29451</th>\n",
       "      <td>NaN</td>\n",
       "      <td>NaN</td>\n",
       "      <td>NaN</td>\n",
       "      <td>NaN</td>\n",
       "      <td>NaN</td>\n",
       "      <td>NaN</td>\n",
       "      <td>NaN</td>\n",
       "      <td>NaN</td>\n",
       "      <td>NaN</td>\n",
       "      <td>NaN</td>\n",
       "      <td>...</td>\n",
       "      <td>NaN</td>\n",
       "      <td>NaN</td>\n",
       "      <td>NaN</td>\n",
       "      <td>NaN</td>\n",
       "      <td>NaN</td>\n",
       "      <td>NaN</td>\n",
       "      <td>NaN</td>\n",
       "      <td>NaN</td>\n",
       "      <td>NaN</td>\n",
       "      <td>NaN</td>\n",
       "    </tr>\n",
       "    <tr>\n",
       "      <th>29473</th>\n",
       "      <td>NaN</td>\n",
       "      <td>NaN</td>\n",
       "      <td>NaN</td>\n",
       "      <td>NaN</td>\n",
       "      <td>NaN</td>\n",
       "      <td>NaN</td>\n",
       "      <td>NaN</td>\n",
       "      <td>NaN</td>\n",
       "      <td>NaN</td>\n",
       "      <td>NaN</td>\n",
       "      <td>...</td>\n",
       "      <td>NaN</td>\n",
       "      <td>NaN</td>\n",
       "      <td>NaN</td>\n",
       "      <td>NaN</td>\n",
       "      <td>NaN</td>\n",
       "      <td>NaN</td>\n",
       "      <td>NaN</td>\n",
       "      <td>NaN</td>\n",
       "      <td>NaN</td>\n",
       "      <td>NaN</td>\n",
       "    </tr>\n",
       "    <tr>\n",
       "      <th>29479</th>\n",
       "      <td>NaN</td>\n",
       "      <td>NaN</td>\n",
       "      <td>NaN</td>\n",
       "      <td>NaN</td>\n",
       "      <td>NaN</td>\n",
       "      <td>NaN</td>\n",
       "      <td>NaN</td>\n",
       "      <td>NaN</td>\n",
       "      <td>NaN</td>\n",
       "      <td>NaN</td>\n",
       "      <td>...</td>\n",
       "      <td>NaN</td>\n",
       "      <td>NaN</td>\n",
       "      <td>NaN</td>\n",
       "      <td>NaN</td>\n",
       "      <td>NaN</td>\n",
       "      <td>NaN</td>\n",
       "      <td>NaN</td>\n",
       "      <td>NaN</td>\n",
       "      <td>NaN</td>\n",
       "      <td>NaN</td>\n",
       "    </tr>\n",
       "  </tbody>\n",
       "</table>\n",
       "<p>4384 rows × 46 columns</p>\n",
       "</div>"
      ],
      "text/plain": [
       "                     make_model                        short_description  \\\n",
       "579       Mercedes-Benz SLK 200     Kompressor Aut. Cabrio Final Edition   \n",
       "580       Mercedes-Benz SLK 200     Kompressor Aut. Cabrio Final Edition   \n",
       "610         Mercedes-Benz G 500  Cabrio LORINSER UMBAU/AHK/ELEKTR. SITZE   \n",
       "613         Mercedes-Benz G 500  Cabrio LORINSER UMBAU/AHK/ELEKTR. SITZE   \n",
       "839    Mercedes-Benz CLA 45 AMG      4Matic*KAMERA*NAVI*LED*DESIGNO*SHZ*   \n",
       "...                         ...                                      ...   \n",
       "29441                 Volvo V40             D3 150ch R-Design Geartronic   \n",
       "29445                       NaN                                      NaN   \n",
       "29451                       NaN                                      NaN   \n",
       "29473                       NaN                                      NaN   \n",
       "29479                       NaN                                      NaN   \n",
       "\n",
       "                    make                 model  \\\n",
       "579    \\nMercedes-Benz\\n     [\\n, SLK 200 ,\\n]   \n",
       "580    \\nMercedes-Benz\\n     [\\n, SLK 200 ,\\n]   \n",
       "610    \\nMercedes-Benz\\n       [\\n, G 500 ,\\n]   \n",
       "613    \\nMercedes-Benz\\n       [\\n, G 500 ,\\n]   \n",
       "839    \\nMercedes-Benz\\n  [\\n, CLA 45 AMG ,\\n]   \n",
       "...                  ...                   ...   \n",
       "29441          \\nVolvo\\n         [\\n, V40 ,\\n]   \n",
       "29445                NaN                   NaN   \n",
       "29451                NaN                   NaN   \n",
       "29473                NaN                   NaN   \n",
       "29479                NaN                   NaN   \n",
       "\n",
       "                                                location        price  \\\n",
       "579              Marienborner Str.  49,  55128 Mainz, DE   € 15,990.-   \n",
       "580              Marienborner Str.  49,  55128 Mainz, DE   € 15,990.-   \n",
       "610            Alte Bundesstr. 45,  71332 Waiblingen, DE  € 209,000.-   \n",
       "613            Alte Bundesstr. 45,  71332 Waiblingen, DE  € 209,000.-   \n",
       "839    Aidlinger Straße 16 - 18,  71069 Sindelfingen-...   € 33,890.-   \n",
       "...                                                  ...          ...   \n",
       "29441                 19 rue des Alliés,  57050 Metz, FR   € 18,999.-   \n",
       "29445                                                NaN          NaN   \n",
       "29451                                                NaN          NaN   \n",
       "29473                                                NaN          NaN   \n",
       "29479                                                NaN          NaN   \n",
       "\n",
       "                   body_type            type        doors    country_version  \\\n",
       "579    [\\n, Convertible, \\n]  [\\n, Used, \\n]  [\\n, 2, \\n]  [\\n, Germany, \\n]   \n",
       "580    [\\n, Convertible, \\n]  [\\n, Used, \\n]  [\\n, 2, \\n]  [\\n, Germany, \\n]   \n",
       "610    [\\n, Convertible, \\n]  [\\n, Used, \\n]  [\\n, 3, \\n]                NaN   \n",
       "613    [\\n, Convertible, \\n]  [\\n, Used, \\n]  [\\n, 3, \\n]                NaN   \n",
       "839          [\\n, Coupe, \\n]  [\\n, Used, \\n]  [\\n, 4, \\n]  [\\n, Germany, \\n]   \n",
       "...                      ...             ...          ...                ...   \n",
       "29441        [\\n, Sedan, \\n]  [\\n, Used, \\n]  [\\n, 5, \\n]                NaN   \n",
       "29445                    NaN             NaN          NaN                NaN   \n",
       "29451                    NaN             NaN          NaN                NaN   \n",
       "29473                    NaN             NaN          NaN                NaN   \n",
       "29479                    NaN             NaN          NaN                NaN   \n",
       "\n",
       "       ... full_service_history non_smoker_vehicle emission_class  \\\n",
       "579    ...                  NaN                Yes         Euro 4   \n",
       "580    ...                  NaN                Yes         Euro 4   \n",
       "610    ...                  Yes                Yes         Euro 4   \n",
       "613    ...                  Yes                Yes         Euro 4   \n",
       "839    ...                  Yes                Yes         Euro 6   \n",
       "...    ...                  ...                ...            ...   \n",
       "29441  ...                  NaN                NaN            NaN   \n",
       "29445  ...                  NaN                NaN            NaN   \n",
       "29451  ...                  NaN                NaN            NaN   \n",
       "29473  ...                  NaN                NaN            NaN   \n",
       "29479  ...                  NaN                NaN            NaN   \n",
       "\n",
       "      emissions_sticker upholstery_colour    upholstery production_date  \\\n",
       "579           4 (Green)             Black  Full leather             NaN   \n",
       "580           4 (Green)             Black  Full leather             NaN   \n",
       "610           4 (Green)             Black  Full leather         1999.00   \n",
       "613           4 (Green)             Black  Full leather         1999.00   \n",
       "839           4 (Green)             Black     alcantara             NaN   \n",
       "...                 ...               ...           ...             ...   \n",
       "29441               NaN               NaN           NaN             NaN   \n",
       "29445               NaN               NaN           NaN             NaN   \n",
       "29451               NaN               NaN           NaN             NaN   \n",
       "29473               NaN               NaN           NaN             NaN   \n",
       "29479               NaN               NaN           NaN             NaN   \n",
       "\n",
       "                   previous_owner energy_efficiency_class  \\\n",
       "579     [[39,000 km, 05/2003], 1]                     NaN   \n",
       "580     [[39,000 km, 05/2003], 1]                     NaN   \n",
       "610    [[172,000 km, 02/1999], 2]                       G   \n",
       "613    [[172,000 km, 02/1999], 2]                       G   \n",
       "839     [[76,900 km, 08/2016], 2]                     NaN   \n",
       "...                           ...                     ...   \n",
       "29441                         NaN                     NaN   \n",
       "29445                         NaN                     NaN   \n",
       "29451                         NaN                     NaN   \n",
       "29473                         NaN                     NaN   \n",
       "29479                         NaN                     NaN   \n",
       "\n",
       "                                           co_efficiency  \n",
       "579                                                  NaN  \n",
       "580                                                  NaN  \n",
       "610    Calculated on basis of measured CO₂-emissions ...  \n",
       "613    Calculated on basis of measured CO₂-emissions ...  \n",
       "839                                                  NaN  \n",
       "...                                                  ...  \n",
       "29441                                                NaN  \n",
       "29445                                                NaN  \n",
       "29451                                                NaN  \n",
       "29473                                                NaN  \n",
       "29479                                                NaN  \n",
       "\n",
       "[4384 rows x 46 columns]"
      ]
     },
     "execution_count": 18,
     "metadata": {},
     "output_type": "execute_result"
    }
   ],
   "source": [
    "df[df.astype(str).duplicated(keep=False)]"
   ]
  },
  {
   "cell_type": "code",
   "execution_count": 19,
   "id": "de975b59",
   "metadata": {},
   "outputs": [
    {
     "data": {
      "text/plain": [
       "Volvo C70              690\n",
       "Volvo V40              678\n",
       "Volvo XC60             350\n",
       "Volvo V60              308\n",
       "Volvo C30              228\n",
       "                      ... \n",
       "Mercedes-Benz V 250      2\n",
       "Toyota Camry             2\n",
       "Toyota Avensis           2\n",
       "Mercedes-Benz S 500      2\n",
       "Volvo 945                2\n",
       "Name: make_model, Length: 198, dtype: int64"
      ]
     },
     "execution_count": 19,
     "metadata": {},
     "output_type": "execute_result"
    }
   ],
   "source": [
    "df[df.astype(str).duplicated(['make_model', 'short_description', 'location'], \n",
    "                             keep=False)]['make_model'].value_counts(dropna=True)"
   ]
  },
  {
   "cell_type": "code",
   "execution_count": 20,
   "id": "1b677a4f",
   "metadata": {},
   "outputs": [
    {
     "data": {
      "text/html": [
       "<div>\n",
       "<style scoped>\n",
       "    .dataframe tbody tr th:only-of-type {\n",
       "        vertical-align: middle;\n",
       "    }\n",
       "\n",
       "    .dataframe tbody tr th {\n",
       "        vertical-align: top;\n",
       "    }\n",
       "\n",
       "    .dataframe thead th {\n",
       "        text-align: right;\n",
       "    }\n",
       "</style>\n",
       "<table border=\"1\" class=\"dataframe\">\n",
       "  <thead>\n",
       "    <tr style=\"text-align: right;\">\n",
       "      <th></th>\n",
       "      <th>make_model</th>\n",
       "      <th>short_description</th>\n",
       "      <th>make</th>\n",
       "      <th>model</th>\n",
       "      <th>location</th>\n",
       "      <th>price</th>\n",
       "      <th>body_type</th>\n",
       "      <th>type</th>\n",
       "      <th>doors</th>\n",
       "      <th>country_version</th>\n",
       "      <th>...</th>\n",
       "      <th>full_service_history</th>\n",
       "      <th>non_smoker_vehicle</th>\n",
       "      <th>emission_class</th>\n",
       "      <th>emissions_sticker</th>\n",
       "      <th>upholstery_colour</th>\n",
       "      <th>upholstery</th>\n",
       "      <th>production_date</th>\n",
       "      <th>previous_owner</th>\n",
       "      <th>energy_efficiency_class</th>\n",
       "      <th>co_efficiency</th>\n",
       "    </tr>\n",
       "  </thead>\n",
       "  <tbody>\n",
       "    <tr>\n",
       "      <th>26470</th>\n",
       "      <td>Volvo C70</td>\n",
       "      <td>T5 Summum</td>\n",
       "      <td>\\nVolvo\\n</td>\n",
       "      <td>[\\n, C70 ,\\n]</td>\n",
       "      <td>RIO ULLA 15,  28017 MADRID, ES</td>\n",
       "      <td>€ 11,999.-</td>\n",
       "      <td>[\\n, Convertible, \\n]</td>\n",
       "      <td>[\\n, Used, \\n]</td>\n",
       "      <td>[\\n, 2, \\n]</td>\n",
       "      <td>[\\n, Spain, \\n]</td>\n",
       "      <td>...</td>\n",
       "      <td>NaN</td>\n",
       "      <td>NaN</td>\n",
       "      <td>NaN</td>\n",
       "      <td>NaN</td>\n",
       "      <td>NaN</td>\n",
       "      <td>NaN</td>\n",
       "      <td>NaN</td>\n",
       "      <td>NaN</td>\n",
       "      <td>NaN</td>\n",
       "      <td>NaN</td>\n",
       "    </tr>\n",
       "    <tr>\n",
       "      <th>26471</th>\n",
       "      <td>Volvo C70</td>\n",
       "      <td>2.4i Momentum</td>\n",
       "      <td>\\nVolvo\\n</td>\n",
       "      <td>[\\n, C70 ,\\n]</td>\n",
       "      <td>Auf dem Sand 28,  40721 Hilden, DE</td>\n",
       "      <td>€ 11,880.-</td>\n",
       "      <td>[\\n, Convertible, \\n]</td>\n",
       "      <td>[\\n, Used, \\n]</td>\n",
       "      <td>[\\n, 2, \\n]</td>\n",
       "      <td>[\\n, Germany, \\n]</td>\n",
       "      <td>...</td>\n",
       "      <td>Yes</td>\n",
       "      <td>NaN</td>\n",
       "      <td>Euro 4</td>\n",
       "      <td>4 (Green)</td>\n",
       "      <td>Beige</td>\n",
       "      <td>Part leather</td>\n",
       "      <td>NaN</td>\n",
       "      <td>[[155,923 km, 08/2006], 2]</td>\n",
       "      <td>F</td>\n",
       "      <td>Calculated on basis of measured CO₂-emissions ...</td>\n",
       "    </tr>\n",
       "    <tr>\n",
       "      <th>26472</th>\n",
       "      <td>Volvo C70</td>\n",
       "      <td>2.5T 220PS Cabriolet T5 Summum 1.Hand Xenon</td>\n",
       "      <td>\\nVolvo\\n</td>\n",
       "      <td>[\\n, C70 ,\\n]</td>\n",
       "      <td>Lichterfelder Allee 14,  14513 Teltow, DE</td>\n",
       "      <td>€ 20,999.-</td>\n",
       "      <td>[\\n, Convertible, \\n]</td>\n",
       "      <td>[\\n, Used, \\n]</td>\n",
       "      <td>[\\n, 2, \\n]</td>\n",
       "      <td>[\\n, Germany, \\n]</td>\n",
       "      <td>...</td>\n",
       "      <td>Yes</td>\n",
       "      <td>Yes</td>\n",
       "      <td>Euro 4</td>\n",
       "      <td>4 (Green)</td>\n",
       "      <td>Grey</td>\n",
       "      <td>Full leather</td>\n",
       "      <td>NaN</td>\n",
       "      <td>[[69,747 km, 05/2007], 1]</td>\n",
       "      <td>NaN</td>\n",
       "      <td>NaN</td>\n",
       "    </tr>\n",
       "  </tbody>\n",
       "</table>\n",
       "<p>3 rows × 46 columns</p>\n",
       "</div>"
      ],
      "text/plain": [
       "      make_model                            short_description       make  \\\n",
       "26470  Volvo C70                                    T5 Summum  \\nVolvo\\n   \n",
       "26471  Volvo C70                                2.4i Momentum  \\nVolvo\\n   \n",
       "26472  Volvo C70  2.5T 220PS Cabriolet T5 Summum 1.Hand Xenon  \\nVolvo\\n   \n",
       "\n",
       "               model                                   location       price  \\\n",
       "26470  [\\n, C70 ,\\n]             RIO ULLA 15,  28017 MADRID, ES  € 11,999.-   \n",
       "26471  [\\n, C70 ,\\n]         Auf dem Sand 28,  40721 Hilden, DE  € 11,880.-   \n",
       "26472  [\\n, C70 ,\\n]  Lichterfelder Allee 14,  14513 Teltow, DE  € 20,999.-   \n",
       "\n",
       "                   body_type            type        doors    country_version  \\\n",
       "26470  [\\n, Convertible, \\n]  [\\n, Used, \\n]  [\\n, 2, \\n]    [\\n, Spain, \\n]   \n",
       "26471  [\\n, Convertible, \\n]  [\\n, Used, \\n]  [\\n, 2, \\n]  [\\n, Germany, \\n]   \n",
       "26472  [\\n, Convertible, \\n]  [\\n, Used, \\n]  [\\n, 2, \\n]  [\\n, Germany, \\n]   \n",
       "\n",
       "       ... full_service_history non_smoker_vehicle emission_class  \\\n",
       "26470  ...                  NaN                NaN            NaN   \n",
       "26471  ...                  Yes                NaN         Euro 4   \n",
       "26472  ...                  Yes                Yes         Euro 4   \n",
       "\n",
       "      emissions_sticker upholstery_colour    upholstery production_date  \\\n",
       "26470               NaN               NaN           NaN             NaN   \n",
       "26471         4 (Green)             Beige  Part leather             NaN   \n",
       "26472         4 (Green)              Grey  Full leather             NaN   \n",
       "\n",
       "                   previous_owner energy_efficiency_class  \\\n",
       "26470                         NaN                     NaN   \n",
       "26471  [[155,923 km, 08/2006], 2]                       F   \n",
       "26472   [[69,747 km, 05/2007], 1]                     NaN   \n",
       "\n",
       "                                           co_efficiency  \n",
       "26470                                                NaN  \n",
       "26471  Calculated on basis of measured CO₂-emissions ...  \n",
       "26472                                                NaN  \n",
       "\n",
       "[3 rows x 46 columns]"
      ]
     },
     "execution_count": 20,
     "metadata": {},
     "output_type": "execute_result"
    }
   ],
   "source": [
    "df[df.astype(str)[\"make_model\"] == \"Volvo C70\"].head(3)"
   ]
  },
  {
   "cell_type": "code",
   "execution_count": 21,
   "id": "32cdb2f7",
   "metadata": {},
   "outputs": [
    {
     "data": {
      "text/plain": [
       "True     690\n",
       "False      2\n",
       "dtype: int64"
      ]
     },
     "execution_count": 21,
     "metadata": {},
     "output_type": "execute_result"
    }
   ],
   "source": [
    "df[df['make_model'] == 'Volvo C70'].astype(str).duplicated(keep=False).value_counts(dropna=False)"
   ]
  },
  {
   "cell_type": "markdown",
   "id": "c8fe4834",
   "metadata": {},
   "source": [
    "# The Examination of Columns"
   ]
  },
  {
   "cell_type": "code",
   "execution_count": 22,
   "id": "1c88cdc1",
   "metadata": {},
   "outputs": [],
   "source": [
    "# let's create a function to see the first look of a column"
   ]
  },
  {
   "cell_type": "code",
   "execution_count": 23,
   "id": "24bef9d1",
   "metadata": {},
   "outputs": [],
   "source": [
    "def first_looking(col):\n",
    "    print(\"column name:\", col)\n",
    "    print(\"---------------------------------\")\n",
    "    print(\"per_of_nulls\", \"%\", round(df[col].isnull().sum()/len(df) * 100, 2))\n",
    "    print(\"num_of_nulls\", df[col].isnull().sum())\n",
    "    print(\"num_of_uniques\", df[col].astype(str).nunique())\n",
    "    print(\"---------------------------------\")\n",
    "    print(df[col].value_counts(dropna=False))"
   ]
  },
  {
   "cell_type": "markdown",
   "id": "0c7e6a18",
   "metadata": {},
   "source": [
    "# Price column"
   ]
  },
  {
   "cell_type": "code",
   "execution_count": 24,
   "id": "0feeb58f",
   "metadata": {},
   "outputs": [
    {
     "name": "stdout",
     "output_type": "stream",
     "text": [
      "column name: price\n",
      "---------------------------------\n",
      "per_of_nulls % 2.88\n",
      "num_of_nulls 850\n",
      "num_of_uniques 5022\n",
      "---------------------------------\n",
      "NaN           850\n",
      "€ 14,990.-    222\n",
      "€ 12,990.-    219\n",
      "€ 16,990.-    186\n",
      "€ 19,990.-    166\n",
      "             ... \n",
      "€ 19,112.-      1\n",
      "€ 30,465.-      1\n",
      "€ 18,461.-      1\n",
      "€ 22,649.-      1\n",
      "€ 4,440.-       1\n",
      "Name: price, Length: 5022, dtype: int64\n"
     ]
    }
   ],
   "source": [
    "first_looking(\"price\")"
   ]
  },
  {
   "cell_type": "code",
   "execution_count": 25,
   "id": "c2e84e57",
   "metadata": {},
   "outputs": [
    {
     "data": {
      "text/html": [
       "<div>\n",
       "<style scoped>\n",
       "    .dataframe tbody tr th:only-of-type {\n",
       "        vertical-align: middle;\n",
       "    }\n",
       "\n",
       "    .dataframe tbody tr th {\n",
       "        vertical-align: top;\n",
       "    }\n",
       "\n",
       "    .dataframe thead th {\n",
       "        text-align: right;\n",
       "    }\n",
       "</style>\n",
       "<table border=\"1\" class=\"dataframe\">\n",
       "  <thead>\n",
       "    <tr style=\"text-align: right;\">\n",
       "      <th></th>\n",
       "      <th>0</th>\n",
       "    </tr>\n",
       "  </thead>\n",
       "  <tbody>\n",
       "    <tr>\n",
       "      <th>0</th>\n",
       "      <td>16,950</td>\n",
       "    </tr>\n",
       "    <tr>\n",
       "      <th>1</th>\n",
       "      <td>80,900</td>\n",
       "    </tr>\n",
       "    <tr>\n",
       "      <th>2</th>\n",
       "      <td>69,900</td>\n",
       "    </tr>\n",
       "    <tr>\n",
       "      <th>3</th>\n",
       "      <td>46,990</td>\n",
       "    </tr>\n",
       "    <tr>\n",
       "      <th>4</th>\n",
       "      <td>16,800</td>\n",
       "    </tr>\n",
       "    <tr>\n",
       "      <th>...</th>\n",
       "      <td>...</td>\n",
       "    </tr>\n",
       "    <tr>\n",
       "      <th>29475</th>\n",
       "      <td>5,499</td>\n",
       "    </tr>\n",
       "    <tr>\n",
       "      <th>29476</th>\n",
       "      <td>7,300</td>\n",
       "    </tr>\n",
       "    <tr>\n",
       "      <th>29477</th>\n",
       "      <td>29,900</td>\n",
       "    </tr>\n",
       "    <tr>\n",
       "      <th>29478</th>\n",
       "      <td>4,440</td>\n",
       "    </tr>\n",
       "    <tr>\n",
       "      <th>29479</th>\n",
       "      <td>NaN</td>\n",
       "    </tr>\n",
       "  </tbody>\n",
       "</table>\n",
       "<p>29480 rows × 1 columns</p>\n",
       "</div>"
      ],
      "text/plain": [
       "            0\n",
       "0      16,950\n",
       "1      80,900\n",
       "2      69,900\n",
       "3      46,990\n",
       "4      16,800\n",
       "...       ...\n",
       "29475   5,499\n",
       "29476   7,300\n",
       "29477  29,900\n",
       "29478   4,440\n",
       "29479     NaN\n",
       "\n",
       "[29480 rows x 1 columns]"
      ]
     },
     "execution_count": 25,
     "metadata": {},
     "output_type": "execute_result"
    }
   ],
   "source": [
    "df.price.astype(str).str.extract('(\\d+.\\d+)')"
   ]
  },
  {
   "cell_type": "code",
   "execution_count": 26,
   "id": "7f6874b6",
   "metadata": {},
   "outputs": [],
   "source": [
    "df.price = df.price.astype(str).str.extract('(\\d+.\\d+)')"
   ]
  },
  {
   "cell_type": "code",
   "execution_count": 27,
   "id": "36661bed",
   "metadata": {},
   "outputs": [
    {
     "data": {
      "text/plain": [
       "0       16950.00\n",
       "1       80900.00\n",
       "2       69900.00\n",
       "3       46990.00\n",
       "4       16800.00\n",
       "          ...   \n",
       "29475    5499.00\n",
       "29476    7300.00\n",
       "29477   29900.00\n",
       "29478    4440.00\n",
       "29479        NaN\n",
       "Name: price, Length: 29480, dtype: float64"
      ]
     },
     "execution_count": 27,
     "metadata": {},
     "output_type": "execute_result"
    }
   ],
   "source": [
    "df.price.str.replace(',', '').astype(float)"
   ]
  },
  {
   "cell_type": "code",
   "execution_count": 28,
   "id": "0fdbb34c",
   "metadata": {},
   "outputs": [],
   "source": [
    "df.price = df.price.str.replace(',', '').astype(float)"
   ]
  },
  {
   "cell_type": "code",
   "execution_count": 29,
   "id": "96b0d25b",
   "metadata": {},
   "outputs": [
    {
     "data": {
      "text/plain": [
       "0       16950.00\n",
       "1       80900.00\n",
       "2       69900.00\n",
       "3       46990.00\n",
       "4       16800.00\n",
       "          ...   \n",
       "29475    5499.00\n",
       "29476    7300.00\n",
       "29477   29900.00\n",
       "29478    4440.00\n",
       "29479        NaN\n",
       "Name: price, Length: 29480, dtype: float64"
      ]
     },
     "execution_count": 29,
     "metadata": {},
     "output_type": "execute_result"
    }
   ],
   "source": [
    "df['price']"
   ]
  },
  {
   "cell_type": "code",
   "execution_count": 30,
   "id": "7bf469b4",
   "metadata": {},
   "outputs": [
    {
     "data": {
      "text/plain": [
       "(29480, 46)"
      ]
     },
     "execution_count": 30,
     "metadata": {},
     "output_type": "execute_result"
    }
   ],
   "source": [
    "df.shape"
   ]
  },
  {
   "cell_type": "code",
   "execution_count": 31,
   "id": "67914535",
   "metadata": {},
   "outputs": [],
   "source": [
    "df.dropna(how='all', inplace=True)"
   ]
  },
  {
   "cell_type": "code",
   "execution_count": 32,
   "id": "ebc87525",
   "metadata": {},
   "outputs": [
    {
     "data": {
      "text/plain": [
       "(28630, 46)"
      ]
     },
     "execution_count": 32,
     "metadata": {},
     "output_type": "execute_result"
    }
   ],
   "source": [
    "df.shape"
   ]
  },
  {
   "cell_type": "code",
   "execution_count": 33,
   "id": "32f6dbfc",
   "metadata": {},
   "outputs": [
    {
     "data": {
      "text/plain": [
       "count    28630.00\n",
       "mean     23470.66\n",
       "std      23953.50\n",
       "min        490.00\n",
       "25%      11990.00\n",
       "50%      17979.00\n",
       "75%      27990.00\n",
       "max     999999.00\n",
       "Name: price, dtype: float64"
      ]
     },
     "execution_count": 33,
     "metadata": {},
     "output_type": "execute_result"
    }
   ],
   "source": [
    "df.price.describe()"
   ]
  },
  {
   "cell_type": "code",
   "execution_count": 34,
   "id": "a9d578e0",
   "metadata": {},
   "outputs": [],
   "source": [
    "plt.rcParams[\"figure.figsize\"] = (10, 6)"
   ]
  },
  {
   "cell_type": "code",
   "execution_count": 35,
   "id": "55187a23",
   "metadata": {},
   "outputs": [
    {
     "data": {
      "image/png": "[encoded data removed]",
      "text/plain": [
       "<Figure size 720x432 with 1 Axes>"
      ]
     },
     "metadata": {
      "needs_background": "light"
     },
     "output_type": "display_data"
    }
   ],
   "source": [
    "sns.boxplot(x=df.price);"
   ]
  },
  {
   "cell_type": "code",
   "execution_count": 36,
   "id": "3c8af665",
   "metadata": {},
   "outputs": [
    {
     "name": "stderr",
     "output_type": "stream",
     "text": [
      "C:\\Users\\Mustermann\\AppData\\Local\\Temp\\ipykernel_16548\\1279397.py:1: UserWarning: \n",
      "\n",
      "`distplot` is a deprecated function and will be removed in seaborn v0.14.0.\n",
      "\n",
      "Please adapt your code to use either `displot` (a figure-level function with\n",
      "similar flexibility) or `histplot` (an axes-level function for histograms).\n",
      "\n",
      "For a guide to updating your code to use the new functions, please see\n",
      "https://gist.github.com/mwaskom/de44147ed2974457ad6372750bbe5751\n",
      "\n",
      "  sns.distplot(df.price)\n"
     ]
    },
    {
     "data": {
      "image/png": "[encoded data removed]",
      "text/plain": [
       "<Figure size 720x432 with 1 Axes>"
      ]
     },
     "metadata": {
      "needs_background": "light"
     },
     "output_type": "display_data"
    }
   ],
   "source": [
    "sns.distplot(df.price)\n",
    "\n",
    "plt.ticklabel_format(style='plain');"
   ]
  },
  {
   "cell_type": "code",
   "execution_count": 37,
   "id": "744ad48e",
   "metadata": {},
   "outputs": [],
   "source": [
    "def show_distribution(col):\n",
    "    print(\"Statistical calculations:\")\n",
    "    print(\"----------------------------------\")\n",
    "    \n",
    "    min_val = col.min()\n",
    "    print(min_val)\n",
    "    \n",
    "    mean_val = round(col.mean(), 2)\n",
    "    print(mean_val)\n",
    "\n",
    "    med_val = col.median()\n",
    "    print(med_val)\n",
    "    \n",
    "    mod_val = col.mode()[0]\n",
    "    print(mod_val)\n",
    "    \n",
    "    max_val = col.max()\n",
    "    print(max_val)\n",
    "    \n",
    "    fig, ax = plt.subplots(2, 1, figsize=(15, 15))\n",
    "\n",
    "    ax[0].hist(col, bins=30)\n",
    "    ax[0].set_ylabel('frequency', fontsize=10)\n",
    "    \n",
    "    ax[0].axvline(x=min_val,  color='orange',     linestyle='dashed', linewidth=2, label='Minimum')\n",
    "    ax[0].axvline(x=mean_val, color='lightgreen', linestyle='dashed', linewidth=2, label='Mean')\n",
    "    ax[0].axvline(x=med_val,  color='cyan',       linestyle='dashed', linewidth=2, label='Median')\n",
    "    ax[0].axvline(x=mod_val,  color='purple',     linestyle='dashed', linewidth=2, label='Mode')\n",
    "    ax[0].axvline(x=max_val,  color='red',        linestyle='dashed', linewidth=2, label='Maximum')"
   ]
  },
  {
   "cell_type": "code",
   "execution_count": 38,
   "id": "abd0dbfb",
   "metadata": {
    "scrolled": false
   },
   "outputs": [
    {
     "name": "stdout",
     "output_type": "stream",
     "text": [
      "Statistical calculations:\n",
      "----------------------------------\n",
      "490.0\n",
      "23470.66\n",
      "17979.0\n",
      "14990.0\n",
      "999999.0\n"
     ]
    },
    {
     "data": {
      "image/png": "[encoded data removed]",
      "text/plain": [
       "<Figure size 1080x1080 with 2 Axes>"
      ]
     },
     "metadata": {
      "needs_background": "light"
     },
     "output_type": "display_data"
    }
   ],
   "source": [
    "show_distribution(df['price'])"
   ]
  },
  {
   "cell_type": "code",
   "execution_count": null,
   "id": "bf0606db",
   "metadata": {},
   "outputs": [],
   "source": []
  },
  {
   "cell_type": "markdown",
   "id": "0f7e4fe8",
   "metadata": {},
   "source": [
    "# make_model"
   ]
  },
  {
   "cell_type": "code",
   "execution_count": 39,
   "id": "b1f49950",
   "metadata": {},
   "outputs": [
    {
     "name": "stdout",
     "output_type": "stream",
     "text": [
      "column name: make_model\n",
      "---------------------------------\n",
      "per_of_nulls % 0.0\n",
      "num_of_nulls 0\n",
      "num_of_uniques 611\n",
      "---------------------------------\n",
      "Renault Megane     863\n",
      "SEAT Leon          787\n",
      "Volvo V40          740\n",
      "Dacia Sandero      730\n",
      "Hyundai i30        706\n",
      "                  ... \n",
      "Toyota GR86          1\n",
      "Toyota Tacoma        1\n",
      "Toyota Tundra        1\n",
      "Toyota 4-Runner      1\n",
      "Volvo 244            1\n",
      "Name: make_model, Length: 611, dtype: int64\n"
     ]
    }
   ],
   "source": [
    "first_looking(\"make_model\")"
   ]
  },
  {
   "cell_type": "code",
   "execution_count": 40,
   "id": "cf16fba5",
   "metadata": {},
   "outputs": [
    {
     "name": "stdout",
     "output_type": "stream",
     "text": [
      "column name: make\n",
      "---------------------------------\n",
      "per_of_nulls % 0.0\n",
      "num_of_nulls 0\n",
      "num_of_uniques 13\n",
      "---------------------------------\n",
      "\\nVolvo\\n            3659\n",
      "\\nMercedes-Benz\\n    2398\n",
      "\\nOpel\\n             2385\n",
      "\\nPeugeot\\n          2360\n",
      "\\nRenault\\n          2351\n",
      "\\nFiat\\n             2338\n",
      "\\nFord\\n             2324\n",
      "\\nNissan\\n           2064\n",
      "\\nToyota\\n           2038\n",
      "\\nHyundai\\n          1867\n",
      "\\nSEAT\\n             1743\n",
      "\\nSkoda\\n            1566\n",
      "\\nDacia\\n            1537\n",
      "Name: make, dtype: int64\n"
     ]
    }
   ],
   "source": [
    "first_looking('make')"
   ]
  },
  {
   "cell_type": "code",
   "execution_count": 41,
   "id": "bc816d85",
   "metadata": {},
   "outputs": [
    {
     "data": {
      "text/plain": [
       "Volvo            3659\n",
       "Mercedes-Benz    2398\n",
       "Opel             2385\n",
       "Peugeot          2360\n",
       "Renault          2351\n",
       "Fiat             2338\n",
       "Ford             2324\n",
       "Nissan           2064\n",
       "Toyota           2038\n",
       "Hyundai          1867\n",
       "SEAT             1743\n",
       "Skoda            1566\n",
       "Dacia            1537\n",
       "Name: make, dtype: int64"
      ]
     },
     "execution_count": 41,
     "metadata": {},
     "output_type": "execute_result"
    }
   ],
   "source": [
    "df.make = df.make.str.strip('\\n')\n",
    "df.make.value_counts(dropna=False)"
   ]
  },
  {
   "cell_type": "code",
   "execution_count": 42,
   "id": "3e26751f",
   "metadata": {},
   "outputs": [
    {
     "data": {
      "text/plain": [
       "0        Mercedes-Benz\n",
       "1        Mercedes-Benz\n",
       "2        Mercedes-Benz\n",
       "3        Mercedes-Benz\n",
       "4        Mercedes-Benz\n",
       "             ...      \n",
       "29474            Volvo\n",
       "29475            Volvo\n",
       "29476            Volvo\n",
       "29477            Volvo\n",
       "29478            Volvo\n",
       "Name: make, Length: 28630, dtype: object"
      ]
     },
     "execution_count": 42,
     "metadata": {},
     "output_type": "execute_result"
    }
   ],
   "source": [
    "df.make"
   ]
  },
  {
   "cell_type": "code",
   "execution_count": 43,
   "id": "dc46d882",
   "metadata": {},
   "outputs": [
    {
     "data": {
      "text/plain": [
       "0           A 160\n",
       "1         EQE 350\n",
       "2        A 45 AMG\n",
       "3        A 35 AMG\n",
       "4        A 45 AMG\n",
       "           ...   \n",
       "29474         S90\n",
       "29475         S40\n",
       "29476         C30\n",
       "29477         S90\n",
       "29478         S80\n",
       "Name: model, Length: 28630, dtype: object"
      ]
     },
     "execution_count": 43,
     "metadata": {},
     "output_type": "execute_result"
    }
   ],
   "source": [
    "df.model = df.model.explode().str.strip('\\n, ')\n",
    "df.model"
   ]
  },
  {
   "cell_type": "code",
   "execution_count": 44,
   "id": "2075c196",
   "metadata": {},
   "outputs": [
    {
     "data": {
      "text/plain": [
       "Megane        863\n",
       "Leon          787\n",
       "V40           740\n",
       "Sandero       730\n",
       "i30           706\n",
       "             ... \n",
       "GLA 35 AMG      1\n",
       "G 55 AMG        1\n",
       "Ariya           1\n",
       "105             1\n",
       "244             1\n",
       "Name: model, Length: 594, dtype: int64"
      ]
     },
     "execution_count": 44,
     "metadata": {},
     "output_type": "execute_result"
    }
   ],
   "source": [
    "df.model.value_counts(dropna=False)"
   ]
  },
  {
   "cell_type": "code",
   "execution_count": 45,
   "id": "72126120",
   "metadata": {},
   "outputs": [
    {
     "data": {
      "text/html": [
       "<div>\n",
       "<style scoped>\n",
       "    .dataframe tbody tr th:only-of-type {\n",
       "        vertical-align: middle;\n",
       "    }\n",
       "\n",
       "    .dataframe tbody tr th {\n",
       "        vertical-align: top;\n",
       "    }\n",
       "\n",
       "    .dataframe thead th {\n",
       "        text-align: right;\n",
       "    }\n",
       "</style>\n",
       "<table border=\"1\" class=\"dataframe\">\n",
       "  <thead>\n",
       "    <tr style=\"text-align: right;\">\n",
       "      <th></th>\n",
       "      <th>make_model</th>\n",
       "      <th>make</th>\n",
       "      <th>model</th>\n",
       "    </tr>\n",
       "  </thead>\n",
       "  <tbody>\n",
       "    <tr>\n",
       "      <th>11182</th>\n",
       "      <td>Fiat Tipo</td>\n",
       "      <td>Fiat</td>\n",
       "      <td>Tipo</td>\n",
       "    </tr>\n",
       "    <tr>\n",
       "      <th>28014</th>\n",
       "      <td>Volvo XC60</td>\n",
       "      <td>Volvo</td>\n",
       "      <td>XC60</td>\n",
       "    </tr>\n",
       "    <tr>\n",
       "      <th>21090</th>\n",
       "      <td>Nissan Leaf</td>\n",
       "      <td>Nissan</td>\n",
       "      <td>Leaf</td>\n",
       "    </tr>\n",
       "    <tr>\n",
       "      <th>3484</th>\n",
       "      <td>Opel Astra</td>\n",
       "      <td>Opel</td>\n",
       "      <td>Astra</td>\n",
       "    </tr>\n",
       "    <tr>\n",
       "      <th>17578</th>\n",
       "      <td>Toyota Supra</td>\n",
       "      <td>Toyota</td>\n",
       "      <td>Supra</td>\n",
       "    </tr>\n",
       "    <tr>\n",
       "      <th>27360</th>\n",
       "      <td>Volvo C70</td>\n",
       "      <td>Volvo</td>\n",
       "      <td>C70</td>\n",
       "    </tr>\n",
       "    <tr>\n",
       "      <th>20289</th>\n",
       "      <td>Nissan Qashqai</td>\n",
       "      <td>Nissan</td>\n",
       "      <td>Qashqai</td>\n",
       "    </tr>\n",
       "    <tr>\n",
       "      <th>26385</th>\n",
       "      <td>Volvo V40</td>\n",
       "      <td>Volvo</td>\n",
       "      <td>V40</td>\n",
       "    </tr>\n",
       "    <tr>\n",
       "      <th>1385</th>\n",
       "      <td>Mercedes-Benz GLA 250</td>\n",
       "      <td>Mercedes-Benz</td>\n",
       "      <td>GLA 250</td>\n",
       "    </tr>\n",
       "    <tr>\n",
       "      <th>9670</th>\n",
       "      <td>Fiat Panda</td>\n",
       "      <td>Fiat</td>\n",
       "      <td>Panda</td>\n",
       "    </tr>\n",
       "    <tr>\n",
       "      <th>18854</th>\n",
       "      <td>Toyota Yaris</td>\n",
       "      <td>Toyota</td>\n",
       "      <td>Yaris</td>\n",
       "    </tr>\n",
       "    <tr>\n",
       "      <th>20442</th>\n",
       "      <td>Nissan X-Trail</td>\n",
       "      <td>Nissan</td>\n",
       "      <td>X-Trail</td>\n",
       "    </tr>\n",
       "    <tr>\n",
       "      <th>21936</th>\n",
       "      <td>Ford Mustang</td>\n",
       "      <td>Ford</td>\n",
       "      <td>Mustang</td>\n",
       "    </tr>\n",
       "    <tr>\n",
       "      <th>26258</th>\n",
       "      <td>Volvo V40</td>\n",
       "      <td>Volvo</td>\n",
       "      <td>V40</td>\n",
       "    </tr>\n",
       "    <tr>\n",
       "      <th>15909</th>\n",
       "      <td>Dacia Sandero</td>\n",
       "      <td>Dacia</td>\n",
       "      <td>Sandero</td>\n",
       "    </tr>\n",
       "    <tr>\n",
       "      <th>17205</th>\n",
       "      <td>Toyota Auris</td>\n",
       "      <td>Toyota</td>\n",
       "      <td>Auris</td>\n",
       "    </tr>\n",
       "    <tr>\n",
       "      <th>13508</th>\n",
       "      <td>SEAT Leon</td>\n",
       "      <td>SEAT</td>\n",
       "      <td>Leon</td>\n",
       "    </tr>\n",
       "    <tr>\n",
       "      <th>26677</th>\n",
       "      <td>Volvo C70</td>\n",
       "      <td>Volvo</td>\n",
       "      <td>C70</td>\n",
       "    </tr>\n",
       "    <tr>\n",
       "      <th>21680</th>\n",
       "      <td>Ford Fiesta</td>\n",
       "      <td>Ford</td>\n",
       "      <td>Fiesta</td>\n",
       "    </tr>\n",
       "    <tr>\n",
       "      <th>25444</th>\n",
       "      <td>Hyundai i20</td>\n",
       "      <td>Hyundai</td>\n",
       "      <td>i20</td>\n",
       "    </tr>\n",
       "  </tbody>\n",
       "</table>\n",
       "</div>"
      ],
      "text/plain": [
       "                  make_model           make    model\n",
       "11182              Fiat Tipo           Fiat     Tipo\n",
       "28014             Volvo XC60          Volvo     XC60\n",
       "21090            Nissan Leaf         Nissan     Leaf\n",
       "3484              Opel Astra           Opel    Astra\n",
       "17578           Toyota Supra         Toyota    Supra\n",
       "27360              Volvo C70          Volvo      C70\n",
       "20289         Nissan Qashqai         Nissan  Qashqai\n",
       "26385              Volvo V40          Volvo      V40\n",
       "1385   Mercedes-Benz GLA 250  Mercedes-Benz  GLA 250\n",
       "9670              Fiat Panda           Fiat    Panda\n",
       "18854           Toyota Yaris         Toyota    Yaris\n",
       "20442         Nissan X-Trail         Nissan  X-Trail\n",
       "21936           Ford Mustang           Ford  Mustang\n",
       "26258              Volvo V40          Volvo      V40\n",
       "15909          Dacia Sandero          Dacia  Sandero\n",
       "17205           Toyota Auris         Toyota    Auris\n",
       "13508              SEAT Leon           SEAT     Leon\n",
       "26677              Volvo C70          Volvo      C70\n",
       "21680            Ford Fiesta           Ford   Fiesta\n",
       "25444            Hyundai i20        Hyundai      i20"
      ]
     },
     "execution_count": 45,
     "metadata": {},
     "output_type": "execute_result"
    }
   ],
   "source": [
    "df[['make_model', 'make', 'model']].sample(20)"
   ]
  },
  {
   "cell_type": "code",
   "execution_count": 46,
   "id": "a22908fb",
   "metadata": {},
   "outputs": [
    {
     "data": {
      "text/plain": [
       "(611, 13, 594)"
      ]
     },
     "execution_count": 46,
     "metadata": {},
     "output_type": "execute_result"
    }
   ],
   "source": [
    "df.make_model.nunique(), df.make.nunique(), df.model.nunique()"
   ]
  },
  {
   "cell_type": "code",
   "execution_count": 47,
   "id": "6a77566a",
   "metadata": {},
   "outputs": [
    {
     "data": {
      "text/html": [
       "<div>\n",
       "<style scoped>\n",
       "    .dataframe tbody tr th:only-of-type {\n",
       "        vertical-align: middle;\n",
       "    }\n",
       "\n",
       "    .dataframe tbody tr th {\n",
       "        vertical-align: top;\n",
       "    }\n",
       "\n",
       "    .dataframe thead th {\n",
       "        text-align: right;\n",
       "    }\n",
       "</style>\n",
       "<table border=\"1\" class=\"dataframe\">\n",
       "  <thead>\n",
       "    <tr style=\"text-align: right;\">\n",
       "      <th></th>\n",
       "      <th>model</th>\n",
       "    </tr>\n",
       "    <tr>\n",
       "      <th>make</th>\n",
       "      <th></th>\n",
       "    </tr>\n",
       "  </thead>\n",
       "  <tbody>\n",
       "    <tr>\n",
       "      <th>Dacia</th>\n",
       "      <td>9</td>\n",
       "    </tr>\n",
       "    <tr>\n",
       "      <th>Fiat</th>\n",
       "      <td>45</td>\n",
       "    </tr>\n",
       "    <tr>\n",
       "      <th>Ford</th>\n",
       "      <td>44</td>\n",
       "    </tr>\n",
       "    <tr>\n",
       "      <th>Hyundai</th>\n",
       "      <td>35</td>\n",
       "    </tr>\n",
       "    <tr>\n",
       "      <th>Mercedes-Benz</th>\n",
       "      <td>205</td>\n",
       "    </tr>\n",
       "    <tr>\n",
       "      <th>Nissan</th>\n",
       "      <td>46</td>\n",
       "    </tr>\n",
       "    <tr>\n",
       "      <th>Opel</th>\n",
       "      <td>40</td>\n",
       "    </tr>\n",
       "    <tr>\n",
       "      <th>Peugeot</th>\n",
       "      <td>39</td>\n",
       "    </tr>\n",
       "    <tr>\n",
       "      <th>Renault</th>\n",
       "      <td>45</td>\n",
       "    </tr>\n",
       "    <tr>\n",
       "      <th>SEAT</th>\n",
       "      <td>16</td>\n",
       "    </tr>\n",
       "    <tr>\n",
       "      <th>Skoda</th>\n",
       "      <td>14</td>\n",
       "    </tr>\n",
       "    <tr>\n",
       "      <th>Toyota</th>\n",
       "      <td>39</td>\n",
       "    </tr>\n",
       "    <tr>\n",
       "      <th>Volvo</th>\n",
       "      <td>34</td>\n",
       "    </tr>\n",
       "  </tbody>\n",
       "</table>\n",
       "</div>"
      ],
      "text/plain": [
       "               model\n",
       "make                \n",
       "Dacia              9\n",
       "Fiat              45\n",
       "Ford              44\n",
       "Hyundai           35\n",
       "Mercedes-Benz    205\n",
       "Nissan            46\n",
       "Opel              40\n",
       "Peugeot           39\n",
       "Renault           45\n",
       "SEAT              16\n",
       "Skoda             14\n",
       "Toyota            39\n",
       "Volvo             34"
      ]
     },
     "execution_count": 47,
     "metadata": {},
     "output_type": "execute_result"
    }
   ],
   "source": [
    "df.groupby('make')[['model']].nunique()"
   ]
  },
  {
   "cell_type": "code",
   "execution_count": 48,
   "id": "42a2656c",
   "metadata": {},
   "outputs": [],
   "source": [
    "df.drop([\"model\"], axis=1, inplace=True)"
   ]
  },
  {
   "cell_type": "code",
   "execution_count": 49,
   "id": "8a19314c",
   "metadata": {},
   "outputs": [
    {
     "data": {
      "text/plain": [
       "(28630, 45)"
      ]
     },
     "execution_count": 49,
     "metadata": {},
     "output_type": "execute_result"
    }
   ],
   "source": [
    "df.shape"
   ]
  },
  {
   "cell_type": "markdown",
   "id": "d7307937",
   "metadata": {},
   "source": [
    "# short_description"
   ]
  },
  {
   "cell_type": "code",
   "execution_count": 50,
   "id": "12897364",
   "metadata": {
    "scrolled": false
   },
   "outputs": [
    {
     "name": "stdout",
     "output_type": "stream",
     "text": [
      "column name: short_description\n",
      "---------------------------------\n",
      "per_of_nulls % 0.0\n",
      "num_of_nulls 0\n",
      "num_of_uniques 20947\n",
      "---------------------------------\n",
      "                                                      213\n",
      "D2 Momentum 120                                        88\n",
      "D2 Kinetic 120                                         87\n",
      "Cabrio 1.4T S&S Excellence                             85\n",
      "Extreme+ 7-Sitzer TCe 110                              57\n",
      "                                                     ... \n",
      "PureTech  EAT8 Allure Pack...DISP. PER NOLEGGIO         1\n",
      "BlueHDi 130 S&S EAT8 Business                           1\n",
      "2.0 BlueHDi 180ch S\\u0026S GT Line EAT8                 1\n",
      "1.2 PureTech Première AUT. NAVI PANO                    1\n",
      "2.9 Executive G. NETTE AUTO! LEER! NAVI! CRUISE! L      1\n",
      "Name: short_description, Length: 20947, dtype: int64\n"
     ]
    }
   ],
   "source": [
    "first_looking(\"short_description\")"
   ]
  },
  {
   "cell_type": "code",
   "execution_count": 51,
   "id": "4616f573",
   "metadata": {},
   "outputs": [],
   "source": [
    "df.drop(\"short_description\", axis=1, inplace=True)"
   ]
  },
  {
   "cell_type": "code",
   "execution_count": 52,
   "id": "4dd73069",
   "metadata": {},
   "outputs": [
    {
     "data": {
      "text/plain": [
       "(28630, 44)"
      ]
     },
     "execution_count": 52,
     "metadata": {},
     "output_type": "execute_result"
    }
   ],
   "source": [
    "df.shape"
   ]
  },
  {
   "cell_type": "markdown",
   "id": "b333623d",
   "metadata": {},
   "source": [
    "# desc"
   ]
  },
  {
   "cell_type": "code",
   "execution_count": 53,
   "id": "9c1e9db6",
   "metadata": {
    "scrolled": true
   },
   "outputs": [
    {
     "name": "stdout",
     "output_type": "stream",
     "text": [
      "column name: desc\n",
      "---------------------------------\n",
      "per_of_nulls % 2.04\n",
      "num_of_nulls 583\n",
      "num_of_uniques 23242\n",
      "---------------------------------\n",
      "NaN                                                                                                                                                                                                                                                                                                                                                                                                                                                                                                                                                                                                                                                                                                                                                                                                                                                                                                                                                                                                                                                                                                                                                                                                                                                                                                                                                                                                                                                                                                                                                                                                                                                                                                                                                                                                                                                                                                                                                                                                                                                                                                                                                                                                                                                                                                                                                                                                                                                                                                                                                                                                                                                                                                                                                                                                                                                                                                                                                                                                                                                                                                                                                                                                                                                                                                                                                                                                                                                                                                                                                                                                                                                                                                                                                                                                                                                                                                                                                                                                                                                                                                                                                                  583\n",
      "[]                                                                                                                                                                                                                                                                                                                                                                                                                                                                                                                                                                                                                                                                                                                                                                                                                                                                                                                                                                                                                                                                                                                                                                                                                                                                                                                                                                                                                                                                                                                                                                                                                                                                                                                                                                                                                                                                                                                                                                                                                                                                                                                                                                                                                                                                                                                                                                                                                                                                                                                                                                                                                                                                                                                                                                                                                                                                                                                                                                                                                                                                                                                                                                                                                                                                                                                                                                                                                                                                                                                                                                                                                                                                                                                                                                                                                                                                                                                                                                                                                                                                                                                                                                    88\n",
      "[Genaue Angaben zu der Serienausstattung, finden Sie auf unsere Homepage., Gerne nehmen wir Ihr Aktuelles Fahrzeug zurück!, Der Verkäufer übernimmt keine Haftung für Tipp und Datenübermittlungsfehler., Angeführte Ausstattungen sind ggfs. gesondert vor Ort zu prüfen., Alle Angaben in den Inseraten sind unverbindlich und ohne Gewähr.,  , Dacia Jogger TCe 110 Extreme+ 7-Sitzer,  , Sonderausstattung,  , City-Paket,  , - elektrische Parkbremse, - erhöhte Mittelkonsole, - Einparkhilfe vorne und hinten, - Rückfahrkamera, - Toter-Winkel-Warner,  , Sitzheizung für Vordersitze,  , Klimaautomatik,  , Scheiben hinten abgedunkelt,  , 7-Sitzer,  , Serienausstattung,  ,  , Eco LED-Scheinwerfer,  , Reserverad,  , Notbremsassistent,  , ECO-Mode,  , 12V Steckdose,  , Klapptische für zweite Sitzreihe,  , El. Parkbremse,  , Sonnenblenden mit Make-up-Spiegel,  , Beifahrersonnenblende mit Make-up-Spiegel,  , Fahrersitz höhenverstellbar,  , Lenkrad höhen- und längsverstellbar,  , Rücksitzbank 60/40 umklappbar,  , Servolenkung,  , Zentralverriegelung,  , El. Fensterheber vorne und hinten,  , El. Seitenspiegel,  , Schlüssellose Zentralverriegelung,  , Armlehne,  , Lenkrad in Lederoptik mit Multifunktion,  , Dachreling modular,  , Leichtmetallfelgen in schwarz mit Sommerreifen,  , Reifendruck-Kontrolle,  , Dacia Media Nav Multimediasystem,  , DAB-Radio,  , MP3 fähig,  , Bluetooth,  , USB-Anschluss,  , Touchscreen,  , CarPlay,  , Android Auto,  , Sprachsteuerung,  , Navigationssystem,  , Tempomat,  , Freisprecheinrichtung,  , Bordcomputer Check-Control,  , Geschwindigkeitsbegrenzungsanlage, ...]                                                                                                                                                                                                                                                                                                                                                                                                                                                                                                                                                                                                                                                                                                                                                                                                                                                                                                                                                                                                                                                                                                                                                                                                                                                                                                                                                                                                                                                                                                                                                                                                                                                                                                                                                                                                                                                                                                                                                                                                                                                                                                                                                                                                                                                                                                                                                                                                                                                                                                           51\n",
      "[Ref.  4236LFG,            OCASIONPLUS, SÓLO ESTE MES MEJOR PRECIO GARANTIZADO, COMPRA CON TOTAL CONFIANZA - 15 DÍAS O 1000 KMs DE PRUEBA, OCASIONPLUS - Nº1 Calidad/Precio, 5000 COCHES - 50 centros en toda la península , Elige tu coche y te lo llevamos a tu provincia, Hasta 2350€ de descuento en este coche, ADEMÁS HACEMOS FINANCIACIONES A MEDIDA, PREGÚNTANOS!!, Equipamiento destacado: Techo panorámico, Tapicería de piel, Asistente de aparcamiento, Navegador, Encendido automático de faros, Arranque por botón, Start/Stop automático, Control de velocidad, Volante multifunción, Bluetooth, Aire Acondicionado (Climatizador), Control de tracción, Llantas de aleación (18\")., - Garantía total 1 año, con cobertura nacional, ampliable a 24 meses., - Certificado de Kilómetros y ausencia de golpes estructurales., - Sobrevaloramos tu coche en operaciones de cambio. Tásalo ahora en ocasionplus.com, - Entregamos cualquier coche en cualquier centro por 100€, - Abierto Domingo y Festivos.,  , Extras,  ,  , Equipamiento destacado seleccionado por el usuario,  ,  , - Llantas de aleación de 18\", - Techo panorámico, - Navegador, - Start/Stop automático, - Control de velocidad, - Volante multifunción, - Bluetooth, - Control de tracción, - Climatizador, - Llantas de aleación, - Aire Acondicionado, - Tapicería de piel, - Asistente de aparcamiento, - Encendido automático de faros, - Arranque por botón, See more]                                                                                                                                                                                                                                                                                                                                                                                                                                                                                                                                                                                                                                                                                                                                                                                                                                                                                                                                                                                                                                                                                                                                                                                                                                                                                                                                                                                                                                                                                                                                                                                                                                                                                                                                                                                                                                                                                                                                                                                                                                                                                                                                                                                                                                                                                                                                                                                                                                                                                                                                                                                                                                                                                                     34\n",
      "[ , Precio al contado: 15200 euros,  , Ref.  6710KJS,            \"OCASIONPLUS, SÓLO ESTE MES MEJOR PRECIO GARANTIZADO, COMPRA CON TOTAL CONFIANZA - 15 DÍAS O 1000 KMs DE PRUEBA, OCASIONPLUS - Nº1 Calidad/Precio, 5000 COCHES - 50 centros en toda la península , Elige tu coche y te lo llevamos a tu provincia, Hasta 1382€ de descuento en este coche, Precio oferta financiado: 13818€ (202€/mes) financiando la totalidad a un plazo mínimo de 60 meses, Precio al contado: 15200€ ADEMÁS HACEMOS FINANCIACIONES A MEDIDA, PREGÚNTANOS!!\", Equipamiento destacado: Faros traseros led, Bluetooth, Arranque por botón, Aire Acondicionado (Climatizador), Isofix, Llantas de aleación (16\")., - Coche Nacional., - Garantía total 1 año, con cobertura nacional, ampliable a 24 meses., - Certificado de Kilómetros y ausencia de golpes estructurales., - Sobrevaloramos tu coche en operaciones de cambio. Tásalo ahora en ocasionplus.com, - Entregamos cualquier coche en cualquier centro por 100€, - Abierto Domingo y Festivos.,  , Extras,  ,  , Equipamiento destacado seleccionado por el usuario,  ,  , - Bluetooth, - Climatizador, - Llantas de aleación, - Aire Acondicionado, - Llantas de aleación de 16\", - Faros traseros led, - Isofi, x- Arranque por botón,  , Condiciones de la financiación,  , \"OCASIONPLUS, SÓLO ESTE MES MEJOR PRECIO GARANTIZADO, COMPRA CON TOTAL CONFIANZA - 15 DÍAS O 1000 KMs DE PRUEBA, OCASIONPLUS - Nº1 Calidad/Precio, 5000 COCHES - 50 centros en toda la península , Elige tu coche y te lo llevamos a tu provincia, Hasta 1382€ de descuento en este coche, Precio oferta financiado: 13818€ (202€/mes) financiando la totalidad a un plazo mínimo de 60 meses, Precio al contado: 15200€ ADEMÁS HACEMOS FINANCIACIONES A MEDIDA, PREGÚNTANOS!!\", See more]                                                                                                                                                                                                                                                                                                                                                                                                                                                                                                                                                                                                                                                                                                                                                                                                                                                                                                                                                                                                                                                                                                                                                                                                                                                                                                                                                                                                                                                                                                                                                                                                                                                                                                                                                                                                                                                                                                                                                                                                                                                                                                                                                                                                                                                                                                                                               34\n",
      "                                                                                                                                                                                                                                                                                                                                                                                                                                                                                                                                                                                                                                                                                                                                                                                                                                                                                                                                                                                                                                                                                                                                                                                                                                                                                                                                                                                                                                                                                                                                                                                                                                                                                                                                                                                                                                                                                                                                                                                                                                                                                                                                                                                                                                                                                                                                                                                                                                                                                                                                                                                                                                                                                                                                                                                                                                                                                                                                                                                                                                                                                                                                                                                                                                                                                                                                                                                                                                                                                                                                                                                                                                                                                                                                                                                                                                                                                                                                                                                                                                                                                                                                                                    ... \n",
      "[PEUGEOT 3008 BUSINESS 3008 1.6 BlueHDi 120ch S&S EAT6 Active Business]                                                                                                                                                                                                                                                                                                                                                                                                                                                                                                                                                                                                                                                                                                                                                                                                                                                                                                                                                                                                                                                                                                                                                                                                                                                                                                                                                                                                                                                                                                                                                                                                                                                                                                                                                                                                                                                                                                                                                                                                                                                                                                                                                                                                                                                                                                                                                                                                                                                                                                                                                                                                                                                                                                                                                                                                                                                                                                                                                                                                                                                                                                                                                                                                                                                                                                                                                                                                                                                                                                                                                                                                                                                                                                                                                                                                                                                                                                                                                                                                                                                                                                1\n",
      "[ , Precio al contado: 27900 euros,  , Concesionario oficial Peugeot en Valencia con más de 50 Años de experiencia. Vehículo revisado en más de 100 puntos con el programa Spoticar de Peugeot. Posibilidad de financiar hasta 120 meses sin entrada. Garantizado 12 meses ampliable hasta 36 meses. Gestionamos también su seguro de coche a los mejores precios. Vehículo publicado con 3.400-€ de descuento al financiar con nuestra entidad financiera colaboradora una cantidad mínima de 10.000.-€ a 60 meses y entregando coche de más de 10 años., Este anuncio no es contractual y está sujeto a las condiciones de la campaña mensual. Le animamos, a consultar condiciones., EQUIPAMIENTOS:, Asientos de tela (material principal) y de cuero sintético (material secundario), Navegador con datos vía memoria interna/disco duro y pantalla a color de 10,0 \" con información en 3D y con voz, control mediante pantalla táctil y información de tráfico 25,4 y 36, Volante multi-función revestido de cuero ajustable en altura y en profundidad,  , Condiciones de la financiación,  , Consultar condiciones de financiación en este anuncio o contactando con el anunciante, See more]                                                                                                                                                                                                                                                                                                                                                                                                                                                                                                                                                                                                                                                                                                                                                                                                                                                                                                                                                                                                                                                                                                                                                                                                                                                                                                                                                                                                                                                                                                                                                                                                                                                                                                                                                                                                                                                                                                                                                                                                                                                                                                                                                                                                                                                                                                                                                                                                                                                                                                                                                                                                                                                                                                                                                                                                                                                                                                                                                                  1\n",
      "[Concessionaria Burnout che fa parte della Community NON PRENDERMI PER IL CHILOMETRO e da più di 10 anni sul mercato E' LIETA DI PRESENTARVI . Stupenda Peugeot 5008 1.6 hdi 120 cv 7 posti , Vettura tagliandata, garantita ,sanificata e ricondizionamento interni., SCOPRITE I NOSTRI VANTAGGI USATO GARANTITO E RICONDIZIONATO , * POSSIBILITA' PERMUTA USATO CON USATO, * FINANZIAMENTI PERSONALIZZATI. , * POSSIBILITA' DI ESTENDERE LA GARANZIA A 24 / 36 / 48 MESI , Optional:, specchi elettrici , Apple Car play, Cruise control, Completa cronologia tagliandi, vetri elettrici, Sensore pioggia , sensore luci, Unico proprietario, Sensori di parcheggio, E tanto altro ancora, Ci scusiamo per l'inconveniente ma a causa della non uniformità dei dati pubblicati dai diversi portali,vi invitiamo a verificare le caratteristiche dello specifico veicolo , * I nostri Consulenti sono a Sua disposizione tutti i giorni, dal lunedì al sabato, dalle 9.00 alle19 , WhatsApp Messenger  3473007167, See more]                                                                                                                                                                                                                                                                                                                                                                                                                                                                                                                                                                                                                                                                                                                                                                                                                                                                                                                                                                                                                                                                                                                                                                                                                                                                                                                                                                                                                                                                                                                                                                                                                                                                                                                                                                                                                                                                                                                                                                                                                                                                                                                                                                                                                                                                                                                                                                                                                                                                                                                                                                                                                                                                                                                                                                                                                                                                                                                                                                                                                                                                                                                                          1\n",
      "[Equipements supplémentaires : 2 sieges escamotables et extractibles pour les passagers du 3eme rang, Acces et demarrage mains libres, Accoudoir central AV a ouverture papillon, avec compartiment de rangement eclaire et refrigerable, Aide graphique et sonore au stationnement AR, Aide graphique et sonore au stationnement AV, Air conditionne automatique bi-zone avec aerateurs aux places AR, Airbags frontaux conducteur et passager adaptatifs (passager neutralisable par cle), airbags lateraux conducteur et passager AV, airbags rideaux de tete aux places AV et AR, Appuis-tete a securite optimisee reglables en hauteur sur les sieges conducteur et passager AV ainsi que sur les places laterales AR, Avertisseur de temps de conduite, Barres de toit longitudinales profilee en Aluminium, Boite a gants floquee et eclairee, Boitiers de retroviseurs exterieurs dans la couleur de la carrosserie, Calandre avec jonc peripherique et ailettes chromes, Ceintures de securite 3 points a enrouleur (x2) au 3eme rang, Ceintures de securite 3 points a enrouleur (x3) au 2eme rang, avec pretensionneurs et limiteurs d'effort aux places laterales, Ceintures de securite AV 3 points a enrouleur, reglables en hauteur avec pretensionneurs et limiteurs d'effort, Commande de verrouillage a distance (2 plips), Console centrale AV avec 2 porte-gobelets, Controle dynamique de stabilite CDS avec antipatinage electronique ASR, Decors de planche de bord et panneaux de portes en maille 'Brumeo', Decors interieurs (baguettes de planche de bord et panneaux de portes, enjoliveur de console) chromes, Detection de sous-gonflage indirecte, Direction assistee electrique, colonne de direction reglable en hauteur et profondeur (mecanique), Ecran tactile capacitif 8' et 'Toggles Switches', Enjoliveur d'arc de pavillon en inox, Enjoliveur de seuil d'entree de coffre chrome, Enjoliveur en inox sur les protecteurs de bas de portes, Essuie-vitre AR avec enclenchement automatique en marche AR, Essuie-vitre AV avec systeme de lavage 'Magic Wash', Fixations pour 3 sieges enfants suivant norme ISOFIX aux places du 2eme rang, Fonction 'Mirror Screen', Frein de stationnement electrique avec aide au demarrage en pente, Indicateur de rapport conseille, Inserts d'ailes AV chromes, Jantes alliage 18' 'Detroit' bi-ton diamantees, Kit de depannage de pneumatique : compresseur 12 volts, flacon de produit de colmatage, anneau de remorquage, deux cales de roue, manivelle de frein de stationnement electrique, Leve-vitres AR electriques et sequentiels avec antipincement, Leve-vitres AV electriques et sequentiels avec antipincement, Lunette AR chauffante avec antennes serigraphiees, Miroirs de courtoisie eclaires, Nouveau Peugeot i-Cockpit : combine tete haute numerique reconfigurable et volant compact multi-fonctions, Pack City 1, Pack Eclairage d'ambiance, Pack Safety Plus, Pack Visibilite, Passages de roues rapportes noirs, Peugeot Connect, Plafonnier AV avec spots de lecture (x2) et plafonniers a extinction temporisee aux 2eme et 3eme rangs, Poches/filets aumonieres au dos des sieges AV, Poignees de maintien (x4) retractables avec frein (crochets pour cintres aux places AR), Poignees de portes couleur carrosserie, Prise 12V (x3 : zone connectique, AR de console et coffre), Prise USB (dans la zone connectique), Projecteurs antibrouillard halogenes, Projecteurs halogenes a l'AV avec feux diurnes a LED, Radio 6 HP, bi-tuner compatible MP3 et connectivite Bluetooth (audio streaming, kit mains libres), avec commandes au volant, ecran tactile capacitif 8', Reconnaissance des panneaux de vitesse et preconisation de vitesse, Regulateur / Limiteur de vitesse, Retroviseurs exterieurs electriques degivrants, Retroviseurs exterieurs rabattables electriquement avec eclairage d'accueil a LED, Retroviseurs indexes a la marche AR, Rideaux pare-soleil (x2) pour les passagers du 2eme rang, Sabots de pare-chocs AV gris metallise, Securite enfants electrique des vitres AR, Sellerie TEP & Tissu 'Evron', Sieg, See more]      1\n",
      "[YOUNGTIMER !, Bedrijfsinformatie, NEEM VOOR U WILT KOMEN KIJKEN NAAR EEN AUTO TELEFONISCH CONTACT MET ONS OP 0162-313775 (optie 2) U BENT VAN HARTE WELKOM VOOR PROEFRIT! DINSDAG ALLEEN OP AFSPRAAK! , Overige informatie: Inruil, financiering, garantie of nieuwe apk zijn bespreekbaar. Inruil van uw auto, bus, bestelwagen,vrachtwagen , camper, caravan, boot, graafmachines tractoren of andere industriële equipment is mogelijk! Overdekte showroom 2500 M2 met 100 occasions op voorraad! Ons adres is Lage Ham 106 in Dongen. Openingstijden: Maandag: 9:00-18.00 Dinsdag: ALLEEN OP AFSPRAAK  woensdag t/m vrijdag: 09.00 t/m 18.00 zaterdag 09.00 t/m 14.00. Wij zijn bereikbaar op 0162-313 775 Verdere informatie: WWW.FOCD.NL. Voor informatie over afwijkende openingstijden wat betreft feestdagen kunt u terecht op onze home pagina van WWW.FOCD.NL, Meer informatie, Algemene informatie, Modeljaar: , 2001, Prestaties, Acceleratie (0-100): , 8,9 s, Topsnelheid: , 225 km/u, Maten, Afmetingen (LxBxH): , 482 x 183 x 145 cm, Wielbasis: , 279 cm, Gewichten, Laadvermogen: , 517 kg, GVW: , 2.090 kg, Max. trekgewicht: , 1.800 kg,  (ongeremd 500 kg), Financiële informatie, BTW/marge: , BTW niet verrekenbaar voor ondernemers (margeregeling), Motorrijtuigenbelasting: , € 230 - € 261,  per kwartaal, Aanvullende opties en accessoires, Exterieur, Metaalkleur vernis of parelmoerlak, Buitenspiegels elektrisch verstel- en verwarmbaar, Buitenspiegels in carrosseriekleur, Elektronische remkrachtverdeling, koplampreiniging, Trekhaak afneembaar, Infotainment, Navigatiesysteem en autotelefoon, Interieur, Achterbank verwarmd, Armsteun achter, Armsteun voor, Elektrische ramen voor en achter, Elektrisch rolgordijn voor achterruit, Elektrisch verstelbare bestuurdersstoel, Hoofdsteunen voor en achter, Houtafwerking interieur, Lendesteunen (verstelbaar), Stuur verstelbaar, Voorstoelen in hoogte verstelbaar, Voorstoelen verwarmd, Veiligheid, Airbag(s) hoofd voor, Alarm klasse 1(startblokkering), Alarm klasse 3, Side Impact Protection System, See more]                                                                                                                                                                                                                                                                                                                                                                                                                                                                                                                                                                                                                                                                                                                                                                                                                                                                                                                                                                                                                                                                                                                                                                                                                                                                                                                                                                                                                                                                                                                                                                                                                                                                                                                                                                                                                                                                                                                                                                                                                                                  1\n",
      "Name: desc, Length: 23242, dtype: int64\n"
     ]
    }
   ],
   "source": [
    "first_looking(\"desc\")"
   ]
  },
  {
   "cell_type": "code",
   "execution_count": 54,
   "id": "f1417993",
   "metadata": {},
   "outputs": [],
   "source": [
    "df.drop(\"desc\", axis=1, inplace=True)"
   ]
  },
  {
   "cell_type": "code",
   "execution_count": 55,
   "id": "40884927",
   "metadata": {},
   "outputs": [
    {
     "data": {
      "text/plain": [
       "(28630, 43)"
      ]
     },
     "execution_count": 55,
     "metadata": {},
     "output_type": "execute_result"
    }
   ],
   "source": [
    "df.shape"
   ]
  },
  {
   "cell_type": "markdown",
   "id": "34c79a99",
   "metadata": {},
   "source": [
    "# location"
   ]
  },
  {
   "cell_type": "code",
   "execution_count": 56,
   "id": "f343c314",
   "metadata": {},
   "outputs": [
    {
     "name": "stdout",
     "output_type": "stream",
     "text": [
      "column name: location\n",
      "---------------------------------\n",
      "per_of_nulls % 0.0\n",
      "num_of_nulls 0\n",
      "num_of_uniques 8181\n",
      "---------------------------------\n",
      "Av. Laboral, 10,  28021 MADRID, ES                          306\n",
      "Luckenwalder Berg 5,  14913 Jüterbog, DE                    170\n",
      "Ctra. del Mig, 96,,  08097 L'Hospitalet de Llobregat, ES    146\n",
      "9 boulevard Jules Ferry,  75011 Paris, FR                   142\n",
      "Neuenhofstr. 77,  52078 Aachen, DE                          135\n",
      "                                                           ... \n",
      "2727CT ZOETERMEER, NL                                         1\n",
      "Rosendaalsestraat 437-439,  6824 CK ARNHEM, NL                1\n",
      "5751VH DEURNE, NL                                             1\n",
      "00148 roma, IT                                                1\n",
      "Sur rendez-vous,  5060 Sambreville, BE                        1\n",
      "Name: location, Length: 8181, dtype: int64\n"
     ]
    }
   ],
   "source": [
    "first_looking(\"location\")"
   ]
  },
  {
   "cell_type": "code",
   "execution_count": 57,
   "id": "ab289000",
   "metadata": {},
   "outputs": [
    {
     "data": {
      "text/plain": [
       "(28630, 43)"
      ]
     },
     "execution_count": 57,
     "metadata": {},
     "output_type": "execute_result"
    }
   ],
   "source": [
    "df.shape"
   ]
  },
  {
   "cell_type": "markdown",
   "id": "9e53f647",
   "metadata": {},
   "source": [
    "# body_type"
   ]
  },
  {
   "cell_type": "code",
   "execution_count": 58,
   "id": "50595abf",
   "metadata": {},
   "outputs": [
    {
     "name": "stdout",
     "output_type": "stream",
     "text": [
      "column name: body_type\n",
      "---------------------------------\n",
      "per_of_nulls % 0.0\n",
      "num_of_nulls 0\n",
      "num_of_uniques 6\n",
      "---------------------------------\n",
      "[\\n, Station wagon, \\n]       5448\n",
      "[\\n, Off-Road/Pick-up, \\n]    5415\n",
      "[\\n, Compact, \\n]             5387\n",
      "[\\n, Sedan, \\n]               5043\n",
      "[\\n, Coupe, \\n]               4009\n",
      "[\\n, Convertible, \\n]         3328\n",
      "Name: body_type, dtype: int64\n"
     ]
    }
   ],
   "source": [
    "first_looking(\"body_type\")"
   ]
  },
  {
   "cell_type": "code",
   "execution_count": 59,
   "id": "a574fe36",
   "metadata": {},
   "outputs": [
    {
     "data": {
      "text/plain": [
       "0        Compact\n",
       "1        Compact\n",
       "2        Compact\n",
       "3        Compact\n",
       "4        Compact\n",
       "          ...   \n",
       "29474      Sedan\n",
       "29475      Sedan\n",
       "29476      Sedan\n",
       "29477      Sedan\n",
       "29478      Sedan\n",
       "Name: body_type, Length: 28630, dtype: object"
      ]
     },
     "execution_count": 59,
     "metadata": {},
     "output_type": "execute_result"
    }
   ],
   "source": [
    "df.body_type.explode().str.strip('\\n, ')"
   ]
  },
  {
   "cell_type": "code",
   "execution_count": 60,
   "id": "c680834e",
   "metadata": {},
   "outputs": [
    {
     "data": {
      "text/plain": [
       "0        Compact\n",
       "1        Compact\n",
       "2        Compact\n",
       "3        Compact\n",
       "4        Compact\n",
       "          ...   \n",
       "29474      Sedan\n",
       "29475      Sedan\n",
       "29476      Sedan\n",
       "29477      Sedan\n",
       "29478      Sedan\n",
       "Name: body_type, Length: 28630, dtype: object"
      ]
     },
     "execution_count": 60,
     "metadata": {},
     "output_type": "execute_result"
    }
   ],
   "source": [
    "df.body_type = df.body_type.explode().str.strip('\\n, ')\n",
    "df.body_type"
   ]
  },
  {
   "cell_type": "code",
   "execution_count": 61,
   "id": "fb372564",
   "metadata": {},
   "outputs": [
    {
     "data": {
      "text/plain": [
       "Station wagon       5448\n",
       "Off-Road/Pick-up    5415\n",
       "Compact             5387\n",
       "Sedan               5043\n",
       "Coupe               4009\n",
       "Convertible         3328\n",
       "Name: body_type, dtype: int64"
      ]
     },
     "execution_count": 61,
     "metadata": {},
     "output_type": "execute_result"
    }
   ],
   "source": [
    "df[\"body_type\"].value_counts(dropna=False)"
   ]
  },
  {
   "cell_type": "markdown",
   "id": "d45bdefe",
   "metadata": {},
   "source": [
    "# type"
   ]
  },
  {
   "cell_type": "code",
   "execution_count": 62,
   "id": "f5d6a237",
   "metadata": {},
   "outputs": [
    {
     "name": "stdout",
     "output_type": "stream",
     "text": [
      "column name: type\n",
      "---------------------------------\n",
      "per_of_nulls % 0.0\n",
      "num_of_nulls 0\n",
      "num_of_uniques 4\n",
      "---------------------------------\n",
      "[\\n, Used, \\n]              25251\n",
      "[\\n, Demonstration, \\n]      1433\n",
      "[\\n, Pre-registered, \\n]     1377\n",
      "[\\n, Employee's car, \\n]      569\n",
      "Name: type, dtype: int64\n"
     ]
    }
   ],
   "source": [
    "first_looking(\"type\")"
   ]
  },
  {
   "cell_type": "code",
   "execution_count": 63,
   "id": "5672877b",
   "metadata": {},
   "outputs": [
    {
     "data": {
      "text/plain": [
       "Used              25251\n",
       "Demonstration      1433\n",
       "Pre-registered     1377\n",
       "Employee's car      569\n",
       "Name: type, dtype: int64"
      ]
     },
     "execution_count": 63,
     "metadata": {},
     "output_type": "execute_result"
    }
   ],
   "source": [
    "df['type'] = df['type'].explode().str.strip(\"\\n, \")\n",
    "df['type'].value_counts(dropna=False)"
   ]
  },
  {
   "cell_type": "markdown",
   "id": "b70fe3f4",
   "metadata": {},
   "source": [
    "# doors"
   ]
  },
  {
   "cell_type": "code",
   "execution_count": 64,
   "id": "d4a3de92",
   "metadata": {},
   "outputs": [
    {
     "name": "stdout",
     "output_type": "stream",
     "text": [
      "column name: doors\n",
      "---------------------------------\n",
      "per_of_nulls % 1.25\n",
      "num_of_nulls 359\n",
      "num_of_uniques 7\n",
      "---------------------------------\n",
      "[\\n, 5, \\n]    17481\n",
      "[\\n, 2, \\n]     5523\n",
      "[\\n, 4, \\n]     3001\n",
      "[\\n, 3, \\n]     2259\n",
      "NaN              359\n",
      "[\\n, 6, \\n]        5\n",
      "[\\n, 1, \\n]        2\n",
      "Name: doors, dtype: int64\n"
     ]
    }
   ],
   "source": [
    "first_looking(\"doors\")"
   ]
  },
  {
   "cell_type": "code",
   "execution_count": 65,
   "id": "8ad87f7b",
   "metadata": {},
   "outputs": [
    {
     "data": {
      "text/plain": [
       "0        5\n",
       "1        4\n",
       "2        5\n",
       "3        5\n",
       "4        5\n",
       "        ..\n",
       "29474    4\n",
       "29475    4\n",
       "29476    3\n",
       "29477    4\n",
       "29478    4\n",
       "Name: doors, Length: 28630, dtype: object"
      ]
     },
     "execution_count": 65,
     "metadata": {},
     "output_type": "execute_result"
    }
   ],
   "source": [
    "df.doors.explode().str.strip(\"\\n, \")"
   ]
  },
  {
   "cell_type": "code",
   "execution_count": 66,
   "id": "7412688c",
   "metadata": {},
   "outputs": [],
   "source": [
    "df.doors = df.doors.explode().str.strip(\"\\n, \")"
   ]
  },
  {
   "cell_type": "code",
   "execution_count": 67,
   "id": "f1ce17c3",
   "metadata": {},
   "outputs": [
    {
     "data": {
      "text/plain": [
       "0       5.00\n",
       "1       4.00\n",
       "2       5.00\n",
       "3       5.00\n",
       "4       5.00\n",
       "        ... \n",
       "29474   4.00\n",
       "29475   4.00\n",
       "29476   3.00\n",
       "29477   4.00\n",
       "29478   4.00\n",
       "Name: doors, Length: 28630, dtype: float64"
      ]
     },
     "execution_count": 67,
     "metadata": {},
     "output_type": "execute_result"
    }
   ],
   "source": [
    "pd.to_numeric(df.doors)"
   ]
  },
  {
   "cell_type": "code",
   "execution_count": 68,
   "id": "e93046f9",
   "metadata": {},
   "outputs": [
    {
     "data": {
      "text/plain": [
       "5      17481\n",
       "2       5523\n",
       "4       3001\n",
       "3       2259\n",
       "NaN      359\n",
       "6          5\n",
       "1          2\n",
       "Name: doors, dtype: int64"
      ]
     },
     "execution_count": 68,
     "metadata": {},
     "output_type": "execute_result"
    }
   ],
   "source": [
    "df.doors.value_counts(dropna=False)"
   ]
  },
  {
   "cell_type": "markdown",
   "id": "b1d4d516",
   "metadata": {},
   "source": [
    "# country_version"
   ]
  },
  {
   "cell_type": "code",
   "execution_count": 69,
   "id": "01240e3c",
   "metadata": {},
   "outputs": [
    {
     "name": "stdout",
     "output_type": "stream",
     "text": [
      "column name: country_version\n",
      "---------------------------------\n",
      "per_of_nulls % 41.01\n",
      "num_of_nulls 11741\n",
      "num_of_uniques 26\n",
      "---------------------------------\n",
      "NaN                         11741\n",
      "[\\n, Germany, \\n]            7939\n",
      "[\\n, Spain, \\n]              6376\n",
      "[\\n, Italy, \\n]               679\n",
      "[\\n, Belgium, \\n]             641\n",
      "[\\n, European Union, \\n]      340\n",
      "[\\n, Netherlands, \\n]         306\n",
      "[\\n, Austria, \\n]             266\n",
      "[\\n, France, \\n]              101\n",
      "[\\n, United States, \\n]        57\n",
      "[\\n, Czechia, \\n]              47\n",
      "[\\n, Poland, \\n]               31\n",
      "[\\n, Hungary, \\n]              21\n",
      "[\\n, Denmark, \\n]              21\n",
      "[\\n, Romania, \\n]              12\n",
      "[\\n, Japan, \\n]                12\n",
      "[\\n, Switzerland, \\n]           9\n",
      "[\\n, Luxembourg, \\n]            9\n",
      "[\\n, Sweden, \\n]                6\n",
      "[\\n, Slovenia, \\n]              5\n",
      "[\\n, Slovakia, \\n]              4\n",
      "[\\n, Croatia, \\n]               3\n",
      "[\\n, Bulgaria, \\n]              1\n",
      "[\\n, Malta, \\n]                 1\n",
      "[\\n, Canada, \\n]                1\n",
      "[\\n, Mexico, \\n]                1\n",
      "Name: country_version, dtype: int64\n"
     ]
    }
   ],
   "source": [
    "first_looking(\"country_version\")"
   ]
  },
  {
   "cell_type": "code",
   "execution_count": 70,
   "id": "8ad83414",
   "metadata": {},
   "outputs": [],
   "source": [
    "df.country_version = df.country_version.explode().str.strip(\"\\n, \")"
   ]
  },
  {
   "cell_type": "code",
   "execution_count": 71,
   "id": "0402082a",
   "metadata": {},
   "outputs": [
    {
     "data": {
      "text/plain": [
       "NaN               11741\n",
       "Germany            7939\n",
       "Spain              6376\n",
       "Italy               679\n",
       "Belgium             641\n",
       "European Union      340\n",
       "Netherlands         306\n",
       "Austria             266\n",
       "France              101\n",
       "United States        57\n",
       "Czechia              47\n",
       "Poland               31\n",
       "Hungary              21\n",
       "Denmark              21\n",
       "Romania              12\n",
       "Japan                12\n",
       "Switzerland           9\n",
       "Luxembourg            9\n",
       "Sweden                6\n",
       "Slovenia              5\n",
       "Slovakia              4\n",
       "Croatia               3\n",
       "Bulgaria              1\n",
       "Malta                 1\n",
       "Canada                1\n",
       "Mexico                1\n",
       "Name: country_version, dtype: int64"
      ]
     },
     "execution_count": 71,
     "metadata": {},
     "output_type": "execute_result"
    }
   ],
   "source": [
    "df.country_version.value_counts(dropna=False)"
   ]
  },
  {
   "cell_type": "code",
   "execution_count": 72,
   "id": "2b26b91b",
   "metadata": {},
   "outputs": [
    {
     "data": {
      "text/plain": [
       "(28630, 43)"
      ]
     },
     "execution_count": 72,
     "metadata": {},
     "output_type": "execute_result"
    }
   ],
   "source": [
    "df.shape"
   ]
  },
  {
   "cell_type": "code",
   "execution_count": 73,
   "id": "f3efc243",
   "metadata": {},
   "outputs": [],
   "source": [
    "df.drop(\"country_version\", axis=1, inplace=True)"
   ]
  },
  {
   "cell_type": "code",
   "execution_count": 74,
   "id": "c1f2b852",
   "metadata": {},
   "outputs": [
    {
     "data": {
      "text/plain": [
       "(28630, 42)"
      ]
     },
     "execution_count": 74,
     "metadata": {},
     "output_type": "execute_result"
    }
   ],
   "source": [
    "df.shape"
   ]
  },
  {
   "cell_type": "markdown",
   "id": "b08cd5bf",
   "metadata": {},
   "source": [
    "# offer_number"
   ]
  },
  {
   "cell_type": "code",
   "execution_count": 75,
   "id": "a8c26b14",
   "metadata": {},
   "outputs": [
    {
     "name": "stdout",
     "output_type": "stream",
     "text": [
      "column name: offer_number\n",
      "---------------------------------\n",
      "per_of_nulls % 19.32\n",
      "num_of_nulls 5530\n",
      "num_of_uniques 20946\n",
      "---------------------------------\n",
      "NaN                                5530\n",
      "[\\n, 1, \\n]                          28\n",
      "[\\n, L-Vorlauf 2023, \\n]             10\n",
      "[\\n, 30, \\n]                          9\n",
      "[\\n, 20, \\n]                          9\n",
      "                                   ... \n",
      "[\\n, ggp-EP-880-ZS, \\n]               1\n",
      "[\\n, 7475319, \\n]                     1\n",
      "[\\n, abci-EZ-260-PS_130291, \\n]       1\n",
      "[\\n, 7407611, \\n]                     1\n",
      "[\\n, 43-JR-LR, \\n]                    1\n",
      "Name: offer_number, Length: 20946, dtype: int64\n"
     ]
    }
   ],
   "source": [
    "first_looking(\"offer_number\")"
   ]
  },
  {
   "cell_type": "code",
   "execution_count": 76,
   "id": "ddc81247",
   "metadata": {},
   "outputs": [],
   "source": [
    "df.drop(\"offer_number\", axis=1, inplace=True)"
   ]
  },
  {
   "cell_type": "code",
   "execution_count": 77,
   "id": "9b3689d1",
   "metadata": {},
   "outputs": [
    {
     "data": {
      "text/plain": [
       "(28630, 41)"
      ]
     },
     "execution_count": 77,
     "metadata": {},
     "output_type": "execute_result"
    }
   ],
   "source": [
    "df.shape"
   ]
  },
  {
   "cell_type": "markdown",
   "id": "12c682ba",
   "metadata": {},
   "source": [
    "# warranty"
   ]
  },
  {
   "cell_type": "code",
   "execution_count": 78,
   "id": "d508859e",
   "metadata": {
    "scrolled": false
   },
   "outputs": [
    {
     "name": "stdout",
     "output_type": "stream",
     "text": [
      "column name: warranty\n",
      "---------------------------------\n",
      "per_of_nulls % 44.87\n",
      "num_of_nulls 12846\n",
      "num_of_uniques 66\n",
      "---------------------------------\n",
      "NaN                     12846\n",
      "[\\n, 12 months, \\n]      9545\n",
      "[\\n, Yes, \\n]            2319\n",
      "[\\n, 24 months, \\n]      1515\n",
      "[\\n, 60 months, \\n]       968\n",
      "                        ...  \n",
      "[\\n, 55 months, \\n]         1\n",
      "[\\n, 99 months, \\n]         1\n",
      "[\\n, 122 months, \\n]        1\n",
      "[\\n, 44 months, \\n]         1\n",
      "[\\n, 4 months, \\n]          1\n",
      "Name: warranty, Length: 66, dtype: int64\n"
     ]
    }
   ],
   "source": [
    "first_looking(\"warranty\")"
   ]
  },
  {
   "cell_type": "code",
   "execution_count": 79,
   "id": "a6bb2bae",
   "metadata": {},
   "outputs": [
    {
     "name": "stdout",
     "output_type": "stream",
     "text": [
      "<class 'pandas.core.frame.DataFrame'>\n",
      "Int64Index: 28630 entries, 0 to 29478\n",
      "Data columns (total 1 columns):\n",
      " #   Column  Non-Null Count  Dtype  \n",
      "---  ------  --------------  -----  \n",
      " 0   0       13465 non-null  float64\n",
      "dtypes: float64(1)\n",
      "memory usage: 447.3 KB\n"
     ]
    }
   ],
   "source": [
    "df.warranty.str[0].str.extract('(\\d{1,4})').astype(\"float\").info()"
   ]
  },
  {
   "cell_type": "code",
   "execution_count": 80,
   "id": "d64e9aaf",
   "metadata": {},
   "outputs": [],
   "source": [
    "df.warranty = df.warranty.str[0].str.extract('(\\d{1,4})').astype(\"float\")"
   ]
  },
  {
   "cell_type": "code",
   "execution_count": 81,
   "id": "7b4ef11e",
   "metadata": {},
   "outputs": [
    {
     "data": {
      "text/plain": [
       "NaN       15165\n",
       "12.00      9545\n",
       "24.00      1515\n",
       "60.00       968\n",
       "6.00        398\n",
       "          ...  \n",
       "55.00         1\n",
       "99.00         1\n",
       "122.00        1\n",
       "44.00         1\n",
       "4.00          1\n",
       "Name: warranty, Length: 65, dtype: int64"
      ]
     },
     "execution_count": 81,
     "metadata": {},
     "output_type": "execute_result"
    }
   ],
   "source": [
    "df.warranty.value_counts(dropna=False)"
   ]
  },
  {
   "cell_type": "markdown",
   "id": "07cce26d",
   "metadata": {},
   "source": [
    "# mileage"
   ]
  },
  {
   "cell_type": "code",
   "execution_count": 82,
   "id": "9af414d2",
   "metadata": {},
   "outputs": [
    {
     "name": "stdout",
     "output_type": "stream",
     "text": [
      "column name: mileage\n",
      "---------------------------------\n",
      "per_of_nulls % 0.0\n",
      "num_of_nulls 1\n",
      "num_of_uniques 14184\n",
      "---------------------------------\n",
      "10 km         586\n",
      "1 km          172\n",
      "50 km         133\n",
      "100 km        119\n",
      "5,000 km      118\n",
      "             ... \n",
      "141,589 km      1\n",
      "59,821 km       1\n",
      "123,500 km      1\n",
      "29,781 km       1\n",
      "230,047 km      1\n",
      "Name: mileage, Length: 14184, dtype: int64\n"
     ]
    }
   ],
   "source": [
    "first_looking(\"mileage\")"
   ]
  },
  {
   "cell_type": "code",
   "execution_count": 83,
   "id": "62775db8",
   "metadata": {},
   "outputs": [
    {
     "data": {
      "text/plain": [
       "0        120,200 km\n",
       "1          5,000 km\n",
       "2         18,900 km\n",
       "3         18,995 km\n",
       "4        197,000 km\n",
       "            ...    \n",
       "29474     40,345 km\n",
       "29475    145,000 km\n",
       "29476     96,000 km\n",
       "29477     94,343 km\n",
       "29478    230,047 km\n",
       "Name: mileage, Length: 28630, dtype: object"
      ]
     },
     "execution_count": 83,
     "metadata": {},
     "output_type": "execute_result"
    }
   ],
   "source": [
    "df.mileage"
   ]
  },
  {
   "cell_type": "code",
   "execution_count": 84,
   "id": "7c56706a",
   "metadata": {},
   "outputs": [],
   "source": [
    "df.mileage = df.mileage.str.replace(\",\", \"\").str.extract(\"(\\d{1,6})\").astype(\"float\")"
   ]
  },
  {
   "cell_type": "code",
   "execution_count": 85,
   "id": "23701e96",
   "metadata": {},
   "outputs": [
    {
     "data": {
      "text/plain": [
       "10.00        586\n",
       "1.00         172\n",
       "50.00        133\n",
       "100.00       119\n",
       "5000.00      118\n",
       "            ... \n",
       "43577.00       1\n",
       "141589.00      1\n",
       "59821.00       1\n",
       "123500.00      1\n",
       "230047.00      1\n",
       "Name: mileage, Length: 14180, dtype: int64"
      ]
     },
     "execution_count": 85,
     "metadata": {},
     "output_type": "execute_result"
    }
   ],
   "source": [
    "df.mileage.value_counts(dropna=False)"
   ]
  },
  {
   "cell_type": "markdown",
   "id": "37451a75",
   "metadata": {},
   "source": [
    "# first_registration"
   ]
  },
  {
   "cell_type": "code",
   "execution_count": 86,
   "id": "6f8ea5a0",
   "metadata": {},
   "outputs": [
    {
     "name": "stdout",
     "output_type": "stream",
     "text": [
      "column name: first_registration\n",
      "---------------------------------\n",
      "per_of_nulls % 0.01\n",
      "num_of_nulls 2\n",
      "num_of_uniques 656\n",
      "---------------------------------\n",
      "08/2022    454\n",
      "06/2022    428\n",
      "05/2019    420\n",
      "06/2019    418\n",
      "07/2019    416\n",
      "          ... \n",
      "06/1967      1\n",
      "06/1980      1\n",
      "09/1970      1\n",
      "06/1963      1\n",
      "10/1979      1\n",
      "Name: first_registration, Length: 656, dtype: int64\n"
     ]
    }
   ],
   "source": [
    "first_looking(\"first_registration\")"
   ]
  },
  {
   "cell_type": "code",
   "execution_count": 87,
   "id": "22ff6391",
   "metadata": {},
   "outputs": [],
   "source": [
    "df.first_registration = df.first_registration.str.extract(\"(\\d{4})\", expand=False).astype(\"float\")"
   ]
  },
  {
   "cell_type": "code",
   "execution_count": 88,
   "id": "67401c81",
   "metadata": {},
   "outputs": [
    {
     "data": {
      "text/plain": [
       "2019.00    3667\n",
       "2018.00    3492\n",
       "2022.00    3086\n",
       "2021.00    2870\n",
       "2020.00    2473\n",
       "           ... \n",
       "2023.00       1\n",
       "1929.00       1\n",
       "1950.00       1\n",
       "1928.00       1\n",
       "2202.00       1\n",
       "Name: first_registration, Length: 84, dtype: int64"
      ]
     },
     "execution_count": 88,
     "metadata": {},
     "output_type": "execute_result"
    }
   ],
   "source": [
    "df.first_registration.value_counts(dropna=False)"
   ]
  },
  {
   "cell_type": "markdown",
   "id": "2e77acc5",
   "metadata": {},
   "source": [
    "# production_date"
   ]
  },
  {
   "cell_type": "code",
   "execution_count": 89,
   "id": "5e75c87f",
   "metadata": {},
   "outputs": [
    {
     "name": "stdout",
     "output_type": "stream",
     "text": [
      "column name: production_date\n",
      "---------------------------------\n",
      "per_of_nulls % 79.36\n",
      "num_of_nulls 22722\n",
      "num_of_uniques 50\n",
      "---------------------------------\n",
      "NaN        22722\n",
      "2019.00     1179\n",
      "2021.00      980\n",
      "2022.00      894\n",
      "2020.00      763\n",
      "2018.00      762\n",
      "2017.00      391\n",
      "2016.00      239\n",
      "2015.00      118\n",
      "2014.00       90\n",
      "2013.00       76\n",
      "2010.00       53\n",
      "2012.00       43\n",
      "2011.00       43\n",
      "2008.00       34\n",
      "2009.00       26\n",
      "2007.00       20\n",
      "2006.00       17\n",
      "2002.00       15\n",
      "2004.00       13\n",
      "2003.00       13\n",
      "1967.00       12\n",
      "2001.00       12\n",
      "1966.00       11\n",
      "1999.00        9\n",
      "2005.00        9\n",
      "1965.00        9\n",
      "1970.00        9\n",
      "1997.00        8\n",
      "1994.00        8\n",
      "1968.00        7\n",
      "2000.00        7\n",
      "1998.00        5\n",
      "1990.00        3\n",
      "1973.00        3\n",
      "1987.00        3\n",
      "1993.00        3\n",
      "1991.00        3\n",
      "1996.00        3\n",
      "1995.00        2\n",
      "1969.00        2\n",
      "1978.00        2\n",
      "1982.00        2\n",
      "1961.00        1\n",
      "1954.00        1\n",
      "1988.00        1\n",
      "1962.00        1\n",
      "1981.00        1\n",
      "1985.00        1\n",
      "1976.00        1\n",
      "Name: production_date, dtype: int64\n"
     ]
    }
   ],
   "source": [
    "first_looking(\"production_date\")"
   ]
  },
  {
   "cell_type": "code",
   "execution_count": 90,
   "id": "a9e74929",
   "metadata": {},
   "outputs": [
    {
     "data": {
      "text/html": [
       "<div>\n",
       "<style scoped>\n",
       "    .dataframe tbody tr th:only-of-type {\n",
       "        vertical-align: middle;\n",
       "    }\n",
       "\n",
       "    .dataframe tbody tr th {\n",
       "        vertical-align: top;\n",
       "    }\n",
       "\n",
       "    .dataframe thead th {\n",
       "        text-align: right;\n",
       "    }\n",
       "</style>\n",
       "<table border=\"1\" class=\"dataframe\">\n",
       "  <thead>\n",
       "    <tr style=\"text-align: right;\">\n",
       "      <th></th>\n",
       "      <th>first_registration</th>\n",
       "      <th>production_date</th>\n",
       "    </tr>\n",
       "  </thead>\n",
       "  <tbody>\n",
       "    <tr>\n",
       "      <th>23</th>\n",
       "      <td>2019.00</td>\n",
       "      <td>2018.00</td>\n",
       "    </tr>\n",
       "    <tr>\n",
       "      <th>30</th>\n",
       "      <td>2020.00</td>\n",
       "      <td>2018.00</td>\n",
       "    </tr>\n",
       "    <tr>\n",
       "      <th>31</th>\n",
       "      <td>2020.00</td>\n",
       "      <td>2019.00</td>\n",
       "    </tr>\n",
       "    <tr>\n",
       "      <th>470</th>\n",
       "      <td>2022.00</td>\n",
       "      <td>2021.00</td>\n",
       "    </tr>\n",
       "    <tr>\n",
       "      <th>472</th>\n",
       "      <td>2019.00</td>\n",
       "      <td>2016.00</td>\n",
       "    </tr>\n",
       "    <tr>\n",
       "      <th>...</th>\n",
       "      <td>...</td>\n",
       "      <td>...</td>\n",
       "    </tr>\n",
       "    <tr>\n",
       "      <th>29350</th>\n",
       "      <td>2019.00</td>\n",
       "      <td>2017.00</td>\n",
       "    </tr>\n",
       "    <tr>\n",
       "      <th>29380</th>\n",
       "      <td>2022.00</td>\n",
       "      <td>2021.00</td>\n",
       "    </tr>\n",
       "    <tr>\n",
       "      <th>29414</th>\n",
       "      <td>2022.00</td>\n",
       "      <td>2021.00</td>\n",
       "    </tr>\n",
       "    <tr>\n",
       "      <th>29426</th>\n",
       "      <td>2020.00</td>\n",
       "      <td>2019.00</td>\n",
       "    </tr>\n",
       "    <tr>\n",
       "      <th>29436</th>\n",
       "      <td>2022.00</td>\n",
       "      <td>2021.00</td>\n",
       "    </tr>\n",
       "  </tbody>\n",
       "</table>\n",
       "<p>841 rows × 2 columns</p>\n",
       "</div>"
      ],
      "text/plain": [
       "       first_registration  production_date\n",
       "23                2019.00          2018.00\n",
       "30                2020.00          2018.00\n",
       "31                2020.00          2019.00\n",
       "470               2022.00          2021.00\n",
       "472               2019.00          2016.00\n",
       "...                   ...              ...\n",
       "29350             2019.00          2017.00\n",
       "29380             2022.00          2021.00\n",
       "29414             2022.00          2021.00\n",
       "29426             2020.00          2019.00\n",
       "29436             2022.00          2021.00\n",
       "\n",
       "[841 rows x 2 columns]"
      ]
     },
     "execution_count": 90,
     "metadata": {},
     "output_type": "execute_result"
    }
   ],
   "source": [
    "df[df.first_registration.notnull() & df.production_date.notnull() & (df.first_registration != df.production_date)]\\\n",
    "[[\"first_registration\", \"production_date\"]]"
   ]
  },
  {
   "cell_type": "markdown",
   "id": "727e3ecb",
   "metadata": {},
   "source": [
    "# Feature Engineering for \"Age\" Column"
   ]
  },
  {
   "cell_type": "code",
   "execution_count": 91,
   "id": "b860b328",
   "metadata": {},
   "outputs": [
    {
     "data": {
      "text/plain": [
       "3.00       3667\n",
       "4.00       3492\n",
       "0.00       3086\n",
       "1.00       2870\n",
       "2.00       2473\n",
       "           ... \n",
       "-1.00         1\n",
       "93.00         1\n",
       "72.00         1\n",
       "94.00         1\n",
       "-180.00       1\n",
       "Name: age, Length: 84, dtype: int64"
      ]
     },
     "execution_count": 91,
     "metadata": {},
     "output_type": "execute_result"
    }
   ],
   "source": [
    "df[\"age\"] = 2022 - df.first_registration\n",
    "df.age.value_counts(dropna=False)"
   ]
  },
  {
   "cell_type": "code",
   "execution_count": 92,
   "id": "33ca31d2",
   "metadata": {},
   "outputs": [],
   "source": [
    "df.drop([\"first_registration\", \"production_date\"], axis=1, inplace=True)"
   ]
  },
  {
   "cell_type": "code",
   "execution_count": 93,
   "id": "915e9dc5",
   "metadata": {},
   "outputs": [
    {
     "data": {
      "text/plain": [
       "(28630, 40)"
      ]
     },
     "execution_count": 93,
     "metadata": {},
     "output_type": "execute_result"
    }
   ],
   "source": [
    "df.shape"
   ]
  },
  {
   "cell_type": "markdown",
   "id": "fc047336",
   "metadata": {},
   "source": [
    "# gearbox"
   ]
  },
  {
   "cell_type": "code",
   "execution_count": 94,
   "id": "b0680526",
   "metadata": {},
   "outputs": [
    {
     "name": "stdout",
     "output_type": "stream",
     "text": [
      "column name: gearbox\n",
      "---------------------------------\n",
      "per_of_nulls % 0.87\n",
      "num_of_nulls 248\n",
      "num_of_uniques 4\n",
      "---------------------------------\n",
      "[\\nManual\\n]            17023\n",
      "[\\nAutomatic\\n]         11287\n",
      "NaN                       248\n",
      "[\\nSemi-automatic\\n]       72\n",
      "Name: gearbox, dtype: int64\n"
     ]
    }
   ],
   "source": [
    "first_looking(\"gearbox\")"
   ]
  },
  {
   "cell_type": "code",
   "execution_count": 95,
   "id": "503d0c41",
   "metadata": {},
   "outputs": [],
   "source": [
    "df.gearbox = df.gearbox.explode().str.strip(\"\\n\")"
   ]
  },
  {
   "cell_type": "code",
   "execution_count": 96,
   "id": "e2855d53",
   "metadata": {},
   "outputs": [
    {
     "data": {
      "text/plain": [
       "Manual            17023\n",
       "Automatic         11287\n",
       "NaN                 248\n",
       "Semi-automatic       72\n",
       "Name: gearbox, dtype: int64"
      ]
     },
     "execution_count": 96,
     "metadata": {},
     "output_type": "execute_result"
    }
   ],
   "source": [
    "df.gearbox.value_counts(dropna=False)"
   ]
  },
  {
   "cell_type": "markdown",
   "id": "7674c6ab",
   "metadata": {},
   "source": [
    "# power"
   ]
  },
  {
   "cell_type": "code",
   "execution_count": 97,
   "id": "361e016b",
   "metadata": {},
   "outputs": [
    {
     "name": "stdout",
     "output_type": "stream",
     "text": [
      "column name: power\n",
      "---------------------------------\n",
      "per_of_nulls % 2.0\n",
      "num_of_nulls 572\n",
      "num_of_uniques 352\n",
      "---------------------------------\n",
      "[\\n110 kW (150 hp)\\n]      1992\n",
      "[\\n96 kW (131 hp)\\n]       1356\n",
      "[\\n88 kW (120 hp)\\n]       1182\n",
      "[\\n81 kW (110 hp)\\n]       1166\n",
      "[\\n66 kW (90 hp)\\n]        1110\n",
      "                           ... \n",
      "[\\n746 kW (1,014 hp)\\n]       1\n",
      "[\\n570 kW (775 hp)\\n]         1\n",
      "[\\n471 kW (640 hp)\\n]         1\n",
      "[\\n179 kW (243 hp)\\n]         1\n",
      "[\\n26 kW (35 hp)\\n]           1\n",
      "Name: power, Length: 352, dtype: int64\n"
     ]
    }
   ],
   "source": [
    "first_looking(\"power\")"
   ]
  },
  {
   "cell_type": "code",
   "execution_count": 98,
   "id": "68ebf228",
   "metadata": {},
   "outputs": [
    {
     "data": {
      "text/plain": [
       "0                          NaN\n",
       "1        [\\n215 kW (292 hp)\\n]\n",
       "2        [\\n310 kW (421 hp)\\n]\n",
       "3        [\\n225 kW (306 hp)\\n]\n",
       "4        [\\n100 kW (136 hp)\\n]\n",
       "                 ...          \n",
       "29474    [\\n288 kW (392 hp)\\n]\n",
       "29475    [\\n125 kW (170 hp)\\n]\n",
       "29476     [\\n84 kW (114 hp)\\n]\n",
       "29477    [\\n187 kW (254 hp)\\n]\n",
       "29478    [\\n147 kW (200 hp)\\n]\n",
       "Name: power, Length: 28630, dtype: object"
      ]
     },
     "execution_count": 98,
     "metadata": {},
     "output_type": "execute_result"
    }
   ],
   "source": [
    "df.power"
   ]
  },
  {
   "cell_type": "code",
   "execution_count": 99,
   "id": "1689dbb1",
   "metadata": {},
   "outputs": [
    {
     "data": {
      "text/plain": [
       "110.00    1992\n",
       "96.00     1356\n",
       "88.00     1182\n",
       "81.00     1166\n",
       "66.00     1110\n",
       "          ... \n",
       "746.00       1\n",
       "570.00       1\n",
       "471.00       1\n",
       "179.00       1\n",
       "26.00        1\n",
       "Name: power_kW, Length: 352, dtype: int64"
      ]
     },
     "execution_count": 99,
     "metadata": {},
     "output_type": "execute_result"
    }
   ],
   "source": [
    "df[\"power_kW\"] = df.power.str[0].str.strip(\"\\n\").str.extract(\"(\\d{1,3})+\\D\").astype(\"float\")\n",
    "df.power_kW.value_counts(dropna=False)"
   ]
  },
  {
   "cell_type": "code",
   "execution_count": 100,
   "id": "8bf2fa14",
   "metadata": {},
   "outputs": [
    {
     "data": {
      "text/plain": [
       "150.00    1992\n",
       "131.00    1356\n",
       "120.00    1182\n",
       "110.00    1166\n",
       "90.00     1110\n",
       "          ... \n",
       "465.00       1\n",
       "412.00       1\n",
       "670.00       1\n",
       "506.00       1\n",
       "33.00        1\n",
       "Name: power_hp, Length: 348, dtype: int64"
      ]
     },
     "execution_count": 100,
     "metadata": {},
     "output_type": "execute_result"
    }
   ],
   "source": [
    "df[\"power_hp\"] = df.power.str[0].str.strip(\"\\n\").str.extract(\"\\D+(\\d{1,3})\").astype(\"float\")\n",
    "df.power_hp.value_counts(dropna=False)"
   ]
  },
  {
   "cell_type": "code",
   "execution_count": 101,
   "id": "adf73dab",
   "metadata": {},
   "outputs": [],
   "source": [
    "df.drop(\"power\", axis=1, inplace=True)"
   ]
  },
  {
   "cell_type": "code",
   "execution_count": 102,
   "id": "901c4c66",
   "metadata": {},
   "outputs": [
    {
     "data": {
      "text/plain": [
       "(28630, 41)"
      ]
     },
     "execution_count": 102,
     "metadata": {},
     "output_type": "execute_result"
    }
   ],
   "source": [
    "df.shape"
   ]
  },
  {
   "cell_type": "markdown",
   "id": "d2de4181",
   "metadata": {},
   "source": [
    "# fuel_type"
   ]
  },
  {
   "cell_type": "code",
   "execution_count": 103,
   "id": "ba0ee567",
   "metadata": {},
   "outputs": [
    {
     "name": "stdout",
     "output_type": "stream",
     "text": [
      "column name: fuel_type\n",
      "---------------------------------\n",
      "per_of_nulls % 6.24\n",
      "num_of_nulls 1787\n",
      "num_of_uniques 47\n",
      "---------------------------------\n",
      "Gasoline                                                                                              8532\n",
      "Diesel                                                                                                5911\n",
      "Super 95                                                                                              3557\n",
      "Diesel (Particle filter)                                                                              2816\n",
      "Regular/Benzine 91                                                                                    2065\n",
      "NaN                                                                                                   1787\n",
      "Super E10 95                                                                                          1016\n",
      "Regular/Benzine 91 (Particle filter)                                                                   555\n",
      "Super 95 (Particle filter)                                                                             537\n",
      "Super E10 95 (Particle filter)                                                                         324\n",
      "Regular/Benzine E10 91                                                                                 278\n",
      "Others                                                                                                 197\n",
      "Gasoline (Particle filter)                                                                             196\n",
      "Electric                                                                                               185\n",
      "Super Plus 98                                                                                          170\n",
      "Liquid petroleum gas (LPG)                                                                             148\n",
      "CNG                                                                                                     87\n",
      "LPG                                                                                                     73\n",
      "Super Plus E10 98                                                                                       42\n",
      "Super Plus E10 98 (Particle filter)                                                                     35\n",
      "Domestic gas H                                                                                          24\n",
      "Others (Particle filter)                                                                                16\n",
      "Super Plus 98 (Particle filter)                                                                         15\n",
      "Domestic gas L                                                                                          10\n",
      "CNG (Particle filter)                                                                                    8\n",
      "Regular/Benzine E10 91 (Particle filter)                                                                 8\n",
      "LPG (Particle filter)                                                                                    4\n",
      "Hydrogen                                                                                                 3\n",
      "Ethanol                                                                                                  3\n",
      "Electric (Particle filter)                                                                               3\n",
      "Liquid petroleum gas (LPG) (Particle filter) / Super 95 / Super E10 95                                   3\n",
      "Liquid petroleum gas (LPG) / Super 95 / Super Plus 98 / Super Plus E10 98 / Super E10 95                 2\n",
      "Liquid petroleum gas (LPG) / Super 95 / Super E10 95                                                     2\n",
      "Domestic gas L (Particle filter)                                                                         2\n",
      "Liquid petroleum gas (LPG) (Particle filter)                                                             2\n",
      "Liquid petroleum gas (LPG) / Super 95                                                                    2\n",
      "Liquid petroleum gas (LPG) / Super 95 / Super E10 95 / Super Plus 98                                     2\n",
      "Liquid petroleum gas (LPG) / Super 95 / Super Plus 98                                                    1\n",
      "Super 95 (Particle filter) / Super E10 95 / Ethanol                                                      1\n",
      "Liquid petroleum gas (LPG) / Super E10 95 / Super Plus E10 98 / Super Plus 98 / Super 95                 1\n",
      "Liquid petroleum gas (LPG) / Super E10 95                                                                1\n",
      "Biogas                                                                                                   1\n",
      "Super 95 / Super Plus 98 / Liquid petroleum gas (LPG)                                                    1\n",
      "Domestic gas L / Super 95 / Domestic gas H                                                               1\n",
      "Domestic gas H / Super E10 95 / Super Plus E10 98 / Super 95 / Super Plus 98 / Domestic gas L            1\n",
      "Liquid petroleum gas (LPG) / Super E10 95 / Regular/Benzine 91 / Super 95 / Super Plus 98 / Biogas       1\n",
      "Super 95 / Liquid petroleum gas (LPG)                                                                    1\n",
      "Name: fuel_type, dtype: int64\n"
     ]
    }
   ],
   "source": [
    "first_looking(\"fuel_type\")"
   ]
  },
  {
   "cell_type": "code",
   "execution_count": 104,
   "id": "edc90f88",
   "metadata": {},
   "outputs": [
    {
     "data": {
      "text/plain": [
       "[Gasoline]                                                                                                    8532\n",
       "[Diesel]                                                                                                      5911\n",
       "[Super 95]                                                                                                    3557\n",
       "[Diesel (Particle filter)]                                                                                    2816\n",
       "[Regular, Benzine 91]                                                                                         2065\n",
       "NaN                                                                                                           1787\n",
       "[Super E10 95]                                                                                                1016\n",
       "[Regular, Benzine 91 (Particle filter)]                                                                        555\n",
       "[Super 95 (Particle filter)]                                                                                   537\n",
       "[Super E10 95 (Particle filter)]                                                                               324\n",
       "[Regular, Benzine E10 91]                                                                                      278\n",
       "[Others]                                                                                                       197\n",
       "[Gasoline (Particle filter)]                                                                                   196\n",
       "[Electric]                                                                                                     185\n",
       "[Super Plus 98]                                                                                                170\n",
       "[Liquid petroleum gas (LPG)]                                                                                   148\n",
       "[CNG]                                                                                                           87\n",
       "[LPG]                                                                                                           73\n",
       "[Super Plus E10 98]                                                                                             42\n",
       "[Super Plus E10 98 (Particle filter)]                                                                           35\n",
       "[Domestic gas H]                                                                                                24\n",
       "[Others (Particle filter)]                                                                                      16\n",
       "[Super Plus 98 (Particle filter)]                                                                               15\n",
       "[Domestic gas L]                                                                                                10\n",
       "[CNG (Particle filter)]                                                                                          8\n",
       "[Regular, Benzine E10 91 (Particle filter)]                                                                      8\n",
       "[LPG (Particle filter)]                                                                                          4\n",
       "[Hydrogen]                                                                                                       3\n",
       "[Ethanol]                                                                                                        3\n",
       "[Electric (Particle filter)]                                                                                     3\n",
       "[Liquid petroleum gas (LPG) (Particle filter) ,  Super 95 ,  Super E10 95]                                       3\n",
       "[Liquid petroleum gas (LPG) ,  Super 95 ,  Super Plus 98 ,  Super Plus E10 98 ,  Super E10 95]                   2\n",
       "[Liquid petroleum gas (LPG) ,  Super 95 ,  Super E10 95]                                                         2\n",
       "[Domestic gas L (Particle filter)]                                                                               2\n",
       "[Liquid petroleum gas (LPG) (Particle filter)]                                                                   2\n",
       "[Liquid petroleum gas (LPG) ,  Super 95]                                                                         2\n",
       "[Liquid petroleum gas (LPG) ,  Super 95 ,  Super E10 95 ,  Super Plus 98]                                        2\n",
       "[Liquid petroleum gas (LPG) ,  Super 95 ,  Super Plus 98]                                                        1\n",
       "[Super 95 (Particle filter) ,  Super E10 95 ,  Ethanol]                                                          1\n",
       "[Liquid petroleum gas (LPG) ,  Super E10 95 ,  Super Plus E10 98 ,  Super Plus 98 ,  Super 95]                   1\n",
       "[Liquid petroleum gas (LPG) ,  Super E10 95]                                                                     1\n",
       "[Biogas]                                                                                                         1\n",
       "[Super 95 ,  Super Plus 98 ,  Liquid petroleum gas (LPG)]                                                        1\n",
       "[Domestic gas L ,  Super 95 ,  Domestic gas H]                                                                   1\n",
       "[Domestic gas H ,  Super E10 95 ,  Super Plus E10 98 ,  Super 95 ,  Super Plus 98 ,  Domestic gas L]             1\n",
       "[Liquid petroleum gas (LPG) ,  Super E10 95 ,  Regular, Benzine 91 ,  Super 95 ,  Super Plus 98 ,  Biogas]       1\n",
       "[Super 95 ,  Liquid petroleum gas (LPG)]                                                                         1\n",
       "Name: fuel_type, dtype: int64"
      ]
     },
     "execution_count": 104,
     "metadata": {},
     "output_type": "execute_result"
    }
   ],
   "source": [
    "df.fuel_type.str.split(\"/\").value_counts(dropna=False)"
   ]
  },
  {
   "cell_type": "code",
   "execution_count": 105,
   "id": "9cf32ff6",
   "metadata": {},
   "outputs": [
    {
     "data": {
      "text/plain": [
       "Gasoline                                         8532\n",
       "Diesel                                           5911\n",
       "Super 95                                         3557\n",
       "Regular                                          2906\n",
       "Diesel (Particle filter)                         2816\n",
       "NaN                                              1787\n",
       "Super E10 95                                     1016\n",
       "Super 95 (Particle filter)                        537\n",
       "Super E10 95 (Particle filter)                    324\n",
       "Others                                            197\n",
       "Gasoline (Particle filter)                        196\n",
       "Electric                                          185\n",
       "Super Plus 98                                     170\n",
       "Liquid petroleum gas (LPG)                        148\n",
       "CNG                                                87\n",
       "LPG                                                73\n",
       "Super Plus E10 98                                  42\n",
       "Super Plus E10 98 (Particle filter)                35\n",
       "Domestic gas H                                     24\n",
       "Others (Particle filter)                           16\n",
       "Super Plus 98 (Particle filter)                    15\n",
       "Liquid petroleum gas (LPG)                         12\n",
       "Domestic gas L                                     10\n",
       "CNG (Particle filter)                               8\n",
       "LPG (Particle filter)                               4\n",
       "Liquid petroleum gas (LPG) (Particle filter)        3\n",
       "Electric (Particle filter)                          3\n",
       "Ethanol                                             3\n",
       "Hydrogen                                            3\n",
       "Domestic gas L (Particle filter)                    2\n",
       "Super 95                                            2\n",
       "Liquid petroleum gas (LPG) (Particle filter)        2\n",
       "Biogas                                              1\n",
       "Domestic gas H                                      1\n",
       "Domestic gas L                                      1\n",
       "Super 95 (Particle filter)                          1\n",
       "Name: fuel_type, dtype: int64"
      ]
     },
     "execution_count": 105,
     "metadata": {},
     "output_type": "execute_result"
    }
   ],
   "source": [
    "df.fuel_type.str.split(\"/\").str[0].value_counts(dropna=False)"
   ]
  },
  {
   "cell_type": "code",
   "execution_count": 106,
   "id": "9eb66bfd",
   "metadata": {},
   "outputs": [
    {
     "data": {
      "text/plain": [
       "Gasoline                                        8532\n",
       "Diesel                                          5911\n",
       "Super 95                                        3559\n",
       "Regular                                         2906\n",
       "Diesel (Particle filter)                        2816\n",
       "NaN                                             1787\n",
       "Super E10 95                                    1016\n",
       "Super 95 (Particle filter)                       538\n",
       "Super E10 95 (Particle filter)                   324\n",
       "Others                                           197\n",
       "Gasoline (Particle filter)                       196\n",
       "Electric                                         185\n",
       "Super Plus 98                                    170\n",
       "Liquid petroleum gas (LPG)                       160\n",
       "CNG                                               87\n",
       "LPG                                               73\n",
       "Super Plus E10 98                                 42\n",
       "Super Plus E10 98 (Particle filter)               35\n",
       "Domestic gas H                                    25\n",
       "Others (Particle filter)                          16\n",
       "Super Plus 98 (Particle filter)                   15\n",
       "Domestic gas L                                    11\n",
       "CNG (Particle filter)                              8\n",
       "Liquid petroleum gas (LPG) (Particle filter)       5\n",
       "LPG (Particle filter)                              4\n",
       "Ethanol                                            3\n",
       "Electric (Particle filter)                         3\n",
       "Hydrogen                                           3\n",
       "Domestic gas L (Particle filter)                   2\n",
       "Biogas                                             1\n",
       "Name: fuel_type, dtype: int64"
      ]
     },
     "execution_count": 106,
     "metadata": {},
     "output_type": "execute_result"
    }
   ],
   "source": [
    "df.fuel_type.str.split(\"/\").str[0].str.strip().value_counts(dropna=False)"
   ]
  },
  {
   "cell_type": "code",
   "execution_count": 107,
   "id": "749a271e",
   "metadata": {},
   "outputs": [],
   "source": [
    "df[\"fuel_type\"] = df.fuel_type.str.split(\"/\").str[0].str.strip()"
   ]
  },
  {
   "cell_type": "code",
   "execution_count": 108,
   "id": "2baddacd",
   "metadata": {},
   "outputs": [
    {
     "data": {
      "text/plain": [
       "Gasoline                8728\n",
       "Diesel                  8727\n",
       "Super 95                4097\n",
       "Regular                 2906\n",
       "NaN                     1787\n",
       "Super E10 95            1340\n",
       "Others                   213\n",
       "Electric                 188\n",
       "Super Plus 98            185\n",
       "Liquid petroleum gas     165\n",
       "CNG                       95\n",
       "Super Plus E10 98         77\n",
       "LPG                       77\n",
       "Domestic gas H            25\n",
       "Domestic gas L            13\n",
       "Ethanol                    3\n",
       "Hydrogen                   3\n",
       "Biogas                     1\n",
       "Name: fuel_type, dtype: int64"
      ]
     },
     "execution_count": 108,
     "metadata": {},
     "output_type": "execute_result"
    }
   ],
   "source": [
    "df.fuel_type.str.split(\"(\").str[0].str.strip().value_counts(dropna=False)"
   ]
  },
  {
   "cell_type": "code",
   "execution_count": 109,
   "id": "a9584cff",
   "metadata": {},
   "outputs": [],
   "source": [
    "df[\"fuel_type\"] = df.fuel_type.str.split(\"(\").str[0].str.strip()"
   ]
  },
  {
   "cell_type": "code",
   "execution_count": 110,
   "id": "ab76c52a",
   "metadata": {},
   "outputs": [],
   "source": [
    "benzine = [\"Gasoline\", \"Super 95\", \"Regular\", \"Super E10 95\", \"Super Plus 98\", \"Super Plus E10 98\", \"Others\", \"Ethanol\"]\n",
    "petroleum_gas = [\"Liquid petroleum gas\", \"CNG\", \"LPG\", \"Domestic gas H\", \"Domestic gas L\", \"Biogas\", \"Hydrogen\"]\n",
    "\n",
    "def fueltype(x):\n",
    "    if x in benzine:\n",
    "        return \"Benzine\"\n",
    "    elif x in petroleum_gas:\n",
    "        return \"Liquid/Natural Gas\"\n",
    "    else:\n",
    "        return x"
   ]
  },
  {
   "cell_type": "code",
   "execution_count": 111,
   "id": "7add1a37",
   "metadata": {},
   "outputs": [],
   "source": [
    "df[\"fuel_type\"] = df.fuel_type.apply(fueltype)"
   ]
  },
  {
   "cell_type": "code",
   "execution_count": 112,
   "id": "59e5521a",
   "metadata": {},
   "outputs": [
    {
     "data": {
      "text/plain": [
       "Benzine               17549\n",
       "Diesel                 8727\n",
       "NaN                    1787\n",
       "Liquid/Natural Gas      379\n",
       "Electric                188\n",
       "Name: fuel_type, dtype: int64"
      ]
     },
     "execution_count": 112,
     "metadata": {},
     "output_type": "execute_result"
    }
   ],
   "source": [
    "df.fuel_type.value_counts(dropna=False)"
   ]
  },
  {
   "cell_type": "markdown",
   "id": "2d357c20",
   "metadata": {},
   "source": [
    "# colour"
   ]
  },
  {
   "cell_type": "code",
   "execution_count": 113,
   "id": "f4ab6d1f",
   "metadata": {},
   "outputs": [
    {
     "name": "stdout",
     "output_type": "stream",
     "text": [
      "column name: colour\n",
      "---------------------------------\n",
      "per_of_nulls % 6.02\n",
      "num_of_nulls 1724\n",
      "num_of_uniques 15\n",
      "---------------------------------\n",
      "Black     6473\n",
      "Grey      5998\n",
      "White     5185\n",
      "Blue      3478\n",
      "Red       2242\n",
      "NaN       1724\n",
      "Silver    1622\n",
      "Green      450\n",
      "Brown      437\n",
      "Orange     288\n",
      "Beige      278\n",
      "Yellow     230\n",
      "Violet      98\n",
      "Bronze      65\n",
      "Gold        62\n",
      "Name: colour, dtype: int64\n"
     ]
    }
   ],
   "source": [
    "first_looking(\"colour\")"
   ]
  },
  {
   "cell_type": "markdown",
   "id": "b0d42c37",
   "metadata": {},
   "source": [
    "# manufacturer_colour"
   ]
  },
  {
   "cell_type": "code",
   "execution_count": 114,
   "id": "058c6797",
   "metadata": {},
   "outputs": [
    {
     "name": "stdout",
     "output_type": "stream",
     "text": [
      "column name: manufacturer_colour\n",
      "---------------------------------\n",
      "per_of_nulls % 23.9\n",
      "num_of_nulls 6843\n",
      "num_of_uniques 4964\n",
      "---------------------------------\n",
      "NaN                               6843\n",
      "Blanco                            1235\n",
      "Gris                               671\n",
      "Azul                               552\n",
      "Negro                              546\n",
      "                                  ... \n",
      "Colore esterno (snowflake whit       1\n",
      "Pompeigraumetallic                   1\n",
      "Cararragrau                          1\n",
      "ICE WHITE (wit metallic)             1\n",
      "Denim Blue metallic (blauw met       1\n",
      "Name: manufacturer_colour, Length: 4964, dtype: int64\n"
     ]
    }
   ],
   "source": [
    "first_looking(\"manufacturer_colour\")"
   ]
  },
  {
   "cell_type": "code",
   "execution_count": 115,
   "id": "aba39e14",
   "metadata": {},
   "outputs": [
    {
     "data": {
      "text/html": [
       "<div>\n",
       "<style scoped>\n",
       "    .dataframe tbody tr th:only-of-type {\n",
       "        vertical-align: middle;\n",
       "    }\n",
       "\n",
       "    .dataframe tbody tr th {\n",
       "        vertical-align: top;\n",
       "    }\n",
       "\n",
       "    .dataframe thead th {\n",
       "        text-align: right;\n",
       "    }\n",
       "</style>\n",
       "<table border=\"1\" class=\"dataframe\">\n",
       "  <thead>\n",
       "    <tr style=\"text-align: right;\">\n",
       "      <th></th>\n",
       "      <th>colour</th>\n",
       "      <th>manufacturer_colour</th>\n",
       "    </tr>\n",
       "  </thead>\n",
       "  <tbody>\n",
       "    <tr>\n",
       "      <th>4693</th>\n",
       "      <td>White</td>\n",
       "      <td>Cream white</td>\n",
       "    </tr>\n",
       "    <tr>\n",
       "      <th>10658</th>\n",
       "      <td>Green</td>\n",
       "      <td>NaN</td>\n",
       "    </tr>\n",
       "    <tr>\n",
       "      <th>24269</th>\n",
       "      <td>Red</td>\n",
       "      <td>NaN</td>\n",
       "    </tr>\n",
       "    <tr>\n",
       "      <th>10695</th>\n",
       "      <td>Blue</td>\n",
       "      <td>NaN</td>\n",
       "    </tr>\n",
       "    <tr>\n",
       "      <th>7522</th>\n",
       "      <td>Black</td>\n",
       "      <td>Zwart</td>\n",
       "    </tr>\n",
       "    <tr>\n",
       "      <th>28505</th>\n",
       "      <td>Blue</td>\n",
       "      <td>Denim blauw</td>\n",
       "    </tr>\n",
       "    <tr>\n",
       "      <th>17251</th>\n",
       "      <td>Blue</td>\n",
       "      <td>Azul</td>\n",
       "    </tr>\n",
       "    <tr>\n",
       "      <th>14575</th>\n",
       "      <td>Black</td>\n",
       "      <td>Black Magic (1Z1Z)</td>\n",
       "    </tr>\n",
       "    <tr>\n",
       "      <th>18058</th>\n",
       "      <td>Grey</td>\n",
       "      <td>Grau metallic</td>\n",
       "    </tr>\n",
       "    <tr>\n",
       "      <th>12288</th>\n",
       "      <td>Black</td>\n",
       "      <td>Zwart metallic</td>\n",
       "    </tr>\n",
       "  </tbody>\n",
       "</table>\n",
       "</div>"
      ],
      "text/plain": [
       "      colour manufacturer_colour\n",
       "4693   White         Cream white\n",
       "10658  Green                 NaN\n",
       "24269    Red                 NaN\n",
       "10695   Blue                 NaN\n",
       "7522   Black               Zwart\n",
       "28505   Blue         Denim blauw\n",
       "17251   Blue                Azul\n",
       "14575  Black  Black Magic (1Z1Z)\n",
       "18058   Grey       Grau metallic\n",
       "12288  Black      Zwart metallic"
      ]
     },
     "execution_count": 115,
     "metadata": {},
     "output_type": "execute_result"
    }
   ],
   "source": [
    "df[[\"colour\", \"manufacturer_colour\"]].sample(10)"
   ]
  },
  {
   "cell_type": "code",
   "execution_count": 116,
   "id": "bc98d251",
   "metadata": {},
   "outputs": [
    {
     "data": {
      "text/html": [
       "<div>\n",
       "<style scoped>\n",
       "    .dataframe tbody tr th:only-of-type {\n",
       "        vertical-align: middle;\n",
       "    }\n",
       "\n",
       "    .dataframe tbody tr th {\n",
       "        vertical-align: top;\n",
       "    }\n",
       "\n",
       "    .dataframe thead th {\n",
       "        text-align: right;\n",
       "    }\n",
       "</style>\n",
       "<table border=\"1\" class=\"dataframe\">\n",
       "  <thead>\n",
       "    <tr style=\"text-align: right;\">\n",
       "      <th></th>\n",
       "      <th>colour</th>\n",
       "      <th>manufacturer_colour</th>\n",
       "    </tr>\n",
       "  </thead>\n",
       "  <tbody>\n",
       "    <tr>\n",
       "      <th>1</th>\n",
       "      <td>NaN</td>\n",
       "      <td>Negro Obsidiana</td>\n",
       "    </tr>\n",
       "    <tr>\n",
       "      <th>24</th>\n",
       "      <td>NaN</td>\n",
       "      <td>GRIS GRAFITO</td>\n",
       "    </tr>\n",
       "    <tr>\n",
       "      <th>37</th>\n",
       "      <td>NaN</td>\n",
       "      <td>Plata Iridio</td>\n",
       "    </tr>\n",
       "    <tr>\n",
       "      <th>145</th>\n",
       "      <td>NaN</td>\n",
       "      <td>Gris Montagne</td>\n",
       "    </tr>\n",
       "    <tr>\n",
       "      <th>169</th>\n",
       "      <td>NaN</td>\n",
       "      <td>Bleu denim métallisé</td>\n",
       "    </tr>\n",
       "    <tr>\n",
       "      <th>...</th>\n",
       "      <td>...</td>\n",
       "      <td>...</td>\n",
       "    </tr>\n",
       "    <tr>\n",
       "      <th>29434</th>\n",
       "      <td>NaN</td>\n",
       "      <td>Blanc Cristal</td>\n",
       "    </tr>\n",
       "    <tr>\n",
       "      <th>29439</th>\n",
       "      <td>NaN</td>\n",
       "      <td>Gris Osmium</td>\n",
       "    </tr>\n",
       "    <tr>\n",
       "      <th>29440</th>\n",
       "      <td>NaN</td>\n",
       "      <td>Noir Onyx Métallisé</td>\n",
       "    </tr>\n",
       "    <tr>\n",
       "      <th>29441</th>\n",
       "      <td>NaN</td>\n",
       "      <td>Gris Osmium</td>\n",
       "    </tr>\n",
       "    <tr>\n",
       "      <th>29446</th>\n",
       "      <td>NaN</td>\n",
       "      <td>DENIM BLUE</td>\n",
       "    </tr>\n",
       "  </tbody>\n",
       "</table>\n",
       "<p>1481 rows × 2 columns</p>\n",
       "</div>"
      ],
      "text/plain": [
       "      colour   manufacturer_colour\n",
       "1        NaN       Negro Obsidiana\n",
       "24       NaN          GRIS GRAFITO\n",
       "37       NaN          Plata Iridio\n",
       "145      NaN         Gris Montagne\n",
       "169      NaN  Bleu denim métallisé\n",
       "...      ...                   ...\n",
       "29434    NaN         Blanc Cristal\n",
       "29439    NaN           Gris Osmium\n",
       "29440    NaN   Noir Onyx Métallisé\n",
       "29441    NaN           Gris Osmium\n",
       "29446    NaN            DENIM BLUE\n",
       "\n",
       "[1481 rows x 2 columns]"
      ]
     },
     "execution_count": 116,
     "metadata": {},
     "output_type": "execute_result"
    }
   ],
   "source": [
    "df[df.colour.isnull() & df.manufacturer_colour.notnull()][[\"colour\", \"manufacturer_colour\"]]"
   ]
  },
  {
   "cell_type": "code",
   "execution_count": 117,
   "id": "a78eae81",
   "metadata": {},
   "outputs": [],
   "source": [
    "df.drop([\"colour\", \"manufacturer_colour\"], axis=1, inplace=True)"
   ]
  },
  {
   "cell_type": "code",
   "execution_count": 118,
   "id": "71fcad69",
   "metadata": {},
   "outputs": [
    {
     "data": {
      "text/plain": [
       "(28630, 39)"
      ]
     },
     "execution_count": 118,
     "metadata": {},
     "output_type": "execute_result"
    }
   ],
   "source": [
    "df.shape"
   ]
  },
  {
   "cell_type": "markdown",
   "id": "fcee6216",
   "metadata": {},
   "source": [
    "# paint"
   ]
  },
  {
   "cell_type": "code",
   "execution_count": 119,
   "id": "df21d741",
   "metadata": {},
   "outputs": [
    {
     "data": {
      "text/plain": [
       "Metallic     14494\n",
       "NaN          14135\n",
       "Uni/basic        1\n",
       "Name: paint, dtype: int64"
      ]
     },
     "execution_count": 119,
     "metadata": {},
     "output_type": "execute_result"
    }
   ],
   "source": [
    "df.paint.value_counts(dropna=False)"
   ]
  },
  {
   "cell_type": "code",
   "execution_count": 120,
   "id": "b37c8cc9",
   "metadata": {},
   "outputs": [],
   "source": [
    "df.paint = df.paint.replace(np.nan, \"Uni/basic\", regex=True)"
   ]
  },
  {
   "cell_type": "code",
   "execution_count": 121,
   "id": "4ef9d2b2",
   "metadata": {},
   "outputs": [
    {
     "data": {
      "text/plain": [
       "Metallic     14494\n",
       "Uni/basic    14136\n",
       "Name: paint, dtype: int64"
      ]
     },
     "execution_count": 121,
     "metadata": {},
     "output_type": "execute_result"
    }
   ],
   "source": [
    "df.paint.value_counts(dropna=False)"
   ]
  },
  {
   "cell_type": "code",
   "execution_count": 122,
   "id": "f8705557",
   "metadata": {},
   "outputs": [],
   "source": [
    "df.drop([\"paint\"], axis=1, inplace=True)"
   ]
  },
  {
   "cell_type": "code",
   "execution_count": 123,
   "id": "70f4fdfe",
   "metadata": {},
   "outputs": [
    {
     "data": {
      "text/plain": [
       "(28630, 38)"
      ]
     },
     "execution_count": 123,
     "metadata": {},
     "output_type": "execute_result"
    }
   ],
   "source": [
    "df.shape"
   ]
  },
  {
   "cell_type": "markdown",
   "id": "b3cc0022",
   "metadata": {},
   "source": [
    "# seller"
   ]
  },
  {
   "cell_type": "code",
   "execution_count": 124,
   "id": "cb0c4ec6",
   "metadata": {},
   "outputs": [
    {
     "name": "stdout",
     "output_type": "stream",
     "text": [
      "column name: seller\n",
      "---------------------------------\n",
      "per_of_nulls % 0.0\n",
      "num_of_nulls 0\n",
      "num_of_uniques 2\n",
      "---------------------------------\n",
      "Dealer            26318\n",
      "Private seller     2312\n",
      "Name: seller, dtype: int64\n"
     ]
    }
   ],
   "source": [
    "first_looking(\"seller\")"
   ]
  },
  {
   "cell_type": "code",
   "execution_count": null,
   "id": "40d1d5d7",
   "metadata": {},
   "outputs": [],
   "source": []
  },
  {
   "cell_type": "markdown",
   "id": "b5798c0b",
   "metadata": {},
   "source": [
    "# seats"
   ]
  },
  {
   "cell_type": "code",
   "execution_count": 125,
   "id": "dec2abb4",
   "metadata": {},
   "outputs": [
    {
     "name": "stdout",
     "output_type": "stream",
     "text": [
      "column name: seats\n",
      "---------------------------------\n",
      "per_of_nulls % 10.92\n",
      "num_of_nulls 3125\n",
      "num_of_uniques 12\n",
      "---------------------------------\n",
      "[\\n, 5, \\n]     18308\n",
      "[\\n, 4, \\n]      5390\n",
      "NaN              3125\n",
      "[\\n, 2, \\n]      1186\n",
      "[\\n, 7, \\n]       488\n",
      "[\\n, 8, \\n]        43\n",
      "[\\n, 9, \\n]        35\n",
      "[\\n, 3, \\n]        25\n",
      "[\\n, 6, \\n]        12\n",
      "[\\n, 0, \\n]         9\n",
      "[\\n, 1, \\n]         7\n",
      "[\\n, 17, \\n]        2\n",
      "Name: seats, dtype: int64\n"
     ]
    }
   ],
   "source": [
    "first_looking(\"seats\")"
   ]
  },
  {
   "cell_type": "code",
   "execution_count": 126,
   "id": "cf32b47d",
   "metadata": {},
   "outputs": [
    {
     "data": {
      "text/plain": [
       "0              NaN\n",
       "1        \\n, 5, \\n\n",
       "2        \\n, 5, \\n\n",
       "3        \\n, 5, \\n\n",
       "4        \\n, 5, \\n\n",
       "           ...    \n",
       "29474    \\n, 4, \\n\n",
       "29475    \\n, 5, \\n\n",
       "29476    \\n, 4, \\n\n",
       "29477    \\n, 5, \\n\n",
       "29478    \\n, 5, \\n\n",
       "Name: seats, Length: 28630, dtype: object"
      ]
     },
     "execution_count": 126,
     "metadata": {},
     "output_type": "execute_result"
    }
   ],
   "source": [
    "df.seats.apply(lambda x : x[0] if type(x)==list else x)"
   ]
  },
  {
   "cell_type": "code",
   "execution_count": 127,
   "id": "8b7cebf3",
   "metadata": {},
   "outputs": [],
   "source": [
    "df.seats = df.seats.apply(lambda x : x[0] if type(x)==list else x)"
   ]
  },
  {
   "cell_type": "code",
   "execution_count": 128,
   "id": "b3353f69",
   "metadata": {},
   "outputs": [
    {
     "data": {
      "text/html": [
       "<div>\n",
       "<style scoped>\n",
       "    .dataframe tbody tr th:only-of-type {\n",
       "        vertical-align: middle;\n",
       "    }\n",
       "\n",
       "    .dataframe tbody tr th {\n",
       "        vertical-align: top;\n",
       "    }\n",
       "\n",
       "    .dataframe thead th {\n",
       "        text-align: right;\n",
       "    }\n",
       "</style>\n",
       "<table border=\"1\" class=\"dataframe\">\n",
       "  <thead>\n",
       "    <tr style=\"text-align: right;\">\n",
       "      <th></th>\n",
       "      <th>0</th>\n",
       "    </tr>\n",
       "  </thead>\n",
       "  <tbody>\n",
       "    <tr>\n",
       "      <th>0</th>\n",
       "      <td>NaN</td>\n",
       "    </tr>\n",
       "    <tr>\n",
       "      <th>1</th>\n",
       "      <td>5.00</td>\n",
       "    </tr>\n",
       "    <tr>\n",
       "      <th>2</th>\n",
       "      <td>5.00</td>\n",
       "    </tr>\n",
       "    <tr>\n",
       "      <th>3</th>\n",
       "      <td>5.00</td>\n",
       "    </tr>\n",
       "    <tr>\n",
       "      <th>4</th>\n",
       "      <td>5.00</td>\n",
       "    </tr>\n",
       "    <tr>\n",
       "      <th>...</th>\n",
       "      <td>...</td>\n",
       "    </tr>\n",
       "    <tr>\n",
       "      <th>29474</th>\n",
       "      <td>4.00</td>\n",
       "    </tr>\n",
       "    <tr>\n",
       "      <th>29475</th>\n",
       "      <td>5.00</td>\n",
       "    </tr>\n",
       "    <tr>\n",
       "      <th>29476</th>\n",
       "      <td>4.00</td>\n",
       "    </tr>\n",
       "    <tr>\n",
       "      <th>29477</th>\n",
       "      <td>5.00</td>\n",
       "    </tr>\n",
       "    <tr>\n",
       "      <th>29478</th>\n",
       "      <td>5.00</td>\n",
       "    </tr>\n",
       "  </tbody>\n",
       "</table>\n",
       "<p>28630 rows × 1 columns</p>\n",
       "</div>"
      ],
      "text/plain": [
       "         0\n",
       "0      NaN\n",
       "1     5.00\n",
       "2     5.00\n",
       "3     5.00\n",
       "4     5.00\n",
       "...    ...\n",
       "29474 4.00\n",
       "29475 5.00\n",
       "29476 4.00\n",
       "29477 5.00\n",
       "29478 5.00\n",
       "\n",
       "[28630 rows x 1 columns]"
      ]
     },
     "execution_count": 128,
     "metadata": {},
     "output_type": "execute_result"
    }
   ],
   "source": [
    "df.seats.str.extract(\"(\\d{1,4})\").astype(\"float\")"
   ]
  },
  {
   "cell_type": "code",
   "execution_count": 129,
   "id": "54313dff",
   "metadata": {},
   "outputs": [],
   "source": [
    "df.seats = df.seats.str.extract(\"(\\d{1,4})\").astype(\"float\")"
   ]
  },
  {
   "cell_type": "code",
   "execution_count": 130,
   "id": "c25b1714",
   "metadata": {},
   "outputs": [
    {
     "data": {
      "text/plain": [
       "5.00     18308\n",
       "4.00      5390\n",
       "NaN       3125\n",
       "2.00      1186\n",
       "7.00       488\n",
       "8.00        43\n",
       "9.00        35\n",
       "3.00        25\n",
       "6.00        12\n",
       "0.00         9\n",
       "1.00         7\n",
       "17.00        2\n",
       "Name: seats, dtype: int64"
      ]
     },
     "execution_count": 130,
     "metadata": {},
     "output_type": "execute_result"
    }
   ],
   "source": [
    "df.seats.value_counts(dropna=False)"
   ]
  },
  {
   "cell_type": "markdown",
   "id": "7576a2ac",
   "metadata": {},
   "source": [
    "# engine_size"
   ]
  },
  {
   "cell_type": "code",
   "execution_count": 131,
   "id": "e172f49f",
   "metadata": {},
   "outputs": [
    {
     "name": "stdout",
     "output_type": "stream",
     "text": [
      "column name: engine_size\n",
      "---------------------------------\n",
      "per_of_nulls % 4.9\n",
      "num_of_nulls 1403\n",
      "num_of_uniques 468\n",
      "---------------------------------\n",
      "[\\n1,598 cc\\n]    2099\n",
      "[\\n999 cc\\n]      2068\n",
      "[\\n1,969 cc\\n]    1929\n",
      "NaN               1403\n",
      "[\\n1,461 cc\\n]    1110\n",
      "                  ... \n",
      "[\\n2,753 cc\\n]       1\n",
      "[\\n2,495 cc\\n]       1\n",
      "[\\n200 cc\\n]         1\n",
      "[\\n3,224 cc\\n]       1\n",
      "[\\n2,473 cc\\n]       1\n",
      "Name: engine_size, Length: 468, dtype: int64\n"
     ]
    }
   ],
   "source": [
    "first_looking(\"engine_size\")"
   ]
  },
  {
   "cell_type": "code",
   "execution_count": 132,
   "id": "a4f9f9c0",
   "metadata": {},
   "outputs": [
    {
     "data": {
      "text/plain": [
       "0           NaN\n",
       "1          1.00\n",
       "2       1991.00\n",
       "3       1991.00\n",
       "4       2143.00\n",
       "          ...  \n",
       "29474   1969.00\n",
       "29475   2435.00\n",
       "29476   1560.00\n",
       "29477   1969.00\n",
       "29478   2922.00\n",
       "Name: engine_size, Length: 28630, dtype: float64"
      ]
     },
     "execution_count": 132,
     "metadata": {},
     "output_type": "execute_result"
    }
   ],
   "source": [
    "df['engine_size'] = df['engine_size'].astype(str).str.strip(\"['\\\\n, cc\\\\n']\").replace({\"a\", np.nan})\n",
    "df['engine_size'] = df['engine_size'].str.replace(',', '').str.extract('(\\d+)').astype(\"float\")\n",
    "df['engine_size']"
   ]
  },
  {
   "cell_type": "code",
   "execution_count": 133,
   "id": "4ab42e05",
   "metadata": {},
   "outputs": [
    {
     "data": {
      "text/plain": [
       "1598.00    2099\n",
       "999.00     2068\n",
       "1969.00    1929\n",
       "NaN        1403\n",
       "1461.00    1110\n",
       "           ... \n",
       "2753.00       1\n",
       "2495.00       1\n",
       "200.00        1\n",
       "3224.00       1\n",
       "2473.00       1\n",
       "Name: engine_size, Length: 468, dtype: int64"
      ]
     },
     "execution_count": 133,
     "metadata": {},
     "output_type": "execute_result"
    }
   ],
   "source": [
    "df.engine_size.value_counts(dropna=False)"
   ]
  },
  {
   "cell_type": "markdown",
   "id": "35e02b5a",
   "metadata": {},
   "source": [
    "# gears"
   ]
  },
  {
   "cell_type": "code",
   "execution_count": 134,
   "id": "59514f93",
   "metadata": {},
   "outputs": [
    {
     "name": "stdout",
     "output_type": "stream",
     "text": [
      "column name: gears\n",
      "---------------------------------\n",
      "per_of_nulls % 33.8\n",
      "num_of_nulls 9676\n",
      "num_of_uniques 12\n",
      "---------------------------------\n",
      "NaN         9676\n",
      "[\\n6\\n]     8412\n",
      "[\\n5\\n]     5335\n",
      "[\\n7\\n]     1738\n",
      "[\\n8\\n]     1690\n",
      "[\\n1\\n]      712\n",
      "[\\n9\\n]      642\n",
      "[\\n4\\n]      256\n",
      "[\\n10\\n]     112\n",
      "[\\n0\\n]       31\n",
      "[\\n3\\n]       24\n",
      "[\\n2\\n]        2\n",
      "Name: gears, dtype: int64\n"
     ]
    }
   ],
   "source": [
    "first_looking(\"gears\")"
   ]
  },
  {
   "cell_type": "code",
   "execution_count": 135,
   "id": "47548eb8",
   "metadata": {},
   "outputs": [
    {
     "data": {
      "text/html": [
       "<div>\n",
       "<style scoped>\n",
       "    .dataframe tbody tr th:only-of-type {\n",
       "        vertical-align: middle;\n",
       "    }\n",
       "\n",
       "    .dataframe tbody tr th {\n",
       "        vertical-align: top;\n",
       "    }\n",
       "\n",
       "    .dataframe thead th {\n",
       "        text-align: right;\n",
       "    }\n",
       "</style>\n",
       "<table border=\"1\" class=\"dataframe\">\n",
       "  <thead>\n",
       "    <tr style=\"text-align: right;\">\n",
       "      <th></th>\n",
       "      <th>0</th>\n",
       "    </tr>\n",
       "  </thead>\n",
       "  <tbody>\n",
       "    <tr>\n",
       "      <th>0</th>\n",
       "      <td>NaN</td>\n",
       "    </tr>\n",
       "    <tr>\n",
       "      <th>1</th>\n",
       "      <td>9.00</td>\n",
       "    </tr>\n",
       "    <tr>\n",
       "      <th>2</th>\n",
       "      <td>8.00</td>\n",
       "    </tr>\n",
       "    <tr>\n",
       "      <th>3</th>\n",
       "      <td>7.00</td>\n",
       "    </tr>\n",
       "    <tr>\n",
       "      <th>4</th>\n",
       "      <td>7.00</td>\n",
       "    </tr>\n",
       "    <tr>\n",
       "      <th>...</th>\n",
       "      <td>...</td>\n",
       "    </tr>\n",
       "    <tr>\n",
       "      <th>29474</th>\n",
       "      <td>8.00</td>\n",
       "    </tr>\n",
       "    <tr>\n",
       "      <th>29475</th>\n",
       "      <td>5.00</td>\n",
       "    </tr>\n",
       "    <tr>\n",
       "      <th>29476</th>\n",
       "      <td>6.00</td>\n",
       "    </tr>\n",
       "    <tr>\n",
       "      <th>29477</th>\n",
       "      <td>8.00</td>\n",
       "    </tr>\n",
       "    <tr>\n",
       "      <th>29478</th>\n",
       "      <td>NaN</td>\n",
       "    </tr>\n",
       "  </tbody>\n",
       "</table>\n",
       "<p>28630 rows × 1 columns</p>\n",
       "</div>"
      ],
      "text/plain": [
       "         0\n",
       "0      NaN\n",
       "1     9.00\n",
       "2     8.00\n",
       "3     7.00\n",
       "4     7.00\n",
       "...    ...\n",
       "29474 8.00\n",
       "29475 5.00\n",
       "29476 6.00\n",
       "29477 8.00\n",
       "29478  NaN\n",
       "\n",
       "[28630 rows x 1 columns]"
      ]
     },
     "execution_count": 135,
     "metadata": {},
     "output_type": "execute_result"
    }
   ],
   "source": [
    "df.gears.astype(\"str\").str.extract(\"(\\d+)\").astype(\"float\")"
   ]
  },
  {
   "cell_type": "code",
   "execution_count": 136,
   "id": "2355aef4",
   "metadata": {},
   "outputs": [],
   "source": [
    "df.gears = df.gears.astype(\"str\").str.extract(\"(\\d+)\").astype(\"float\")"
   ]
  },
  {
   "cell_type": "code",
   "execution_count": 137,
   "id": "a69f8f81",
   "metadata": {},
   "outputs": [
    {
     "data": {
      "text/plain": [
       "NaN      9676\n",
       "6.00     8412\n",
       "5.00     5335\n",
       "7.00     1738\n",
       "8.00     1690\n",
       "1.00      712\n",
       "9.00      642\n",
       "4.00      256\n",
       "10.00     112\n",
       "0.00       31\n",
       "3.00       24\n",
       "2.00        2\n",
       "Name: gears, dtype: int64"
      ]
     },
     "execution_count": 137,
     "metadata": {},
     "output_type": "execute_result"
    }
   ],
   "source": [
    "df.gears.value_counts(dropna=False)"
   ]
  },
  {
   "cell_type": "markdown",
   "id": "0d260cdb",
   "metadata": {},
   "source": [
    "# co_emissions"
   ]
  },
  {
   "cell_type": "code",
   "execution_count": 138,
   "id": "fc94471f",
   "metadata": {},
   "outputs": [
    {
     "name": "stdout",
     "output_type": "stream",
     "text": [
      "column name: co_emissions\n",
      "---------------------------------\n",
      "per_of_nulls % 35.05\n",
      "num_of_nulls 10036\n",
      "num_of_uniques 348\n",
      "---------------------------------\n",
      "NaN                  10036\n",
      "0 g/km (comb.)        1038\n",
      "119 g/km (comb.)       393\n",
      "124 g/km (comb.)       340\n",
      "129 g/km (comb.)       319\n",
      "                     ...  \n",
      "7 g/km (comb.)           1\n",
      "80 g/km (comb.)          1\n",
      "196  g/km (comb.)        1\n",
      "100  g/km (comb.)        1\n",
      "53 g/km (comb.)          1\n",
      "Name: co_emissions, Length: 348, dtype: int64\n"
     ]
    }
   ],
   "source": [
    "first_looking(\"co_emissions\")"
   ]
  },
  {
   "cell_type": "code",
   "execution_count": 139,
   "id": "24e1adaa",
   "metadata": {},
   "outputs": [
    {
     "data": {
      "text/plain": [
       "0          NaN\n",
       "1         0.00\n",
       "2          NaN\n",
       "3          NaN\n",
       "4          NaN\n",
       "         ...  \n",
       "29474      NaN\n",
       "29475   217.00\n",
       "29476    99.00\n",
       "29477   149.00\n",
       "29478   251.00\n",
       "Name: co_emissions, Length: 28630, dtype: float64"
      ]
     },
     "execution_count": 139,
     "metadata": {},
     "output_type": "execute_result"
    }
   ],
   "source": [
    "df[\"co_emissions\"] = df[\"co_emissions\"].astype(str).str.extract('(\\d+)').astype(\"float\")\n",
    "df[\"co_emissions\"]"
   ]
  },
  {
   "cell_type": "code",
   "execution_count": 140,
   "id": "1c3dcd87",
   "metadata": {},
   "outputs": [
    {
     "data": {
      "text/plain": [
       "NaN       10036\n",
       "0.00       1040\n",
       "119.00      393\n",
       "124.00      340\n",
       "129.00      319\n",
       "          ...  \n",
       "332.00        1\n",
       "70.00         1\n",
       "338.00        1\n",
       "342.00        1\n",
       "53.00         1\n",
       "Name: co_emissions, Length: 327, dtype: int64"
      ]
     },
     "execution_count": 140,
     "metadata": {},
     "output_type": "execute_result"
    }
   ],
   "source": [
    "df[\"co_emissions\"].value_counts(dropna=False)"
   ]
  },
  {
   "cell_type": "markdown",
   "id": "115be5b9",
   "metadata": {},
   "source": [
    "# drivetrain"
   ]
  },
  {
   "cell_type": "code",
   "execution_count": 141,
   "id": "9345a68f",
   "metadata": {},
   "outputs": [
    {
     "name": "stdout",
     "output_type": "stream",
     "text": [
      "column name: drivetrain\n",
      "---------------------------------\n",
      "per_of_nulls % 41.0\n",
      "num_of_nulls 11737\n",
      "num_of_uniques 4\n",
      "---------------------------------\n",
      "[\\n, Front, \\n]    12066\n",
      "NaN                11737\n",
      "[\\n, 4WD, \\n]       3252\n",
      "[\\n, Rear, \\n]      1575\n",
      "Name: drivetrain, dtype: int64\n"
     ]
    }
   ],
   "source": [
    "first_looking(\"drivetrain\")"
   ]
  },
  {
   "cell_type": "code",
   "execution_count": 142,
   "id": "67cd7799",
   "metadata": {},
   "outputs": [
    {
     "data": {
      "text/plain": [
       "0          NaN\n",
       "1          NaN\n",
       "2          4WD\n",
       "3          4WD\n",
       "4          4WD\n",
       "         ...  \n",
       "29474      4WD\n",
       "29475    Front\n",
       "29476    Front\n",
       "29477      NaN\n",
       "29478    Front\n",
       "Name: drivetrain, Length: 28630, dtype: object"
      ]
     },
     "execution_count": 142,
     "metadata": {},
     "output_type": "execute_result"
    }
   ],
   "source": [
    "df[\"drivetrain\"] = df[\"drivetrain\"].explode().str.strip(\"\\n, \")\n",
    "df[\"drivetrain\"]"
   ]
  },
  {
   "cell_type": "code",
   "execution_count": 143,
   "id": "bee24e8a",
   "metadata": {},
   "outputs": [
    {
     "data": {
      "text/plain": [
       "Front    12066\n",
       "NaN      11737\n",
       "4WD       3252\n",
       "Rear      1575\n",
       "Name: drivetrain, dtype: int64"
      ]
     },
     "execution_count": 143,
     "metadata": {},
     "output_type": "execute_result"
    }
   ],
   "source": [
    "df[\"drivetrain\"].value_counts(dropna=False)"
   ]
  },
  {
   "cell_type": "markdown",
   "id": "c2379c98",
   "metadata": {},
   "source": [
    "# cylinders"
   ]
  },
  {
   "cell_type": "code",
   "execution_count": 144,
   "id": "9116e1e9",
   "metadata": {},
   "outputs": [
    {
     "name": "stdout",
     "output_type": "stream",
     "text": [
      "column name: cylinders\n",
      "---------------------------------\n",
      "per_of_nulls % 34.15\n",
      "num_of_nulls 9778\n",
      "num_of_uniques 13\n",
      "---------------------------------\n",
      "[\\n4\\n]     13068\n",
      "NaN          9778\n",
      "[\\n3\\n]      3258\n",
      "[\\n6\\n]      1013\n",
      "[\\n5\\n]       799\n",
      "[\\n8\\n]       539\n",
      "[\\n2\\n]       103\n",
      "[\\n0\\n]        35\n",
      "[\\n1\\n]        21\n",
      "[\\n12\\n]        8\n",
      "[\\n7\\n]         6\n",
      "[\\n26\\n]        1\n",
      "[\\n16\\n]        1\n",
      "Name: cylinders, dtype: int64\n"
     ]
    }
   ],
   "source": [
    "first_looking(\"cylinders\")"
   ]
  },
  {
   "cell_type": "code",
   "execution_count": 145,
   "id": "f33cde1d",
   "metadata": {},
   "outputs": [
    {
     "data": {
      "text/plain": [
       "0        NaN\n",
       "1        NaN\n",
       "2       4.00\n",
       "3       4.00\n",
       "4       4.00\n",
       "        ... \n",
       "29474   4.00\n",
       "29475   5.00\n",
       "29476   4.00\n",
       "29477   4.00\n",
       "29478   6.00\n",
       "Name: cylinders, Length: 28630, dtype: float64"
      ]
     },
     "execution_count": 145,
     "metadata": {},
     "output_type": "execute_result"
    }
   ],
   "source": [
    "df[\"cylinders\"] = df[\"cylinders\"].astype(str).str.extract('(\\d+)').astype(\"float\")\n",
    "df[\"cylinders\"]"
   ]
  },
  {
   "cell_type": "code",
   "execution_count": 146,
   "id": "21c25653",
   "metadata": {},
   "outputs": [
    {
     "data": {
      "text/plain": [
       "4.00     13068\n",
       "NaN       9778\n",
       "3.00      3258\n",
       "6.00      1013\n",
       "5.00       799\n",
       "8.00       539\n",
       "2.00       103\n",
       "0.00        35\n",
       "1.00        21\n",
       "12.00        8\n",
       "7.00         6\n",
       "26.00        1\n",
       "16.00        1\n",
       "Name: cylinders, dtype: int64"
      ]
     },
     "execution_count": 146,
     "metadata": {},
     "output_type": "execute_result"
    }
   ],
   "source": [
    "df[\"cylinders\"].value_counts(dropna=False)"
   ]
  },
  {
   "cell_type": "markdown",
   "id": "a18c8627",
   "metadata": {},
   "source": [
    "# fuel_consumption"
   ]
  },
  {
   "cell_type": "code",
   "execution_count": 147,
   "id": "4561c789",
   "metadata": {},
   "outputs": [
    {
     "name": "stdout",
     "output_type": "stream",
     "text": [
      "column name: fuel_consumption\n",
      "---------------------------------\n",
      "per_of_nulls % 18.32\n",
      "num_of_nulls 5245\n",
      "num_of_uniques 3453\n",
      "---------------------------------\n",
      "NaN                                                                            5245\n",
      "[[0 l/100 km (comb.)]]                                                          330\n",
      "[[0 l/100 km (comb.)], [0 l/100 km (city)], [0 l/100 km (country)]]             306\n",
      "[[3.4 l/100 km (comb.)], [3.7 l/100 km (city)], [3.2 l/100 km (country)]]       170\n",
      "[[4 l/100 km (comb.)]]                                                          149\n",
      "                                                                               ... \n",
      "[[14.2 l/100 km (comb.)], [21.3 l/100 km (city)], [10 l/100 km (country)]]        1\n",
      "[[3.5 l/100 km (comb.)], [4.4 l/100 km (city)], [2.9 l/100 km (country)]]         1\n",
      "[[4.5 l/100 km (comb.)], [6.2 l/100 km (city)], [3.5 l/100 km (country)]]         1\n",
      "[[4.9 l/100 km (comb.)], [99.9 l/100 km (city)], [98 l/100 km (country)]]         1\n",
      "[[10.4 l/100 km (comb.)], [15.3 l/100 km (city)], [7.6 l/100 km (country)]]       1\n",
      "Name: fuel_consumption, Length: 3453, dtype: int64\n"
     ]
    }
   ],
   "source": [
    "first_looking(\"fuel_consumption\")"
   ]
  },
  {
   "cell_type": "code",
   "execution_count": 148,
   "id": "3d048524",
   "metadata": {},
   "outputs": [
    {
     "data": {
      "text/plain": [
       "[['8.4 l/100 km (comb.)'],\n",
       " ['10.9 l/100 km (city)'],\n",
       " ['5.8 l/100 km (country)']]"
      ]
     },
     "execution_count": 148,
     "metadata": {},
     "output_type": "execute_result"
    }
   ],
   "source": [
    "df[\"fuel_consumption\"].iloc[2]"
   ]
  },
  {
   "cell_type": "code",
   "execution_count": 149,
   "id": "992aeabe",
   "metadata": {},
   "outputs": [
    {
     "data": {
      "text/plain": [
       "['8.4 l/100 km (comb.)']"
      ]
     },
     "execution_count": 149,
     "metadata": {},
     "output_type": "execute_result"
    }
   ],
   "source": [
    "df[\"fuel_consumption\"][2][0]"
   ]
  },
  {
   "cell_type": "code",
   "execution_count": 150,
   "id": "923980a6",
   "metadata": {},
   "outputs": [],
   "source": [
    "def cons_avg(x):\n",
    "    \n",
    "    if type(x)==list:\n",
    "        if x[0] != []: return x[0][0]\n",
    "        else: return None\n",
    "  \n",
    "    else:\n",
    "        return None"
   ]
  },
  {
   "cell_type": "code",
   "execution_count": 151,
   "id": "866042ff",
   "metadata": {},
   "outputs": [
    {
     "data": {
      "text/plain": [
       "0         NaN\n",
       "1         NaN\n",
       "2        8.40\n",
       "3        7.30\n",
       "4        4.90\n",
       "         ... \n",
       "29474    2.00\n",
       "29475    9.10\n",
       "29476    3.80\n",
       "29477    6.50\n",
       "29478   10.40\n",
       "Name: cons_avg, Length: 28630, dtype: float64"
      ]
     },
     "execution_count": 151,
     "metadata": {},
     "output_type": "execute_result"
    }
   ],
   "source": [
    "df['cons_avg'] = df[\"fuel_consumption\"].apply(cons_avg).str.extract('(\\d{1,2}.\\d|\\d{1,3})').astype(\"float\")\n",
    "df['cons_avg']                                        # str.extract('(\\S+)')"
   ]
  },
  {
   "cell_type": "code",
   "execution_count": 152,
   "id": "5bf40534",
   "metadata": {},
   "outputs": [
    {
     "data": {
      "text/plain": [
       "['10.9 l/100 km (city)']"
      ]
     },
     "execution_count": 152,
     "metadata": {},
     "output_type": "execute_result"
    }
   ],
   "source": [
    "df[\"fuel_consumption\"][2][1]"
   ]
  },
  {
   "cell_type": "code",
   "execution_count": 153,
   "id": "8383453c",
   "metadata": {},
   "outputs": [],
   "source": [
    "def cons_city(x):\n",
    "    \n",
    "    if type(x)==list and len(x)==3:\n",
    "        if x[1] != []: return x[1][0]\n",
    "        else: return None\n",
    "        \n",
    "    else:\n",
    "        return None"
   ]
  },
  {
   "cell_type": "code",
   "execution_count": 154,
   "id": "fe26147d",
   "metadata": {},
   "outputs": [
    {
     "data": {
      "text/plain": [
       "0         NaN\n",
       "1         NaN\n",
       "2       10.90\n",
       "3        9.30\n",
       "4        5.70\n",
       "         ... \n",
       "29474     NaN\n",
       "29475   13.20\n",
       "29476    4.30\n",
       "29477    8.60\n",
       "29478   15.30\n",
       "Name: cons_city, Length: 28630, dtype: float64"
      ]
     },
     "execution_count": 154,
     "metadata": {},
     "output_type": "execute_result"
    }
   ],
   "source": [
    "df['cons_city'] =  df[\"fuel_consumption\"].apply(cons_city).str.extract('(\\d{1,2}.\\d|\\d{1,3})').astype(\"float\") \n",
    "df['cons_city']                                          # str.extract('(\\S+)')"
   ]
  },
  {
   "cell_type": "code",
   "execution_count": 155,
   "id": "b5dfa531",
   "metadata": {},
   "outputs": [
    {
     "data": {
      "text/plain": [
       "['5.8 l/100 km (country)']"
      ]
     },
     "execution_count": 155,
     "metadata": {},
     "output_type": "execute_result"
    }
   ],
   "source": [
    "df[\"fuel_consumption\"][2][2]"
   ]
  },
  {
   "cell_type": "code",
   "execution_count": 156,
   "id": "b57f6392",
   "metadata": {},
   "outputs": [],
   "source": [
    "def cons_country(x):\n",
    "    \n",
    "    if type(x)==list and len(x)==3:\n",
    "        if x[2] != []: return x[2][0]\n",
    "        else: return None\n",
    "        \n",
    "    else:\n",
    "        return None"
   ]
  },
  {
   "cell_type": "code",
   "execution_count": 157,
   "id": "94a6da2d",
   "metadata": {},
   "outputs": [
    {
     "data": {
      "text/plain": [
       "0        NaN\n",
       "1        NaN\n",
       "2       5.80\n",
       "3       6.10\n",
       "4       4.40\n",
       "        ... \n",
       "29474    NaN\n",
       "29475   6.70\n",
       "29476   3.50\n",
       "29477   5.30\n",
       "29478   7.60\n",
       "Name: cons_country, Length: 28630, dtype: float64"
      ]
     },
     "execution_count": 157,
     "metadata": {},
     "output_type": "execute_result"
    }
   ],
   "source": [
    "df['cons_country'] = df[\"fuel_consumption\"].apply(cons_country).str.extract('(\\d{1,2}.\\d|\\d{1,3})').astype(\"float\") \n",
    "df['cons_country']                                            # str.extract('(\\S+)')"
   ]
  },
  {
   "cell_type": "code",
   "execution_count": 158,
   "id": "0aeef3b6",
   "metadata": {},
   "outputs": [
    {
     "data": {
      "text/plain": [
       "(28630, 41)"
      ]
     },
     "execution_count": 158,
     "metadata": {},
     "output_type": "execute_result"
    }
   ],
   "source": [
    "df.shape"
   ]
  },
  {
   "cell_type": "code",
   "execution_count": 159,
   "id": "3d991ec8",
   "metadata": {},
   "outputs": [],
   "source": [
    "df.drop(\"fuel_consumption\", axis=1, inplace=True)"
   ]
  },
  {
   "cell_type": "code",
   "execution_count": 160,
   "id": "f6330012",
   "metadata": {},
   "outputs": [
    {
     "data": {
      "text/plain": [
       "(28630, 40)"
      ]
     },
     "execution_count": 160,
     "metadata": {},
     "output_type": "execute_result"
    }
   ],
   "source": [
    "df.shape"
   ]
  },
  {
   "cell_type": "markdown",
   "id": "06fff38e",
   "metadata": {},
   "source": [
    "# empty_weight"
   ]
  },
  {
   "cell_type": "code",
   "execution_count": 161,
   "id": "8cbc6a7f",
   "metadata": {},
   "outputs": [
    {
     "name": "stdout",
     "output_type": "stream",
     "text": [
      "column name: empty_weight\n",
      "---------------------------------\n",
      "per_of_nulls % 37.97\n",
      "num_of_nulls 10872\n",
      "num_of_uniques 1219\n",
      "---------------------------------\n",
      "NaN               10872\n",
      "[\\n1,395 kg\\n]      233\n",
      "[\\n1,055 kg\\n]      224\n",
      "[\\n1,423 kg\\n]      216\n",
      "[\\n1,165 kg\\n]      200\n",
      "                  ...  \n",
      "[\\n1,877 kg\\n]        1\n",
      "[\\n1,011 kg\\n]        1\n",
      "[\\n1,069 kg\\n]        1\n",
      "[\\n983 kg\\n]          1\n",
      "[\\n1,391 kg\\n]        1\n",
      "Name: empty_weight, Length: 1219, dtype: int64\n"
     ]
    }
   ],
   "source": [
    "first_looking(\"empty_weight\")"
   ]
  },
  {
   "cell_type": "code",
   "execution_count": 162,
   "id": "b31f968c",
   "metadata": {},
   "outputs": [
    {
     "data": {
      "text/html": [
       "<div>\n",
       "<style scoped>\n",
       "    .dataframe tbody tr th:only-of-type {\n",
       "        vertical-align: middle;\n",
       "    }\n",
       "\n",
       "    .dataframe tbody tr th {\n",
       "        vertical-align: top;\n",
       "    }\n",
       "\n",
       "    .dataframe thead th {\n",
       "        text-align: right;\n",
       "    }\n",
       "</style>\n",
       "<table border=\"1\" class=\"dataframe\">\n",
       "  <thead>\n",
       "    <tr style=\"text-align: right;\">\n",
       "      <th></th>\n",
       "      <th>0</th>\n",
       "    </tr>\n",
       "  </thead>\n",
       "  <tbody>\n",
       "    <tr>\n",
       "      <th>0</th>\n",
       "      <td>NaN</td>\n",
       "    </tr>\n",
       "    <tr>\n",
       "      <th>1</th>\n",
       "      <td>NaN</td>\n",
       "    </tr>\n",
       "    <tr>\n",
       "      <th>2</th>\n",
       "      <td>NaN</td>\n",
       "    </tr>\n",
       "    <tr>\n",
       "      <th>3</th>\n",
       "      <td>NaN</td>\n",
       "    </tr>\n",
       "    <tr>\n",
       "      <th>4</th>\n",
       "      <td>1545.00</td>\n",
       "    </tr>\n",
       "    <tr>\n",
       "      <th>...</th>\n",
       "      <td>...</td>\n",
       "    </tr>\n",
       "    <tr>\n",
       "      <th>29474</th>\n",
       "      <td>2077.00</td>\n",
       "    </tr>\n",
       "    <tr>\n",
       "      <th>29475</th>\n",
       "      <td>1357.00</td>\n",
       "    </tr>\n",
       "    <tr>\n",
       "      <th>29476</th>\n",
       "      <td>1356.00</td>\n",
       "    </tr>\n",
       "    <tr>\n",
       "      <th>29477</th>\n",
       "      <td>1617.00</td>\n",
       "    </tr>\n",
       "    <tr>\n",
       "      <th>29478</th>\n",
       "      <td>1573.00</td>\n",
       "    </tr>\n",
       "  </tbody>\n",
       "</table>\n",
       "<p>28630 rows × 1 columns</p>\n",
       "</div>"
      ],
      "text/plain": [
       "            0\n",
       "0         NaN\n",
       "1         NaN\n",
       "2         NaN\n",
       "3         NaN\n",
       "4     1545.00\n",
       "...       ...\n",
       "29474 2077.00\n",
       "29475 1357.00\n",
       "29476 1356.00\n",
       "29477 1617.00\n",
       "29478 1573.00\n",
       "\n",
       "[28630 rows x 1 columns]"
      ]
     },
     "execution_count": 162,
     "metadata": {},
     "output_type": "execute_result"
    }
   ],
   "source": [
    "df['empty_weight'].astype(str).str.replace(',', '').str.extract('(\\d+)').astype(\"float\")"
   ]
  },
  {
   "cell_type": "code",
   "execution_count": 163,
   "id": "b2b906e0",
   "metadata": {},
   "outputs": [
    {
     "data": {
      "text/plain": [
       "NaN        10872\n",
       "1395.00      233\n",
       "1055.00      224\n",
       "1423.00      216\n",
       "1165.00      200\n",
       "           ...  \n",
       "1877.00        1\n",
       "1011.00        1\n",
       "1069.00        1\n",
       "983.00         1\n",
       "1391.00        1\n",
       "Name: empty_weight, Length: 1219, dtype: int64"
      ]
     },
     "execution_count": 163,
     "metadata": {},
     "output_type": "execute_result"
    }
   ],
   "source": [
    "df['empty_weight'] = df['empty_weight'].astype(str).str.replace(',', '').str.extract('(\\d+)').astype(\"float\")\n",
    "df['empty_weight'].value_counts(dropna=False)"
   ]
  },
  {
   "cell_type": "markdown",
   "id": "7c7405b8",
   "metadata": {},
   "source": [
    "# model_code"
   ]
  },
  {
   "cell_type": "code",
   "execution_count": 164,
   "id": "b60dd0c8",
   "metadata": {},
   "outputs": [
    {
     "name": "stdout",
     "output_type": "stream",
     "text": [
      "column name: model_code\n",
      "---------------------------------\n",
      "per_of_nulls % 70.78\n",
      "num_of_nulls 20263\n",
      "num_of_uniques 2187\n",
      "---------------------------------\n",
      "NaN                   20263\n",
      "[\\n, 8212/AFJ, \\n]       75\n",
      "[\\n, 1727/AAM, \\n]       64\n",
      "[\\n, 1349/AGI, \\n]       61\n",
      "[\\n, 1889/ABU, \\n]       55\n",
      "                      ...  \n",
      "[\\n, 7593/ANL, \\n]        1\n",
      "[\\n, 1727/ABC, \\n]        1\n",
      "[\\n, 4136/AEC, \\n]        1\n",
      "[\\n, 4136/668, \\n]        1\n",
      "[\\n, 9101/449, \\n]        1\n",
      "Name: model_code, Length: 2187, dtype: int64\n"
     ]
    }
   ],
   "source": [
    "first_looking(\"model_code\")"
   ]
  },
  {
   "cell_type": "code",
   "execution_count": 165,
   "id": "2e1cd015",
   "metadata": {},
   "outputs": [],
   "source": [
    "df.drop(\"model_code\", axis=1, inplace=True)"
   ]
  },
  {
   "cell_type": "code",
   "execution_count": 166,
   "id": "2a90d59e",
   "metadata": {},
   "outputs": [
    {
     "data": {
      "text/plain": [
       "(28630, 39)"
      ]
     },
     "execution_count": 166,
     "metadata": {},
     "output_type": "execute_result"
    }
   ],
   "source": [
    "df.shape"
   ]
  },
  {
   "cell_type": "markdown",
   "id": "728f714f",
   "metadata": {},
   "source": [
    "# general_inspection"
   ]
  },
  {
   "cell_type": "code",
   "execution_count": 167,
   "id": "fca4b752",
   "metadata": {},
   "outputs": [
    {
     "name": "stdout",
     "output_type": "stream",
     "text": [
      "column name: general_inspection\n",
      "---------------------------------\n",
      "per_of_nulls % 57.2\n",
      "num_of_nulls 16376\n",
      "num_of_uniques 92\n",
      "---------------------------------\n",
      "NaN        16376\n",
      "New         5883\n",
      "05/2023      286\n",
      "08/2023      280\n",
      "03/2023      268\n",
      "           ...  \n",
      "09/2017        1\n",
      "08/2013        1\n",
      "08/2020        1\n",
      "08/2018        1\n",
      "03/2021        1\n",
      "Name: general_inspection, Length: 92, dtype: int64\n"
     ]
    }
   ],
   "source": [
    "first_looking(\"general_inspection\")"
   ]
  },
  {
   "cell_type": "code",
   "execution_count": 168,
   "id": "8fc58a62",
   "metadata": {},
   "outputs": [],
   "source": [
    "df.drop(\"general_inspection\", axis=1, inplace=True)"
   ]
  },
  {
   "cell_type": "code",
   "execution_count": 169,
   "id": "a5233a37",
   "metadata": {},
   "outputs": [
    {
     "data": {
      "text/plain": [
       "(28630, 38)"
      ]
     },
     "execution_count": 169,
     "metadata": {},
     "output_type": "execute_result"
    }
   ],
   "source": [
    "df.shape"
   ]
  },
  {
   "cell_type": "markdown",
   "id": "a2c8685c",
   "metadata": {},
   "source": [
    "# full_service_history"
   ]
  },
  {
   "cell_type": "code",
   "execution_count": 170,
   "id": "04305b45",
   "metadata": {},
   "outputs": [
    {
     "name": "stdout",
     "output_type": "stream",
     "text": [
      "column name: full_service_history\n",
      "---------------------------------\n",
      "per_of_nulls % 56.11\n",
      "num_of_nulls 16065\n",
      "num_of_uniques 2\n",
      "---------------------------------\n",
      "NaN    16065\n",
      "Yes    12565\n",
      "Name: full_service_history, dtype: int64\n"
     ]
    }
   ],
   "source": [
    "first_looking(\"full_service_history\")"
   ]
  },
  {
   "cell_type": "code",
   "execution_count": 171,
   "id": "d72f9512",
   "metadata": {},
   "outputs": [],
   "source": [
    "df[\"full_service_history\"].replace(np.nan, \"No\", inplace=True)"
   ]
  },
  {
   "cell_type": "code",
   "execution_count": 172,
   "id": "0553945d",
   "metadata": {},
   "outputs": [
    {
     "data": {
      "text/plain": [
       "No     16065\n",
       "Yes    12565\n",
       "Name: full_service_history, dtype: int64"
      ]
     },
     "execution_count": 172,
     "metadata": {},
     "output_type": "execute_result"
    }
   ],
   "source": [
    "df[\"full_service_history\"].value_counts(dropna=False)"
   ]
  },
  {
   "cell_type": "markdown",
   "id": "859a5740",
   "metadata": {},
   "source": [
    "# non_smoker_vehicle"
   ]
  },
  {
   "cell_type": "code",
   "execution_count": 173,
   "id": "f80f1778",
   "metadata": {},
   "outputs": [
    {
     "name": "stdout",
     "output_type": "stream",
     "text": [
      "column name: non_smoker_vehicle\n",
      "---------------------------------\n",
      "per_of_nulls % 59.5\n",
      "num_of_nulls 17036\n",
      "num_of_uniques 2\n",
      "---------------------------------\n",
      "NaN    17036\n",
      "Yes    11594\n",
      "Name: non_smoker_vehicle, dtype: int64\n"
     ]
    }
   ],
   "source": [
    "first_looking(\"non_smoker_vehicle\")"
   ]
  },
  {
   "cell_type": "code",
   "execution_count": 174,
   "id": "a3d604f9",
   "metadata": {},
   "outputs": [],
   "source": [
    "df[\"non_smoker_vehicle\"].replace(np.nan, \"No\", inplace=True)"
   ]
  },
  {
   "cell_type": "code",
   "execution_count": 175,
   "id": "f91dbc87",
   "metadata": {},
   "outputs": [
    {
     "data": {
      "text/plain": [
       "No     17036\n",
       "Yes    11594\n",
       "Name: non_smoker_vehicle, dtype: int64"
      ]
     },
     "execution_count": 175,
     "metadata": {},
     "output_type": "execute_result"
    }
   ],
   "source": [
    "df[\"non_smoker_vehicle\"].value_counts(dropna=False)"
   ]
  },
  {
   "cell_type": "code",
   "execution_count": 176,
   "id": "085bad05",
   "metadata": {},
   "outputs": [],
   "source": [
    "df.drop(\"non_smoker_vehicle\", axis=1, inplace=True)"
   ]
  },
  {
   "cell_type": "code",
   "execution_count": 177,
   "id": "ed4a6689",
   "metadata": {},
   "outputs": [
    {
     "data": {
      "text/plain": [
       "(28630, 37)"
      ]
     },
     "execution_count": 177,
     "metadata": {},
     "output_type": "execute_result"
    }
   ],
   "source": [
    "df.shape"
   ]
  },
  {
   "cell_type": "markdown",
   "id": "3435ec32",
   "metadata": {},
   "source": [
    "# emission_class"
   ]
  },
  {
   "cell_type": "code",
   "execution_count": 178,
   "id": "e55d7b3c",
   "metadata": {},
   "outputs": [
    {
     "name": "stdout",
     "output_type": "stream",
     "text": [
      "column name: emission_class\n",
      "---------------------------------\n",
      "per_of_nulls % 37.62\n",
      "num_of_nulls 10771\n",
      "num_of_uniques 10\n",
      "---------------------------------\n",
      "NaN             10771\n",
      "Euro 6           6418\n",
      "Euro 6d-TEMP     3399\n",
      "Euro 6d          2858\n",
      "Euro 5           2389\n",
      "Euro 4           1743\n",
      "Euro 3            523\n",
      "Euro 2            217\n",
      "Euro 1            172\n",
      "Euro 6c           140\n",
      "Name: emission_class, dtype: int64\n"
     ]
    }
   ],
   "source": [
    "first_looking(\"emission_class\")"
   ]
  },
  {
   "cell_type": "code",
   "execution_count": 179,
   "id": "85151848",
   "metadata": {},
   "outputs": [],
   "source": [
    "Euro_6 = [\"Euro 6\", \"Euro 6d-TEMP\", \"Euro 6d\", \"Euro 6c\"]\n",
    "\n",
    "def emissionclass(x):\n",
    "    if x in Euro_6:\n",
    "        return \"Euro 6\"\n",
    "    else:\n",
    "        return x\n",
    "\n",
    "df[\"emission_class\"] = df[\"emission_class\"].apply(emissionclass)"
   ]
  },
  {
   "cell_type": "code",
   "execution_count": 180,
   "id": "27850328",
   "metadata": {},
   "outputs": [
    {
     "data": {
      "text/plain": [
       "Euro 6    12815\n",
       "NaN       10771\n",
       "Euro 5     2389\n",
       "Euro 4     1743\n",
       "Euro 3      523\n",
       "Euro 2      217\n",
       "Euro 1      172\n",
       "Name: emission_class, dtype: int64"
      ]
     },
     "execution_count": 180,
     "metadata": {},
     "output_type": "execute_result"
    }
   ],
   "source": [
    "df[\"emission_class\"].value_counts(dropna=False)"
   ]
  },
  {
   "cell_type": "code",
   "execution_count": 181,
   "id": "31c7ed49",
   "metadata": {},
   "outputs": [],
   "source": [
    "df.drop(\"emission_class\", axis=1, inplace=True)"
   ]
  },
  {
   "cell_type": "code",
   "execution_count": 182,
   "id": "e1aeecaa",
   "metadata": {},
   "outputs": [
    {
     "data": {
      "text/plain": [
       "(28630, 36)"
      ]
     },
     "execution_count": 182,
     "metadata": {},
     "output_type": "execute_result"
    }
   ],
   "source": [
    "df.shape"
   ]
  },
  {
   "cell_type": "markdown",
   "id": "28a4ca0b",
   "metadata": {},
   "source": [
    "# emissions_sticker"
   ]
  },
  {
   "cell_type": "code",
   "execution_count": 183,
   "id": "3175da1b",
   "metadata": {},
   "outputs": [
    {
     "name": "stdout",
     "output_type": "stream",
     "text": [
      "column name: emissions_sticker\n",
      "---------------------------------\n",
      "per_of_nulls % 67.12\n",
      "num_of_nulls 19216\n",
      "num_of_uniques 5\n",
      "---------------------------------\n",
      "NaN               19216\n",
      "4 (Green)          9230\n",
      "1 (No sticker)      176\n",
      "3 (Yellow)            6\n",
      "2 (Red)               2\n",
      "Name: emissions_sticker, dtype: int64\n"
     ]
    }
   ],
   "source": [
    "first_looking(\"emissions_sticker\")"
   ]
  },
  {
   "cell_type": "code",
   "execution_count": 184,
   "id": "58141054",
   "metadata": {},
   "outputs": [],
   "source": [
    "df[\"emissions_sticker\"] = df[\"emissions_sticker\"].astype(str).str.extract(r\"([a-zA-Z]+)\")"
   ]
  },
  {
   "cell_type": "code",
   "execution_count": 185,
   "id": "0c60dd2e",
   "metadata": {},
   "outputs": [
    {
     "data": {
      "text/plain": [
       "nan       19216\n",
       "Green      9230\n",
       "No          176\n",
       "Yellow        6\n",
       "Red           2\n",
       "Name: emissions_sticker, dtype: int64"
      ]
     },
     "execution_count": 185,
     "metadata": {},
     "output_type": "execute_result"
    }
   ],
   "source": [
    "df[\"emissions_sticker\"].value_counts(dropna=False)"
   ]
  },
  {
   "cell_type": "code",
   "execution_count": 186,
   "id": "cc511be2",
   "metadata": {},
   "outputs": [],
   "source": [
    "df.drop(\"emissions_sticker\", axis=1, inplace=True)"
   ]
  },
  {
   "cell_type": "code",
   "execution_count": 187,
   "id": "9410cb5e",
   "metadata": {},
   "outputs": [
    {
     "data": {
      "text/plain": [
       "(28630, 35)"
      ]
     },
     "execution_count": 187,
     "metadata": {},
     "output_type": "execute_result"
    }
   ],
   "source": [
    "df.shape"
   ]
  },
  {
   "cell_type": "markdown",
   "id": "fbd69775",
   "metadata": {},
   "source": [
    "# upholstery_colour"
   ]
  },
  {
   "cell_type": "code",
   "execution_count": 188,
   "id": "6a6b3610",
   "metadata": {},
   "outputs": [
    {
     "name": "stdout",
     "output_type": "stream",
     "text": [
      "column name: upholstery_colour\n",
      "---------------------------------\n",
      "per_of_nulls % 49.11\n",
      "num_of_nulls 14061\n",
      "num_of_uniques 12\n",
      "---------------------------------\n",
      "NaN       14061\n",
      "Black     10416\n",
      "Grey       2038\n",
      "Other      1003\n",
      "Beige       466\n",
      "Brown       275\n",
      "Red         159\n",
      "White        93\n",
      "Blue         82\n",
      "Orange       23\n",
      "Green         8\n",
      "Yellow        6\n",
      "Name: upholstery_colour, dtype: int64\n"
     ]
    }
   ],
   "source": [
    "first_looking(\"upholstery_colour\")"
   ]
  },
  {
   "cell_type": "code",
   "execution_count": 189,
   "id": "4b6fd3e7",
   "metadata": {},
   "outputs": [],
   "source": [
    "Ordinary = [\"Black\", \"White\"]\n",
    "Primary = [\"Red\", \"Yellow\", \"Blue\"]\n",
    "Secondary = [\"Green\", \"Orange\"]\n",
    "Tertiary_Intermediate = [\"Brown\", \"Grey\", \"Beige\"]\n",
    "\n",
    "def coloridentifier(x):\n",
    "    if x in Ordinary:\n",
    "        return \"Ordinary\"\n",
    "    if x in Primary:\n",
    "        return \"Primary\"\n",
    "    if x in Secondary:\n",
    "        return \"Secondary\"\n",
    "    if x in Tertiary_Intermediate:\n",
    "        return \"Tertiary\"    \n",
    "    else:\n",
    "        return x\n",
    "\n",
    "df[\"upholstery_colour\"] = df[\"upholstery_colour\"].apply(coloridentifier)"
   ]
  },
  {
   "cell_type": "code",
   "execution_count": 190,
   "id": "410e4521",
   "metadata": {},
   "outputs": [
    {
     "data": {
      "text/plain": [
       "NaN          14061\n",
       "Ordinary     10509\n",
       "Tertiary      2779\n",
       "Other         1003\n",
       "Primary        247\n",
       "Secondary       31\n",
       "Name: upholstery_colour, dtype: int64"
      ]
     },
     "execution_count": 190,
     "metadata": {},
     "output_type": "execute_result"
    }
   ],
   "source": [
    "df[\"upholstery_colour\"].value_counts(dropna=False)"
   ]
  },
  {
   "cell_type": "code",
   "execution_count": 191,
   "id": "cb3bce51",
   "metadata": {},
   "outputs": [],
   "source": [
    "df.drop(\"upholstery_colour\", axis=1, inplace=True)"
   ]
  },
  {
   "cell_type": "code",
   "execution_count": 192,
   "id": "bc80b80c",
   "metadata": {},
   "outputs": [
    {
     "data": {
      "text/plain": [
       "(28630, 34)"
      ]
     },
     "execution_count": 192,
     "metadata": {},
     "output_type": "execute_result"
    }
   ],
   "source": [
    "df.shape"
   ]
  },
  {
   "cell_type": "markdown",
   "id": "c27def29",
   "metadata": {},
   "source": [
    "# previous_owner"
   ]
  },
  {
   "cell_type": "code",
   "execution_count": 193,
   "id": "f067477f",
   "metadata": {},
   "outputs": [
    {
     "name": "stdout",
     "output_type": "stream",
     "text": [
      "column name: previous_owner\n",
      "---------------------------------\n",
      "per_of_nulls % 51.05\n",
      "num_of_nulls 14615\n",
      "num_of_uniques 11734\n",
      "---------------------------------\n",
      "NaN                           14615\n",
      "[[50 km, 06/2022], 1]            64\n",
      "[[10 km, 08/2022], 1]            59\n",
      "[[10 km, 07/2022], 1]            45\n",
      "[[10 km, 09/2022], 1]            38\n",
      "                              ...  \n",
      "[[358,000 km, 10/2010], 2]        1\n",
      "[[165,400 km, 09/2010], 1]        1\n",
      "[[65,000 km, 10/2006], 1]         1\n",
      "[[71,000 km, 04/2013], 1]         1\n",
      "[[230,047 km, 07/2002], 5]        1\n",
      "Name: previous_owner, Length: 11734, dtype: int64\n"
     ]
    }
   ],
   "source": [
    "first_looking(\"previous_owner\")"
   ]
  },
  {
   "cell_type": "code",
   "execution_count": 194,
   "id": "9dc7706e",
   "metadata": {},
   "outputs": [
    {
     "data": {
      "text/plain": [
       "0        NaN\n",
       "1        NaN\n",
       "2        NaN\n",
       "3        NaN\n",
       "4        NaN\n",
       "        ... \n",
       "29474    NaN\n",
       "29475    NaN\n",
       "29476      1\n",
       "29477    NaN\n",
       "29478      5\n",
       "Name: previous_owner, Length: 28630, dtype: object"
      ]
     },
     "execution_count": 194,
     "metadata": {},
     "output_type": "execute_result"
    }
   ],
   "source": [
    "df[\"previous_owner\"] = df[\"previous_owner\"].str[1]\n",
    "df[\"previous_owner\"]"
   ]
  },
  {
   "cell_type": "code",
   "execution_count": 195,
   "id": "21594a25",
   "metadata": {},
   "outputs": [
    {
     "data": {
      "text/plain": [
       "NaN    14615\n",
       "1       9746\n",
       "2       3221\n",
       "3        699\n",
       "4        184\n",
       "5         69\n",
       "6         37\n",
       "7         22\n",
       "8         16\n",
       "9         14\n",
       "12         3\n",
       "10         2\n",
       "14         1\n",
       "13         1\n",
       "Name: previous_owner, dtype: int64"
      ]
     },
     "execution_count": 195,
     "metadata": {},
     "output_type": "execute_result"
    }
   ],
   "source": [
    "df[\"previous_owner\"].value_counts(dropna=False)"
   ]
  },
  {
   "cell_type": "markdown",
   "id": "c2fd9ec8",
   "metadata": {},
   "source": [
    "# energy_efficiency_class"
   ]
  },
  {
   "cell_type": "code",
   "execution_count": 196,
   "id": "a549a4ed",
   "metadata": {},
   "outputs": [
    {
     "name": "stdout",
     "output_type": "stream",
     "text": [
      "column name: energy_efficiency_class\n",
      "---------------------------------\n",
      "per_of_nulls % 72.74\n",
      "num_of_nulls 20826\n",
      "num_of_uniques 11\n",
      "---------------------------------\n",
      "NaN     20826\n",
      "B        2090\n",
      "A        1687\n",
      "C        1133\n",
      "A+       1089\n",
      "D         636\n",
      "A+++      375\n",
      "G         309\n",
      "E         271\n",
      "F         147\n",
      "A++        67\n",
      "Name: energy_efficiency_class, dtype: int64\n"
     ]
    }
   ],
   "source": [
    "first_looking(\"energy_efficiency_class\")"
   ]
  },
  {
   "cell_type": "code",
   "execution_count": 197,
   "id": "4e7556b6",
   "metadata": {},
   "outputs": [],
   "source": [
    "efficient = [\"A\", \"A+\", \"A++\", \"A+++\", \"B\"]\n",
    "unefficient = [\"C\", \"D\", \"E\", \"F\", \"G\"]\n",
    "\n",
    "def energyefficiency(x):\n",
    "    if x in efficient:\n",
    "        return \"efficient\"\n",
    "    elif x in unefficient:\n",
    "        return \"unefficient\"    \n",
    "    else:\n",
    "        return x\n",
    "\n",
    "df[\"energy_efficiency_class\"] = df[\"energy_efficiency_class\"].apply(energyefficiency)"
   ]
  },
  {
   "cell_type": "code",
   "execution_count": 198,
   "id": "e83824b2",
   "metadata": {},
   "outputs": [
    {
     "data": {
      "text/plain": [
       "NaN            20826\n",
       "efficient       5308\n",
       "unefficient     2496\n",
       "Name: energy_efficiency_class, dtype: int64"
      ]
     },
     "execution_count": 198,
     "metadata": {},
     "output_type": "execute_result"
    }
   ],
   "source": [
    "df[\"energy_efficiency_class\"].value_counts(dropna=False)"
   ]
  },
  {
   "cell_type": "markdown",
   "id": "8353dc96",
   "metadata": {},
   "source": [
    "# co_efficiency"
   ]
  },
  {
   "cell_type": "code",
   "execution_count": 199,
   "id": "b200103b",
   "metadata": {},
   "outputs": [
    {
     "name": "stdout",
     "output_type": "stream",
     "text": [
      "column name: co_efficiency\n",
      "---------------------------------\n",
      "per_of_nulls % 72.74\n",
      "num_of_nulls 20826\n",
      "num_of_uniques 2\n",
      "---------------------------------\n",
      "NaN                                                                                           20826\n",
      "Calculated on basis of measured CO₂-emissions taking into account the mass of the vehicle.     7804\n",
      "Name: co_efficiency, dtype: int64\n"
     ]
    }
   ],
   "source": [
    "first_looking(\"co_efficiency\")"
   ]
  },
  {
   "cell_type": "code",
   "execution_count": 200,
   "id": "c551db9e",
   "metadata": {},
   "outputs": [],
   "source": [
    "df.drop(\"co_efficiency\", axis=1, inplace=True)"
   ]
  },
  {
   "cell_type": "code",
   "execution_count": 201,
   "id": "fc12131e",
   "metadata": {},
   "outputs": [
    {
     "data": {
      "text/plain": [
       "(28630, 33)"
      ]
     },
     "execution_count": 201,
     "metadata": {},
     "output_type": "execute_result"
    }
   ],
   "source": [
    "df.shape"
   ]
  },
  {
   "cell_type": "markdown",
   "id": "17f1667d",
   "metadata": {},
   "source": [
    "# comfort_&_convenience"
   ]
  },
  {
   "cell_type": "code",
   "execution_count": 202,
   "id": "70dffd5d",
   "metadata": {},
   "outputs": [
    {
     "name": "stdout",
     "output_type": "stream",
     "text": [
      "column name: comfort_&_convenience\n",
      "---------------------------------\n",
      "per_of_nulls % 11.17\n",
      "num_of_nulls 3197\n",
      "num_of_uniques 14439\n",
      "---------------------------------\n",
      "NaN                                                                                                                                                                                                                                                                                                                                                                                                              3197\n",
      "[Air conditioning, Automatic climate control, Electrical side mirrors, Multi-function steering wheel, Power windows]                                                                                                                                                                                                                                                                                              244\n",
      "[Air conditioning, Automatic climate control, Cruise control]                                                                                                                                                                                                                                                                                                                                                     171\n",
      "[Air conditioning, Automatic climate control, Cruise control, Electrical side mirrors, Multi-function steering wheel, Power windows]                                                                                                                                                                                                                                                                              168\n",
      "[Air conditioning]                                                                                                                                                                                                                                                                                                                                                                                                157\n",
      "                                                                                                                                                                                                                                                                                                                                                                                                                 ... \n",
      "[Armrest, Automatic climate control, 2 zones, Cruise control, Fold flat passenger seat, Hill Holder, Leather steering wheel, Light sensor, Lumbar support, Multi-function steering wheel, Navigation system, Parking assist system sensors rear, Power windows, Rain sensor, Seat heating, Split rear seats, Start-stop system]                                                                                     1\n",
      "[Air conditioning, Armrest, Automatic climate control, Cruise control, Electric tailgate, Electrical side mirrors, Hill Holder, Keyless central door lock, Leather steering wheel, Light sensor, Multi-function steering wheel, Navigation system, Parking assist system sensors front, Parking assist system sensors rear, Power windows, Rain sensor, Seat heating]                                               1\n",
      "[Armrest, Automatic climate control, 2 zones, Cruise control, Electrical side mirrors, Fold flat passenger seat, Hill Holder, Leather steering wheel, Light sensor, Lumbar support, Multi-function steering wheel, Navigation system, Parking assist system sensors front, Parking assist system sensors rear, Power windows, Rain sensor, Seat heating, Split rear seats, Start-stop system, Tinted windows]       1\n",
      "[Armrest, Automatic climate control, 2 zones, Cruise control, Electrical side mirrors, Hill Holder, Keyless central door lock, Leather steering wheel, Light sensor, Multi-function steering wheel, Parking assist system camera, Parking assist system sensors front, Parking assist system sensors rear, Power windows, Rain sensor, Seat heating, Split rear seats, Start-stop system, Tinted windows]           1\n",
      "[Air conditioning, Armrest, Cruise control, Electrical side mirrors, Leather steering wheel, Lumbar support, Multi-function steering wheel, Navigation system, Power windows, Seat heating, Tinted windows]                                                                                                                                                                                                         1\n",
      "Name: comfort_&_convenience, Length: 14439, dtype: int64\n"
     ]
    }
   ],
   "source": [
    "first_looking(\"comfort_&_convenience\")"
   ]
  },
  {
   "cell_type": "code",
   "execution_count": 203,
   "id": "71a85db8",
   "metadata": {},
   "outputs": [
    {
     "data": {
      "text/plain": [
       "0                                                      NaN\n",
       "1                                                      NaN\n",
       "2                                                      NaN\n",
       "3        [Air conditioning, Automatic climate control, ...\n",
       "4        [Air conditioning, Electrical side mirrors, Mu...\n",
       "                               ...                        \n",
       "29474    [Air conditioning, Automatic climate control, ...\n",
       "29475    [Air conditioning, Armrest, Automatic climate ...\n",
       "29476    [Air conditioning, Armrest, Automatic climate ...\n",
       "29477    [Air conditioning, Armrest, Automatic climate ...\n",
       "29478    [Air conditioning, Armrest, Cruise control, El...\n",
       "Name: comfort_&_convenience, Length: 28630, dtype: object"
      ]
     },
     "execution_count": 203,
     "metadata": {},
     "output_type": "execute_result"
    }
   ],
   "source": [
    "df[\"comfort_&_convenience\"]"
   ]
  },
  {
   "cell_type": "code",
   "execution_count": 204,
   "id": "60a01b96",
   "metadata": {},
   "outputs": [],
   "source": [
    "df[\"comfort_&_convenience\"] = [\", \".join(item) if type(item) == list else item for item in df[\"comfort_&_convenience\"]]"
   ]
  },
  {
   "cell_type": "code",
   "execution_count": 205,
   "id": "bffb5608",
   "metadata": {},
   "outputs": [
    {
     "data": {
      "text/plain": [
       "NaN                                                                                                                                   3197\n",
       "Air conditioning, Automatic climate control, Electrical side mirrors, Multi-function steering wheel, Power windows                     244\n",
       "Air conditioning, Automatic climate control, Cruise control                                                                            171\n",
       "Air conditioning, Automatic climate control, Cruise control, Electrical side mirrors, Multi-function steering wheel, Power windows     168\n",
       "Air conditioning                                                                                                                       157\n",
       "Name: comfort_&_convenience, dtype: int64"
      ]
     },
     "execution_count": 205,
     "metadata": {},
     "output_type": "execute_result"
    }
   ],
   "source": [
    "df[\"comfort_&_convenience\"].value_counts(dropna=False).head()"
   ]
  },
  {
   "cell_type": "markdown",
   "id": "2724840e",
   "metadata": {},
   "source": [
    "# entertainment_&_media"
   ]
  },
  {
   "cell_type": "code",
   "execution_count": 206,
   "id": "1a74a4c0",
   "metadata": {},
   "outputs": [
    {
     "name": "stdout",
     "output_type": "stream",
     "text": [
      "column name: entertainment_&_media\n",
      "---------------------------------\n",
      "per_of_nulls % 17.42\n",
      "num_of_nulls 4986\n",
      "num_of_uniques 1945\n",
      "---------------------------------\n",
      "NaN                                                                                                                                                                          4986\n",
      "[Bluetooth, USB]                                                                                                                                                              753\n",
      "[Bluetooth]                                                                                                                                                                   665\n",
      "[On-board computer]                                                                                                                                                           662\n",
      "[CD player, On-board computer, Radio]                                                                                                                                         644\n",
      "                                                                                                                                                                             ... \n",
      "[Android Auto, Apple CarPlay, Bluetooth, Digital cockpit, Digital radio, Induction charging for smartphones, On-board computer, Radio, Sound system, WLAN / WiFi hotspot]       1\n",
      "[Bluetooth, CD player, Digital cockpit, Digital radio, Hands-free equipment, Integrated music streaming, On-board computer, Sound system, USB, WLAN / WiFi hotspot]             1\n",
      "[Digital cockpit, Digital radio, On-board computer, Radio]                                                                                                                      1\n",
      "[Android Auto, Apple CarPlay, Digital radio, On-board computer, Radio, Sound system, USB, WLAN / WiFi hotspot]                                                                  1\n",
      "[Hands-free equipment, Integrated music streaming, On-board computer, Radio, USB]                                                                                               1\n",
      "Name: entertainment_&_media, Length: 1945, dtype: int64\n"
     ]
    }
   ],
   "source": [
    "first_looking(\"entertainment_&_media\")"
   ]
  },
  {
   "cell_type": "code",
   "execution_count": 207,
   "id": "6553c999",
   "metadata": {},
   "outputs": [],
   "source": [
    "df[\"entertainment_&_media\"] = [\", \".join(item) if type(item) == list else item for item in df[\"entertainment_&_media\"]]"
   ]
  },
  {
   "cell_type": "code",
   "execution_count": 208,
   "id": "78000d7e",
   "metadata": {},
   "outputs": [
    {
     "data": {
      "text/plain": [
       "NaN                                                                                                                4986\n",
       "Bluetooth, USB                                                                                                      753\n",
       "Bluetooth                                                                                                           665\n",
       "On-board computer                                                                                                   662\n",
       "CD player, On-board computer, Radio                                                                                 644\n",
       "Radio                                                                                                               425\n",
       "Android Auto, Apple CarPlay, Bluetooth, Digital radio, Hands-free equipment, On-board computer, Radio, USB          414\n",
       "Bluetooth, CD player, Hands-free equipment, MP3, On-board computer, Radio, USB                                      408\n",
       "CD player, Radio                                                                                                    367\n",
       "Android Auto, Apple CarPlay, Bluetooth, Digital radio, Hands-free equipment, MP3, On-board computer, Radio, USB     356\n",
       "Name: entertainment_&_media, dtype: int64"
      ]
     },
     "execution_count": 208,
     "metadata": {},
     "output_type": "execute_result"
    }
   ],
   "source": [
    "df[\"entertainment_&_media\"].value_counts(dropna=False).head(10)"
   ]
  },
  {
   "cell_type": "markdown",
   "id": "0a2d20a6",
   "metadata": {},
   "source": [
    "# extras"
   ]
  },
  {
   "cell_type": "code",
   "execution_count": 209,
   "id": "f1231d93",
   "metadata": {},
   "outputs": [
    {
     "name": "stdout",
     "output_type": "stream",
     "text": [
      "column name: extras\n",
      "---------------------------------\n",
      "per_of_nulls % 17.99\n",
      "num_of_nulls 5150\n",
      "num_of_uniques 9361\n",
      "---------------------------------\n",
      "NaN                                                                                                                                                                                                                                                                   5150\n",
      "[Alloy wheels]                                                                                                                                                                                                                                                        3408\n",
      "[Alloy wheels, Roof rack]                                                                                                                                                                                                                                              380\n",
      "[Alloy wheels, Sport seats]                                                                                                                                                                                                                                            372\n",
      "[Alloy wheels, Touch screen]                                                                                                                                                                                                                                           231\n",
      "                                                                                                                                                                                                                                                                      ... \n",
      "[Alloy wheels (18\"), Spoiler, Summer tyres, Trailer hitch]                                                                                                                                                                                                               1\n",
      "[All season tyres, Alloy wheels, Automatically dimming interior mirror, Catalytic Converter, Headlight washer system, Ski bag, Sport seats, Trailer hitch, Winter tyres]                                                                                                 1\n",
      "[Alloy wheels, Automatically dimming interior mirror, Headlight washer system, Sport package, Sport seats, Summer tyres]                                                                                                                                                 1\n",
      "[Alloy wheels (19\"), Ambient lighting, Automatically dimming interior mirror, Catalytic Converter, E10-enabled, Emergency tyre repair kit, Headlight washer system, Spoiler, Sport package, Sport seats, Sport suspension, Summer tyres, Tuned car, Voice Control]       1\n",
      "[Alloy wheels, Automatically dimming interior mirror, Ski bag, Trailer hitch]                                                                                                                                                                                            1\n",
      "Name: extras, Length: 9361, dtype: int64\n"
     ]
    }
   ],
   "source": [
    "first_looking(\"extras\")"
   ]
  },
  {
   "cell_type": "code",
   "execution_count": 210,
   "id": "496340a1",
   "metadata": {},
   "outputs": [
    {
     "data": {
      "text/html": [
       "<div>\n",
       "<style scoped>\n",
       "    .dataframe tbody tr th:only-of-type {\n",
       "        vertical-align: middle;\n",
       "    }\n",
       "\n",
       "    .dataframe tbody tr th {\n",
       "        vertical-align: top;\n",
       "    }\n",
       "\n",
       "    .dataframe thead th {\n",
       "        text-align: right;\n",
       "    }\n",
       "</style>\n",
       "<table border=\"1\" class=\"dataframe\">\n",
       "  <thead>\n",
       "    <tr style=\"text-align: right;\">\n",
       "      <th></th>\n",
       "      <th>extras</th>\n",
       "    </tr>\n",
       "  </thead>\n",
       "  <tbody>\n",
       "    <tr>\n",
       "      <th>0</th>\n",
       "      <td>NaN</td>\n",
       "    </tr>\n",
       "    <tr>\n",
       "      <th>1</th>\n",
       "      <td>NaN</td>\n",
       "    </tr>\n",
       "    <tr>\n",
       "      <th>2</th>\n",
       "      <td>NaN</td>\n",
       "    </tr>\n",
       "    <tr>\n",
       "      <th>3</th>\n",
       "      <td>[Sport seats]</td>\n",
       "    </tr>\n",
       "    <tr>\n",
       "      <th>4</th>\n",
       "      <td>NaN</td>\n",
       "    </tr>\n",
       "    <tr>\n",
       "      <th>...</th>\n",
       "      <td>...</td>\n",
       "    </tr>\n",
       "    <tr>\n",
       "      <th>29474</th>\n",
       "      <td>[Alloy wheels]</td>\n",
       "    </tr>\n",
       "    <tr>\n",
       "      <th>29475</th>\n",
       "      <td>[Alloy wheels (16\"), Trailer hitch]</td>\n",
       "    </tr>\n",
       "    <tr>\n",
       "      <th>29476</th>\n",
       "      <td>[Alloy wheels, Automatically dimming interior ...</td>\n",
       "    </tr>\n",
       "    <tr>\n",
       "      <th>29477</th>\n",
       "      <td>[Alloy wheels (18\"), Automatically dimming int...</td>\n",
       "    </tr>\n",
       "    <tr>\n",
       "      <th>29478</th>\n",
       "      <td>[Alloy wheels, Automatically dimming interior ...</td>\n",
       "    </tr>\n",
       "  </tbody>\n",
       "</table>\n",
       "<p>28630 rows × 1 columns</p>\n",
       "</div>"
      ],
      "text/plain": [
       "                                                  extras\n",
       "0                                                    NaN\n",
       "1                                                    NaN\n",
       "2                                                    NaN\n",
       "3                                          [Sport seats]\n",
       "4                                                    NaN\n",
       "...                                                  ...\n",
       "29474                                     [Alloy wheels]\n",
       "29475                [Alloy wheels (16\"), Trailer hitch]\n",
       "29476  [Alloy wheels, Automatically dimming interior ...\n",
       "29477  [Alloy wheels (18\"), Automatically dimming int...\n",
       "29478  [Alloy wheels, Automatically dimming interior ...\n",
       "\n",
       "[28630 rows x 1 columns]"
      ]
     },
     "execution_count": 210,
     "metadata": {},
     "output_type": "execute_result"
    }
   ],
   "source": [
    "df[[\"extras\"]]"
   ]
  },
  {
   "cell_type": "code",
   "execution_count": 211,
   "id": "41808bf8",
   "metadata": {},
   "outputs": [],
   "source": [
    "df[\"extras\"] = [\", \".join(item) if type(item) == list else item for item in df[\"extras\"]]"
   ]
  },
  {
   "cell_type": "code",
   "execution_count": 212,
   "id": "db6d32e7",
   "metadata": {},
   "outputs": [
    {
     "data": {
      "text/plain": [
       "NaN                                                               5150\n",
       "Alloy wheels                                                      3408\n",
       "Alloy wheels, Roof rack                                            380\n",
       "Alloy wheels, Sport seats                                          372\n",
       "Alloy wheels, Touch screen                                         231\n",
       "Alloy wheels, Catalytic Converter, Touch screen                    178\n",
       "Roof rack                                                          160\n",
       "Alloy wheels, Sport seats, Sport suspension                        157\n",
       "Alloy wheels, Catalytic Converter, Touch screen, Voice Control     153\n",
       "Alloy wheels, Touch screen, Voice Control                          142\n",
       "Name: extras, dtype: int64"
      ]
     },
     "execution_count": 212,
     "metadata": {},
     "output_type": "execute_result"
    }
   ],
   "source": [
    "df[\"extras\"].value_counts(dropna=False).head(10)"
   ]
  },
  {
   "cell_type": "markdown",
   "id": "223e30c5",
   "metadata": {},
   "source": [
    "# safety_&_security"
   ]
  },
  {
   "cell_type": "code",
   "execution_count": 213,
   "id": "9e9803c5",
   "metadata": {},
   "outputs": [
    {
     "name": "stdout",
     "output_type": "stream",
     "text": [
      "column name: safety_&_security\n",
      "---------------------------------\n",
      "per_of_nulls % 11.23\n",
      "num_of_nulls 3215\n",
      "num_of_uniques 12550\n",
      "---------------------------------\n",
      "NaN                                                                                                                                                                                                                                                                                                                                                                                                                                                                                                                            3215\n",
      "[Isofix]                                                                                                                                                                                                                                                                                                                                                                                                                                                                                                                        380\n",
      "[ABS, Central door lock, Driver-side airbag, Electronic stability control, Immobilizer, Isofix, Passenger-side airbag, Power steering, Side airbag]                                                                                                                                                                                                                                                                                                                                                                             328\n",
      "[ABS, Central door lock, Driver-side airbag, Immobilizer, Isofix, Passenger-side airbag, Power steering, Side airbag, Traction control]                                                                                                                                                                                                                                                                                                                                                                                         125\n",
      "[ABS, Central door lock, Driver-side airbag, Electronic stability control, Fog lights, Isofix, Power steering, Side airbag]                                                                                                                                                                                                                                                                                                                                                                                                     121\n",
      "                                                                                                                                                                                                                                                                                                                                                                                                                                                                                                                               ... \n",
      "[Daytime running lights, Emergency brake assistant, Fog lights, Isofix, LED Daytime Running Lights, Lane departure warning system, Power steering, Tire pressure monitoring system]                                                                                                                                                                                                                                                                                                                                               1\n",
      "[ABS, Adaptive Cruise Control, Central door lock, Daytime running lights, Driver drowsiness detection, Driver-side airbag, Electronic stability control, Emergency brake assistant, Emergency system, Fog lights, Full-LED headlights, Glare-free high beam headlights, Immobilizer, Isofix, LED Headlights, Lane departure warning system, Passenger-side airbag, Power steering, Side airbag, Tire pressure monitoring system, Traction control]                                                                                1\n",
      "[ABS, Driver-side airbag, Electronic stability control, Emergency brake assistant, Immobilizer, LED Daytime Running Lights, Passenger-side airbag, Side airbag, Tire pressure monitoring system, Traction control]                                                                                                                                                                                                                                                                                                                1\n",
      "[ABS, Blind spot monitor, Central door lock, Daytime running lights, Distance warning system, Driver drowsiness detection, Driver-side airbag, Electronic stability control, Emergency system, Fog lights, Full-LED headlights, Head airbag, High beam assist, Immobilizer, Isofix, LED Daytime Running Lights, LED Headlights, Lane departure warning system, Passenger-side airbag, Power steering, Side airbag, Speed limit control system, Tire pressure monitoring system, Traction control, Traffic sign recognition]       1\n",
      "[ABS, Alarm system, Central door lock, Central door lock with remote control, Driver-side airbag, Electronic stability control, Fog lights, Head airbag, Immobilizer, Power steering, Side airbag, Traction control]                                                                                                                                                                                                                                                                                                              1\n",
      "Name: safety_&_security, Length: 12550, dtype: int64\n"
     ]
    }
   ],
   "source": [
    "first_looking(\"safety_&_security\")"
   ]
  },
  {
   "cell_type": "code",
   "execution_count": 214,
   "id": "07a61876",
   "metadata": {},
   "outputs": [],
   "source": [
    "df[\"safety_&_security\"] = [\", \".join(item) if type(item) == list else item for item in df[\"safety_&_security\"]]"
   ]
  },
  {
   "cell_type": "code",
   "execution_count": 215,
   "id": "0dc64b30",
   "metadata": {},
   "outputs": [
    {
     "data": {
      "text/plain": [
       "NaN                                                                                                                                                  3215\n",
       "Isofix                                                                                                                                                380\n",
       "ABS, Central door lock, Driver-side airbag, Electronic stability control, Immobilizer, Isofix, Passenger-side airbag, Power steering, Side airbag     328\n",
       "ABS, Central door lock, Driver-side airbag, Immobilizer, Isofix, Passenger-side airbag, Power steering, Side airbag, Traction control                 125\n",
       "ABS, Central door lock, Driver-side airbag, Electronic stability control, Fog lights, Isofix, Power steering, Side airbag                             121\n",
       "Name: safety_&_security, dtype: int64"
      ]
     },
     "execution_count": 215,
     "metadata": {},
     "output_type": "execute_result"
    }
   ],
   "source": [
    "df[\"safety_&_security\"].value_counts(dropna=False).head()"
   ]
  },
  {
   "cell_type": "markdown",
   "id": "d18fc94d",
   "metadata": {},
   "source": [
    "# Now we can save our cleaned file as in csv format."
   ]
  },
  {
   "cell_type": "code",
   "execution_count": 216,
   "id": "10ae9080",
   "metadata": {},
   "outputs": [
    {
     "data": {
      "text/plain": [
       "(28630, 33)"
      ]
     },
     "metadata": {},
     "output_type": "display_data"
    },
    {
     "name": "stdout",
     "output_type": "stream",
     "text": [
      "0 29478\n"
     ]
    },
    {
     "data": {
      "text/plain": [
       "(28630, 33)"
      ]
     },
     "metadata": {},
     "output_type": "display_data"
    },
    {
     "name": "stdout",
     "output_type": "stream",
     "text": [
      "0 28629\n"
     ]
    }
   ],
   "source": [
    "display(df.shape)\n",
    "print(df.index[0], df.index[-1])\n",
    "\n",
    "df = df.reset_index(drop=True)\n",
    "\n",
    "display(df.shape)\n",
    "print(df.index[0], df.index[-1])"
   ]
  },
  {
   "cell_type": "markdown",
   "id": "9355aadc",
   "metadata": {},
   "source": [
    "# We started with 58 columns at the beginning of the analysis, now we have 33 columns."
   ]
  },
  {
   "cell_type": "code",
   "execution_count": 217,
   "id": "712fa243",
   "metadata": {},
   "outputs": [
    {
     "data": {
      "text/html": [
       "<div>\n",
       "<style scoped>\n",
       "    .dataframe tbody tr th:only-of-type {\n",
       "        vertical-align: middle;\n",
       "    }\n",
       "\n",
       "    .dataframe tbody tr th {\n",
       "        vertical-align: top;\n",
       "    }\n",
       "\n",
       "    .dataframe thead th {\n",
       "        text-align: right;\n",
       "    }\n",
       "</style>\n",
       "<table border=\"1\" class=\"dataframe\">\n",
       "  <thead>\n",
       "    <tr style=\"text-align: right;\">\n",
       "      <th></th>\n",
       "      <th>0</th>\n",
       "      <th>1</th>\n",
       "      <th>2</th>\n",
       "      <th>3</th>\n",
       "      <th>4</th>\n",
       "    </tr>\n",
       "  </thead>\n",
       "  <tbody>\n",
       "    <tr>\n",
       "      <th>make_model</th>\n",
       "      <td>Mercedes-Benz A 160</td>\n",
       "      <td>Mercedes-Benz EQE 350</td>\n",
       "      <td>Mercedes-Benz A 45 AMG</td>\n",
       "      <td>Mercedes-Benz A 35 AMG</td>\n",
       "      <td>Mercedes-Benz A 45 AMG</td>\n",
       "    </tr>\n",
       "    <tr>\n",
       "      <th>make</th>\n",
       "      <td>Mercedes-Benz</td>\n",
       "      <td>Mercedes-Benz</td>\n",
       "      <td>Mercedes-Benz</td>\n",
       "      <td>Mercedes-Benz</td>\n",
       "      <td>Mercedes-Benz</td>\n",
       "    </tr>\n",
       "    <tr>\n",
       "      <th>location</th>\n",
       "      <td>P.I. EL PALMAR C/FORJA 6,  11500 PUERTO DE SAN...</td>\n",
       "      <td>APARTADO DE CORREOS 1032,  26140 LOGROÑO, ES</td>\n",
       "      <td>PORT. TARRACO, MOLL DE LLEVANT, Nº 5, LOC. 6-8...</td>\n",
       "      <td>Carrer de Provença, 31 Local,  8029 BARCELONA, ES</td>\n",
       "      <td>CARRIL ARAGONES 4,  30007 CASILLAS, ES</td>\n",
       "    </tr>\n",
       "    <tr>\n",
       "      <th>price</th>\n",
       "      <td>16950.00</td>\n",
       "      <td>80900.00</td>\n",
       "      <td>69900.00</td>\n",
       "      <td>46990.00</td>\n",
       "      <td>16800.00</td>\n",
       "    </tr>\n",
       "    <tr>\n",
       "      <th>body_type</th>\n",
       "      <td>Compact</td>\n",
       "      <td>Compact</td>\n",
       "      <td>Compact</td>\n",
       "      <td>Compact</td>\n",
       "      <td>Compact</td>\n",
       "    </tr>\n",
       "    <tr>\n",
       "      <th>type</th>\n",
       "      <td>Used</td>\n",
       "      <td>Pre-registered</td>\n",
       "      <td>Used</td>\n",
       "      <td>Used</td>\n",
       "      <td>Used</td>\n",
       "    </tr>\n",
       "    <tr>\n",
       "      <th>doors</th>\n",
       "      <td>5</td>\n",
       "      <td>4</td>\n",
       "      <td>5</td>\n",
       "      <td>5</td>\n",
       "      <td>5</td>\n",
       "    </tr>\n",
       "    <tr>\n",
       "      <th>warranty</th>\n",
       "      <td>24.00</td>\n",
       "      <td>24.00</td>\n",
       "      <td>12.00</td>\n",
       "      <td>12.00</td>\n",
       "      <td>12.00</td>\n",
       "    </tr>\n",
       "    <tr>\n",
       "      <th>mileage</th>\n",
       "      <td>120200.00</td>\n",
       "      <td>5000.00</td>\n",
       "      <td>18900.00</td>\n",
       "      <td>18995.00</td>\n",
       "      <td>197000.00</td>\n",
       "    </tr>\n",
       "    <tr>\n",
       "      <th>gearbox</th>\n",
       "      <td>Manual</td>\n",
       "      <td>Automatic</td>\n",
       "      <td>Automatic</td>\n",
       "      <td>Automatic</td>\n",
       "      <td>Automatic</td>\n",
       "    </tr>\n",
       "    <tr>\n",
       "      <th>fuel_type</th>\n",
       "      <td>Diesel</td>\n",
       "      <td>Electric</td>\n",
       "      <td>Benzine</td>\n",
       "      <td>Benzine</td>\n",
       "      <td>Diesel</td>\n",
       "    </tr>\n",
       "    <tr>\n",
       "      <th>seller</th>\n",
       "      <td>Dealer</td>\n",
       "      <td>Dealer</td>\n",
       "      <td>Dealer</td>\n",
       "      <td>Dealer</td>\n",
       "      <td>Dealer</td>\n",
       "    </tr>\n",
       "    <tr>\n",
       "      <th>seats</th>\n",
       "      <td>NaN</td>\n",
       "      <td>5.00</td>\n",
       "      <td>5.00</td>\n",
       "      <td>5.00</td>\n",
       "      <td>5.00</td>\n",
       "    </tr>\n",
       "    <tr>\n",
       "      <th>engine_size</th>\n",
       "      <td>NaN</td>\n",
       "      <td>1.00</td>\n",
       "      <td>1991.00</td>\n",
       "      <td>1991.00</td>\n",
       "      <td>2143.00</td>\n",
       "    </tr>\n",
       "    <tr>\n",
       "      <th>gears</th>\n",
       "      <td>NaN</td>\n",
       "      <td>9.00</td>\n",
       "      <td>8.00</td>\n",
       "      <td>7.00</td>\n",
       "      <td>7.00</td>\n",
       "    </tr>\n",
       "    <tr>\n",
       "      <th>co_emissions</th>\n",
       "      <td>NaN</td>\n",
       "      <td>0.00</td>\n",
       "      <td>NaN</td>\n",
       "      <td>NaN</td>\n",
       "      <td>NaN</td>\n",
       "    </tr>\n",
       "    <tr>\n",
       "      <th>drivetrain</th>\n",
       "      <td>NaN</td>\n",
       "      <td>NaN</td>\n",
       "      <td>4WD</td>\n",
       "      <td>4WD</td>\n",
       "      <td>4WD</td>\n",
       "    </tr>\n",
       "    <tr>\n",
       "      <th>cylinders</th>\n",
       "      <td>NaN</td>\n",
       "      <td>NaN</td>\n",
       "      <td>4.00</td>\n",
       "      <td>4.00</td>\n",
       "      <td>4.00</td>\n",
       "    </tr>\n",
       "    <tr>\n",
       "      <th>comfort_&amp;_convenience</th>\n",
       "      <td>NaN</td>\n",
       "      <td>NaN</td>\n",
       "      <td>NaN</td>\n",
       "      <td>Air conditioning, Automatic climate control, P...</td>\n",
       "      <td>Air conditioning, Electrical side mirrors, Mul...</td>\n",
       "    </tr>\n",
       "    <tr>\n",
       "      <th>entertainment_&amp;_media</th>\n",
       "      <td>NaN</td>\n",
       "      <td>NaN</td>\n",
       "      <td>NaN</td>\n",
       "      <td>USB</td>\n",
       "      <td>Bluetooth, CD player, MP3, USB</td>\n",
       "    </tr>\n",
       "    <tr>\n",
       "      <th>safety_&amp;_security</th>\n",
       "      <td>NaN</td>\n",
       "      <td>NaN</td>\n",
       "      <td>NaN</td>\n",
       "      <td>ABS, Central door lock, Driver-side airbag, El...</td>\n",
       "      <td>ABS, Central door lock, Driver-side airbag, El...</td>\n",
       "    </tr>\n",
       "    <tr>\n",
       "      <th>extras</th>\n",
       "      <td>NaN</td>\n",
       "      <td>NaN</td>\n",
       "      <td>NaN</td>\n",
       "      <td>Sport seats</td>\n",
       "      <td>NaN</td>\n",
       "    </tr>\n",
       "    <tr>\n",
       "      <th>empty_weight</th>\n",
       "      <td>NaN</td>\n",
       "      <td>NaN</td>\n",
       "      <td>NaN</td>\n",
       "      <td>NaN</td>\n",
       "      <td>1545.00</td>\n",
       "    </tr>\n",
       "    <tr>\n",
       "      <th>full_service_history</th>\n",
       "      <td>No</td>\n",
       "      <td>No</td>\n",
       "      <td>No</td>\n",
       "      <td>No</td>\n",
       "      <td>No</td>\n",
       "    </tr>\n",
       "    <tr>\n",
       "      <th>upholstery</th>\n",
       "      <td>NaN</td>\n",
       "      <td>NaN</td>\n",
       "      <td>NaN</td>\n",
       "      <td>NaN</td>\n",
       "      <td>NaN</td>\n",
       "    </tr>\n",
       "    <tr>\n",
       "      <th>previous_owner</th>\n",
       "      <td>NaN</td>\n",
       "      <td>NaN</td>\n",
       "      <td>NaN</td>\n",
       "      <td>NaN</td>\n",
       "      <td>NaN</td>\n",
       "    </tr>\n",
       "    <tr>\n",
       "      <th>energy_efficiency_class</th>\n",
       "      <td>NaN</td>\n",
       "      <td>NaN</td>\n",
       "      <td>NaN</td>\n",
       "      <td>NaN</td>\n",
       "      <td>NaN</td>\n",
       "    </tr>\n",
       "    <tr>\n",
       "      <th>age</th>\n",
       "      <td>6.00</td>\n",
       "      <td>0.00</td>\n",
       "      <td>2.00</td>\n",
       "      <td>2.00</td>\n",
       "      <td>7.00</td>\n",
       "    </tr>\n",
       "    <tr>\n",
       "      <th>power_kW</th>\n",
       "      <td>NaN</td>\n",
       "      <td>215.00</td>\n",
       "      <td>310.00</td>\n",
       "      <td>225.00</td>\n",
       "      <td>100.00</td>\n",
       "    </tr>\n",
       "    <tr>\n",
       "      <th>power_hp</th>\n",
       "      <td>NaN</td>\n",
       "      <td>292.00</td>\n",
       "      <td>421.00</td>\n",
       "      <td>306.00</td>\n",
       "      <td>136.00</td>\n",
       "    </tr>\n",
       "    <tr>\n",
       "      <th>cons_avg</th>\n",
       "      <td>NaN</td>\n",
       "      <td>NaN</td>\n",
       "      <td>8.40</td>\n",
       "      <td>7.30</td>\n",
       "      <td>4.90</td>\n",
       "    </tr>\n",
       "    <tr>\n",
       "      <th>cons_city</th>\n",
       "      <td>NaN</td>\n",
       "      <td>NaN</td>\n",
       "      <td>10.90</td>\n",
       "      <td>9.30</td>\n",
       "      <td>5.70</td>\n",
       "    </tr>\n",
       "    <tr>\n",
       "      <th>cons_country</th>\n",
       "      <td>NaN</td>\n",
       "      <td>NaN</td>\n",
       "      <td>5.80</td>\n",
       "      <td>6.10</td>\n",
       "      <td>4.40</td>\n",
       "    </tr>\n",
       "  </tbody>\n",
       "</table>\n",
       "</div>"
      ],
      "text/plain": [
       "                                                                         0  \\\n",
       "make_model                                             Mercedes-Benz A 160   \n",
       "make                                                         Mercedes-Benz   \n",
       "location                 P.I. EL PALMAR C/FORJA 6,  11500 PUERTO DE SAN...   \n",
       "price                                                             16950.00   \n",
       "body_type                                                          Compact   \n",
       "type                                                                  Used   \n",
       "doors                                                                    5   \n",
       "warranty                                                             24.00   \n",
       "mileage                                                          120200.00   \n",
       "gearbox                                                             Manual   \n",
       "fuel_type                                                           Diesel   \n",
       "seller                                                              Dealer   \n",
       "seats                                                                  NaN   \n",
       "engine_size                                                            NaN   \n",
       "gears                                                                  NaN   \n",
       "co_emissions                                                           NaN   \n",
       "drivetrain                                                             NaN   \n",
       "cylinders                                                              NaN   \n",
       "comfort_&_convenience                                                  NaN   \n",
       "entertainment_&_media                                                  NaN   \n",
       "safety_&_security                                                      NaN   \n",
       "extras                                                                 NaN   \n",
       "empty_weight                                                           NaN   \n",
       "full_service_history                                                    No   \n",
       "upholstery                                                             NaN   \n",
       "previous_owner                                                         NaN   \n",
       "energy_efficiency_class                                                NaN   \n",
       "age                                                                   6.00   \n",
       "power_kW                                                               NaN   \n",
       "power_hp                                                               NaN   \n",
       "cons_avg                                                               NaN   \n",
       "cons_city                                                              NaN   \n",
       "cons_country                                                           NaN   \n",
       "\n",
       "                                                                    1  \\\n",
       "make_model                                      Mercedes-Benz EQE 350   \n",
       "make                                                    Mercedes-Benz   \n",
       "location                 APARTADO DE CORREOS 1032,  26140 LOGROÑO, ES   \n",
       "price                                                        80900.00   \n",
       "body_type                                                     Compact   \n",
       "type                                                   Pre-registered   \n",
       "doors                                                               4   \n",
       "warranty                                                        24.00   \n",
       "mileage                                                       5000.00   \n",
       "gearbox                                                     Automatic   \n",
       "fuel_type                                                    Electric   \n",
       "seller                                                         Dealer   \n",
       "seats                                                            5.00   \n",
       "engine_size                                                      1.00   \n",
       "gears                                                            9.00   \n",
       "co_emissions                                                     0.00   \n",
       "drivetrain                                                        NaN   \n",
       "cylinders                                                         NaN   \n",
       "comfort_&_convenience                                             NaN   \n",
       "entertainment_&_media                                             NaN   \n",
       "safety_&_security                                                 NaN   \n",
       "extras                                                            NaN   \n",
       "empty_weight                                                      NaN   \n",
       "full_service_history                                               No   \n",
       "upholstery                                                        NaN   \n",
       "previous_owner                                                    NaN   \n",
       "energy_efficiency_class                                           NaN   \n",
       "age                                                              0.00   \n",
       "power_kW                                                       215.00   \n",
       "power_hp                                                       292.00   \n",
       "cons_avg                                                          NaN   \n",
       "cons_city                                                         NaN   \n",
       "cons_country                                                      NaN   \n",
       "\n",
       "                                                                         2  \\\n",
       "make_model                                          Mercedes-Benz A 45 AMG   \n",
       "make                                                         Mercedes-Benz   \n",
       "location                 PORT. TARRACO, MOLL DE LLEVANT, Nº 5, LOC. 6-8...   \n",
       "price                                                             69900.00   \n",
       "body_type                                                          Compact   \n",
       "type                                                                  Used   \n",
       "doors                                                                    5   \n",
       "warranty                                                             12.00   \n",
       "mileage                                                           18900.00   \n",
       "gearbox                                                          Automatic   \n",
       "fuel_type                                                          Benzine   \n",
       "seller                                                              Dealer   \n",
       "seats                                                                 5.00   \n",
       "engine_size                                                        1991.00   \n",
       "gears                                                                 8.00   \n",
       "co_emissions                                                           NaN   \n",
       "drivetrain                                                             4WD   \n",
       "cylinders                                                             4.00   \n",
       "comfort_&_convenience                                                  NaN   \n",
       "entertainment_&_media                                                  NaN   \n",
       "safety_&_security                                                      NaN   \n",
       "extras                                                                 NaN   \n",
       "empty_weight                                                           NaN   \n",
       "full_service_history                                                    No   \n",
       "upholstery                                                             NaN   \n",
       "previous_owner                                                         NaN   \n",
       "energy_efficiency_class                                                NaN   \n",
       "age                                                                   2.00   \n",
       "power_kW                                                            310.00   \n",
       "power_hp                                                            421.00   \n",
       "cons_avg                                                              8.40   \n",
       "cons_city                                                            10.90   \n",
       "cons_country                                                          5.80   \n",
       "\n",
       "                                                                         3  \\\n",
       "make_model                                          Mercedes-Benz A 35 AMG   \n",
       "make                                                         Mercedes-Benz   \n",
       "location                 Carrer de Provença, 31 Local,  8029 BARCELONA, ES   \n",
       "price                                                             46990.00   \n",
       "body_type                                                          Compact   \n",
       "type                                                                  Used   \n",
       "doors                                                                    5   \n",
       "warranty                                                             12.00   \n",
       "mileage                                                           18995.00   \n",
       "gearbox                                                          Automatic   \n",
       "fuel_type                                                          Benzine   \n",
       "seller                                                              Dealer   \n",
       "seats                                                                 5.00   \n",
       "engine_size                                                        1991.00   \n",
       "gears                                                                 7.00   \n",
       "co_emissions                                                           NaN   \n",
       "drivetrain                                                             4WD   \n",
       "cylinders                                                             4.00   \n",
       "comfort_&_convenience    Air conditioning, Automatic climate control, P...   \n",
       "entertainment_&_media                                                  USB   \n",
       "safety_&_security        ABS, Central door lock, Driver-side airbag, El...   \n",
       "extras                                                         Sport seats   \n",
       "empty_weight                                                           NaN   \n",
       "full_service_history                                                    No   \n",
       "upholstery                                                             NaN   \n",
       "previous_owner                                                         NaN   \n",
       "energy_efficiency_class                                                NaN   \n",
       "age                                                                   2.00   \n",
       "power_kW                                                            225.00   \n",
       "power_hp                                                            306.00   \n",
       "cons_avg                                                              7.30   \n",
       "cons_city                                                             9.30   \n",
       "cons_country                                                          6.10   \n",
       "\n",
       "                                                                         4  \n",
       "make_model                                          Mercedes-Benz A 45 AMG  \n",
       "make                                                         Mercedes-Benz  \n",
       "location                            CARRIL ARAGONES 4,  30007 CASILLAS, ES  \n",
       "price                                                             16800.00  \n",
       "body_type                                                          Compact  \n",
       "type                                                                  Used  \n",
       "doors                                                                    5  \n",
       "warranty                                                             12.00  \n",
       "mileage                                                          197000.00  \n",
       "gearbox                                                          Automatic  \n",
       "fuel_type                                                           Diesel  \n",
       "seller                                                              Dealer  \n",
       "seats                                                                 5.00  \n",
       "engine_size                                                        2143.00  \n",
       "gears                                                                 7.00  \n",
       "co_emissions                                                           NaN  \n",
       "drivetrain                                                             4WD  \n",
       "cylinders                                                             4.00  \n",
       "comfort_&_convenience    Air conditioning, Electrical side mirrors, Mul...  \n",
       "entertainment_&_media                       Bluetooth, CD player, MP3, USB  \n",
       "safety_&_security        ABS, Central door lock, Driver-side airbag, El...  \n",
       "extras                                                                 NaN  \n",
       "empty_weight                                                       1545.00  \n",
       "full_service_history                                                    No  \n",
       "upholstery                                                             NaN  \n",
       "previous_owner                                                         NaN  \n",
       "energy_efficiency_class                                                NaN  \n",
       "age                                                                   7.00  \n",
       "power_kW                                                            100.00  \n",
       "power_hp                                                            136.00  \n",
       "cons_avg                                                              4.90  \n",
       "cons_city                                                             5.70  \n",
       "cons_country                                                          4.40  "
      ]
     },
     "execution_count": 217,
     "metadata": {},
     "output_type": "execute_result"
    }
   ],
   "source": [
    "df.head().T"
   ]
  },
  {
   "cell_type": "code",
   "execution_count": 218,
   "id": "9260e1a9",
   "metadata": {},
   "outputs": [
    {
     "name": "stdout",
     "output_type": "stream",
     "text": [
      "<class 'pandas.core.frame.DataFrame'>\n",
      "RangeIndex: 28630 entries, 0 to 28629\n",
      "Data columns (total 33 columns):\n",
      " #   Column                   Non-Null Count  Dtype  \n",
      "---  ------                   --------------  -----  \n",
      " 0   make_model               28630 non-null  object \n",
      " 1   make                     28630 non-null  object \n",
      " 2   location                 28630 non-null  object \n",
      " 3   price                    28630 non-null  float64\n",
      " 4   body_type                28630 non-null  object \n",
      " 5   type                     28630 non-null  object \n",
      " 6   doors                    28271 non-null  object \n",
      " 7   warranty                 13465 non-null  float64\n",
      " 8   mileage                  28629 non-null  float64\n",
      " 9   gearbox                  28382 non-null  object \n",
      " 10  fuel_type                26843 non-null  object \n",
      " 11  seller                   28630 non-null  object \n",
      " 12  seats                    25505 non-null  float64\n",
      " 13  engine_size              27227 non-null  float64\n",
      " 14  gears                    18954 non-null  float64\n",
      " 15  co_emissions             18594 non-null  float64\n",
      " 16  drivetrain               16893 non-null  object \n",
      " 17  cylinders                18852 non-null  float64\n",
      " 18  comfort_&_convenience    25433 non-null  object \n",
      " 19  entertainment_&_media    23644 non-null  object \n",
      " 20  safety_&_security        25415 non-null  object \n",
      " 21  extras                   23480 non-null  object \n",
      " 22  empty_weight             17758 non-null  float64\n",
      " 23  full_service_history     28630 non-null  object \n",
      " 24  upholstery               18610 non-null  object \n",
      " 25  previous_owner           14015 non-null  object \n",
      " 26  energy_efficiency_class  7804 non-null   object \n",
      " 27  age                      28628 non-null  float64\n",
      " 28  power_kW                 28058 non-null  float64\n",
      " 29  power_hp                 28058 non-null  float64\n",
      " 30  cons_avg                 23385 non-null  float64\n",
      " 31  cons_city                20100 non-null  float64\n",
      " 32  cons_country             20100 non-null  float64\n",
      "dtypes: float64(15), object(18)\n",
      "memory usage: 7.2+ MB\n"
     ]
    }
   ],
   "source": [
    "df.info()"
   ]
  },
  {
   "cell_type": "code",
   "execution_count": 219,
   "id": "7a2967b0",
   "metadata": {},
   "outputs": [
    {
     "name": "stdout",
     "output_type": "stream",
     "text": [
      "Column \u001b[1m\u001b[91mdoors\u001b[0m has mixed object types.\n",
      "Column \u001b[1m\u001b[91mgearbox\u001b[0m has mixed object types.\n",
      "Column \u001b[1m\u001b[91mfuel_type\u001b[0m has mixed object types.\n",
      "Column \u001b[1m\u001b[91mdrivetrain\u001b[0m has mixed object types.\n",
      "Column \u001b[1m\u001b[91mcomfort_&_convenience\u001b[0m has mixed object types.\n",
      "Column \u001b[1m\u001b[91mentertainment_&_media\u001b[0m has mixed object types.\n",
      "Column \u001b[1m\u001b[91msafety_&_security\u001b[0m has mixed object types.\n",
      "Column \u001b[1m\u001b[91mextras\u001b[0m has mixed object types.\n",
      "Column \u001b[1m\u001b[91mupholstery\u001b[0m has mixed object types.\n",
      "Column \u001b[1m\u001b[91mprevious_owner\u001b[0m has mixed object types.\n",
      "Column \u001b[1m\u001b[91menergy_efficiency_class\u001b[0m has mixed object types.\n"
     ]
    }
   ],
   "source": [
    "class color:\n",
    "    PURPLE = '\\033[95m'\n",
    "    CYAN = '\\033[96m'\n",
    "    DARKCYAN = '\\033[36m'\n",
    "    BLUE = '\\033[94m'\n",
    "    GREEN = '\\033[92m'\n",
    "    YELLOW = '\\033[93m'\n",
    "    RED = '\\033[91m'\n",
    "    BOLD = '\\033[1m'\n",
    "    UNDERLINE = '\\033[4m'\n",
    "    END = '\\033[0m'\n",
    "\n",
    "def check_obj_columns(df):\n",
    "    '''\n",
    "    Returns NO PROBLEM or column/s which has/have mixed object types.\n",
    "    '''    \n",
    "    \n",
    "    tdf = df.select_dtypes(include=['object']).applymap(type)\n",
    "    for col in tdf:\n",
    "        if len(set(tdf[col].values)) > 1:\n",
    "            print(\"Column\" + \" \" + color.BOLD + color.RED + col + color.END + \" \" + \"has mixed object types.\" )\n",
    "    else:\n",
    "        if len(set(tdf[col].values)) == 1:\n",
    "            print(color.BOLD + color.GREEN + \" \" + \"NO PROBLEM\" + \" \" + color.END + \" \" + \"with the data types of Columns in the DataFrame.\")\n",
    "\n",
    "check_obj_columns(df)"
   ]
  },
  {
   "cell_type": "markdown",
   "id": "919920d4",
   "metadata": {},
   "source": [
    "# Let us save our dataset with a csv extension for further analysis (Handling Missing Values) in the following notebook:"
   ]
  },
  {
   "cell_type": "code",
   "execution_count": 220,
   "id": "5b27649a",
   "metadata": {},
   "outputs": [],
   "source": [
    "df.to_csv(\"clean_scout2022.csv\", index=False)"
   ]
  },
  {
   "cell_type": "code",
   "execution_count": 221,
   "id": "deb78c40",
   "metadata": {},
   "outputs": [
    {
     "data": {
      "text/html": [
       "<div>\n",
       "<style scoped>\n",
       "    .dataframe tbody tr th:only-of-type {\n",
       "        vertical-align: middle;\n",
       "    }\n",
       "\n",
       "    .dataframe tbody tr th {\n",
       "        vertical-align: top;\n",
       "    }\n",
       "\n",
       "    .dataframe thead th {\n",
       "        text-align: right;\n",
       "    }\n",
       "</style>\n",
       "<table border=\"1\" class=\"dataframe\">\n",
       "  <thead>\n",
       "    <tr style=\"text-align: right;\">\n",
       "      <th></th>\n",
       "      <th>make_model</th>\n",
       "      <th>make</th>\n",
       "      <th>location</th>\n",
       "      <th>price</th>\n",
       "      <th>body_type</th>\n",
       "      <th>type</th>\n",
       "      <th>doors</th>\n",
       "      <th>warranty</th>\n",
       "      <th>mileage</th>\n",
       "      <th>gearbox</th>\n",
       "      <th>...</th>\n",
       "      <th>full_service_history</th>\n",
       "      <th>upholstery</th>\n",
       "      <th>previous_owner</th>\n",
       "      <th>energy_efficiency_class</th>\n",
       "      <th>age</th>\n",
       "      <th>power_kW</th>\n",
       "      <th>power_hp</th>\n",
       "      <th>cons_avg</th>\n",
       "      <th>cons_city</th>\n",
       "      <th>cons_country</th>\n",
       "    </tr>\n",
       "  </thead>\n",
       "  <tbody>\n",
       "    <tr>\n",
       "      <th>0</th>\n",
       "      <td>Mercedes-Benz A 160</td>\n",
       "      <td>Mercedes-Benz</td>\n",
       "      <td>P.I. EL PALMAR C/FORJA 6,  11500 PUERTO DE SAN...</td>\n",
       "      <td>16950.00</td>\n",
       "      <td>Compact</td>\n",
       "      <td>Used</td>\n",
       "      <td>5</td>\n",
       "      <td>24.00</td>\n",
       "      <td>120200.00</td>\n",
       "      <td>Manual</td>\n",
       "      <td>...</td>\n",
       "      <td>No</td>\n",
       "      <td>NaN</td>\n",
       "      <td>NaN</td>\n",
       "      <td>NaN</td>\n",
       "      <td>6.00</td>\n",
       "      <td>NaN</td>\n",
       "      <td>NaN</td>\n",
       "      <td>NaN</td>\n",
       "      <td>NaN</td>\n",
       "      <td>NaN</td>\n",
       "    </tr>\n",
       "    <tr>\n",
       "      <th>1</th>\n",
       "      <td>Mercedes-Benz EQE 350</td>\n",
       "      <td>Mercedes-Benz</td>\n",
       "      <td>APARTADO DE CORREOS 1032,  26140 LOGROÑO, ES</td>\n",
       "      <td>80900.00</td>\n",
       "      <td>Compact</td>\n",
       "      <td>Pre-registered</td>\n",
       "      <td>4</td>\n",
       "      <td>24.00</td>\n",
       "      <td>5000.00</td>\n",
       "      <td>Automatic</td>\n",
       "      <td>...</td>\n",
       "      <td>No</td>\n",
       "      <td>NaN</td>\n",
       "      <td>NaN</td>\n",
       "      <td>NaN</td>\n",
       "      <td>0.00</td>\n",
       "      <td>215.00</td>\n",
       "      <td>292.00</td>\n",
       "      <td>NaN</td>\n",
       "      <td>NaN</td>\n",
       "      <td>NaN</td>\n",
       "    </tr>\n",
       "    <tr>\n",
       "      <th>2</th>\n",
       "      <td>Mercedes-Benz A 45 AMG</td>\n",
       "      <td>Mercedes-Benz</td>\n",
       "      <td>PORT. TARRACO, MOLL DE LLEVANT, Nº 5, LOC. 6-8...</td>\n",
       "      <td>69900.00</td>\n",
       "      <td>Compact</td>\n",
       "      <td>Used</td>\n",
       "      <td>5</td>\n",
       "      <td>12.00</td>\n",
       "      <td>18900.00</td>\n",
       "      <td>Automatic</td>\n",
       "      <td>...</td>\n",
       "      <td>No</td>\n",
       "      <td>NaN</td>\n",
       "      <td>NaN</td>\n",
       "      <td>NaN</td>\n",
       "      <td>2.00</td>\n",
       "      <td>310.00</td>\n",
       "      <td>421.00</td>\n",
       "      <td>8.40</td>\n",
       "      <td>10.90</td>\n",
       "      <td>5.80</td>\n",
       "    </tr>\n",
       "    <tr>\n",
       "      <th>3</th>\n",
       "      <td>Mercedes-Benz A 35 AMG</td>\n",
       "      <td>Mercedes-Benz</td>\n",
       "      <td>Carrer de Provença, 31 Local,  8029 BARCELONA, ES</td>\n",
       "      <td>46990.00</td>\n",
       "      <td>Compact</td>\n",
       "      <td>Used</td>\n",
       "      <td>5</td>\n",
       "      <td>12.00</td>\n",
       "      <td>18995.00</td>\n",
       "      <td>Automatic</td>\n",
       "      <td>...</td>\n",
       "      <td>No</td>\n",
       "      <td>NaN</td>\n",
       "      <td>NaN</td>\n",
       "      <td>NaN</td>\n",
       "      <td>2.00</td>\n",
       "      <td>225.00</td>\n",
       "      <td>306.00</td>\n",
       "      <td>7.30</td>\n",
       "      <td>9.30</td>\n",
       "      <td>6.10</td>\n",
       "    </tr>\n",
       "    <tr>\n",
       "      <th>4</th>\n",
       "      <td>Mercedes-Benz A 45 AMG</td>\n",
       "      <td>Mercedes-Benz</td>\n",
       "      <td>CARRIL ARAGONES 4,  30007 CASILLAS, ES</td>\n",
       "      <td>16800.00</td>\n",
       "      <td>Compact</td>\n",
       "      <td>Used</td>\n",
       "      <td>5</td>\n",
       "      <td>12.00</td>\n",
       "      <td>197000.00</td>\n",
       "      <td>Automatic</td>\n",
       "      <td>...</td>\n",
       "      <td>No</td>\n",
       "      <td>NaN</td>\n",
       "      <td>NaN</td>\n",
       "      <td>NaN</td>\n",
       "      <td>7.00</td>\n",
       "      <td>100.00</td>\n",
       "      <td>136.00</td>\n",
       "      <td>4.90</td>\n",
       "      <td>5.70</td>\n",
       "      <td>4.40</td>\n",
       "    </tr>\n",
       "  </tbody>\n",
       "</table>\n",
       "<p>5 rows × 33 columns</p>\n",
       "</div>"
      ],
      "text/plain": [
       "               make_model           make  \\\n",
       "0     Mercedes-Benz A 160  Mercedes-Benz   \n",
       "1   Mercedes-Benz EQE 350  Mercedes-Benz   \n",
       "2  Mercedes-Benz A 45 AMG  Mercedes-Benz   \n",
       "3  Mercedes-Benz A 35 AMG  Mercedes-Benz   \n",
       "4  Mercedes-Benz A 45 AMG  Mercedes-Benz   \n",
       "\n",
       "                                            location    price body_type  \\\n",
       "0  P.I. EL PALMAR C/FORJA 6,  11500 PUERTO DE SAN... 16950.00   Compact   \n",
       "1       APARTADO DE CORREOS 1032,  26140 LOGROÑO, ES 80900.00   Compact   \n",
       "2  PORT. TARRACO, MOLL DE LLEVANT, Nº 5, LOC. 6-8... 69900.00   Compact   \n",
       "3  Carrer de Provença, 31 Local,  8029 BARCELONA, ES 46990.00   Compact   \n",
       "4             CARRIL ARAGONES 4,  30007 CASILLAS, ES 16800.00   Compact   \n",
       "\n",
       "             type doors  warranty   mileage    gearbox  ...  \\\n",
       "0            Used     5     24.00 120200.00     Manual  ...   \n",
       "1  Pre-registered     4     24.00   5000.00  Automatic  ...   \n",
       "2            Used     5     12.00  18900.00  Automatic  ...   \n",
       "3            Used     5     12.00  18995.00  Automatic  ...   \n",
       "4            Used     5     12.00 197000.00  Automatic  ...   \n",
       "\n",
       "  full_service_history upholstery  previous_owner  energy_efficiency_class  \\\n",
       "0                   No        NaN             NaN                      NaN   \n",
       "1                   No        NaN             NaN                      NaN   \n",
       "2                   No        NaN             NaN                      NaN   \n",
       "3                   No        NaN             NaN                      NaN   \n",
       "4                   No        NaN             NaN                      NaN   \n",
       "\n",
       "   age  power_kW power_hp  cons_avg cons_city cons_country  \n",
       "0 6.00       NaN      NaN       NaN       NaN          NaN  \n",
       "1 0.00    215.00   292.00       NaN       NaN          NaN  \n",
       "2 2.00    310.00   421.00      8.40     10.90         5.80  \n",
       "3 2.00    225.00   306.00      7.30      9.30         6.10  \n",
       "4 7.00    100.00   136.00      4.90      5.70         4.40  \n",
       "\n",
       "[5 rows x 33 columns]"
      ]
     },
     "execution_count": 221,
     "metadata": {},
     "output_type": "execute_result"
    }
   ],
   "source": [
    "df.head()"
   ]
  }
 ],
 "metadata": {
  "kernelspec": {
   "display_name": "Python 3 (ipykernel)",
   "language": "python",
   "name": "python3"
  },
  "language_info": {
   "codemirror_mode": {
    "name": "ipython",
    "version": 3
   },
   "file_extension": ".py",
   "mimetype": "text/x-python",
   "name": "python",
   "nbconvert_exporter": "python",
   "pygments_lexer": "ipython3",
   "version": "3.9.12"
  }
 },
 "nbformat": 4,
 "nbformat_minor": 5
}
